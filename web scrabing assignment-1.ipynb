{
 "cells": [
  {
   "cell_type": "markdown",
   "id": "b368d418",
   "metadata": {},
   "source": [
    "# install libraries\n"
   ]
  },
  {
   "cell_type": "code",
   "execution_count": 1,
   "id": "a9a4c5a2",
   "metadata": {},
   "outputs": [
    {
     "name": "stdout",
     "output_type": "stream",
     "text": [
      "Requirement already satisfied: bs4 in c:\\programdata\\anaconda3\\lib\\site-packages (0.0.1)\n",
      "Requirement already satisfied: beautifulsoup4 in c:\\programdata\\anaconda3\\lib\\site-packages (from bs4) (4.11.1)\n",
      "Requirement already satisfied: soupsieve>1.2 in c:\\programdata\\anaconda3\\lib\\site-packages (from beautifulsoup4->bs4) (2.3.1)\n",
      "Requirement already satisfied: requests in c:\\programdata\\anaconda3\\lib\\site-packages (2.28.1)\n",
      "Requirement already satisfied: certifi>=2017.4.17 in c:\\programdata\\anaconda3\\lib\\site-packages (from requests) (2022.9.14)\n",
      "Requirement already satisfied: charset-normalizer<3,>=2 in c:\\programdata\\anaconda3\\lib\\site-packages (from requests) (2.0.4)\n",
      "Requirement already satisfied: urllib3<1.27,>=1.21.1 in c:\\programdata\\anaconda3\\lib\\site-packages (from requests) (1.26.11)\n",
      "Requirement already satisfied: idna<4,>=2.5 in c:\\programdata\\anaconda3\\lib\\site-packages (from requests) (3.3)\n"
     ]
    }
   ],
   "source": [
    "!pip install bs4 \n",
    "!pip install requests"
   ]
  },
  {
   "cell_type": "markdown",
   "id": "2404a394",
   "metadata": {},
   "source": [
    "# import required libraries\n"
   ]
  },
  {
   "cell_type": "markdown",
   "id": "24304b56",
   "metadata": {},
   "source": [
    "# ANS. 1"
   ]
  },
  {
   "cell_type": "code",
   "execution_count": 544,
   "id": "099b8900",
   "metadata": {},
   "outputs": [],
   "source": [
    "import requests \n",
    "from bs4 import BeautifulSoup\n",
    "import pandas as pd"
   ]
  },
  {
   "cell_type": "code",
   "execution_count": 545,
   "id": "23e124f4",
   "metadata": {},
   "outputs": [],
   "source": [
    "url = 'https://en.wikipedia.org/wiki/Main_Page'"
   ]
  },
  {
   "cell_type": "code",
   "execution_count": 546,
   "id": "d0ed678d",
   "metadata": {},
   "outputs": [],
   "source": [
    "response = requests.get(url)"
   ]
  },
  {
   "cell_type": "code",
   "execution_count": 547,
   "id": "dff6f76b",
   "metadata": {},
   "outputs": [
    {
     "data": {
      "text/plain": [
       "<Response [200]>"
      ]
     },
     "execution_count": 547,
     "metadata": {},
     "output_type": "execute_result"
    }
   ],
   "source": [
    "response"
   ]
  },
  {
   "cell_type": "code",
   "execution_count": 548,
   "id": "614d105d",
   "metadata": {},
   "outputs": [],
   "source": [
    "soup = BeautifulSoup(response.content,'html.parser')"
   ]
  },
  {
   "cell_type": "code",
   "execution_count": 549,
   "id": "fc241b41",
   "metadata": {},
   "outputs": [],
   "source": [
    "header_tags = soup.find_all(['h1','h2','h3','h4','h5','h6'])"
   ]
  },
  {
   "cell_type": "code",
   "execution_count": 550,
   "id": "d1cdc538",
   "metadata": {},
   "outputs": [
    {
     "name": "stdout",
     "output_type": "stream",
     "text": [
      "header tags :\n",
      "\n",
      "<h1 class=\"firstHeading mw-first-heading\" id=\"firstHeading\" style=\"display: none\"><span class=\"mw-page-title-main\">Main Page</span></h1>\n",
      "\n",
      "<h1><span class=\"mw-headline\" id=\"Welcome_to_Wikipedia\">Welcome to <a href=\"/wiki/Wikipedia\" title=\"Wikipedia\">Wikipedia</a></span></h1>\n",
      "\n",
      "<h2 class=\"mp-h2\" id=\"mp-tfa-h2\"><span id=\"From_today.27s_featured_article\"></span><span class=\"mw-headline\" id=\"From_today's_featured_article\">From today's featured article</span></h2>\n",
      "\n",
      "<h2 class=\"mp-h2\" id=\"mp-dyk-h2\"><span class=\"mw-headline\" id=\"Did_you_know_...\">Did you know ...</span></h2>\n",
      "\n",
      "<h2 class=\"mp-h2\" id=\"mp-itn-h2\"><span class=\"mw-headline\" id=\"In_the_news\">In the news</span></h2>\n",
      "\n",
      "<h2 class=\"mp-h2\" id=\"mp-otd-h2\"><span class=\"mw-headline\" id=\"On_this_day\">On this day</span></h2>\n",
      "\n",
      "<h2 class=\"mp-h2\" id=\"mp-tfp-h2\"><span id=\"Today.27s_featured_picture\"></span><span class=\"mw-headline\" id=\"Today's_featured_picture\">Today's featured picture</span></h2>\n",
      "\n",
      "<h2 class=\"mp-h2\" id=\"mp-other\"><span class=\"mw-headline\" id=\"Other_areas_of_Wikipedia\">Other areas of Wikipedia</span></h2>\n",
      "\n",
      "<h2 class=\"mp-h2\" id=\"mp-sister\"><span id=\"Wikipedia.27s_sister_projects\"></span><span class=\"mw-headline\" id=\"Wikipedia's_sister_projects\">Wikipedia's sister projects</span></h2>\n",
      "\n",
      "<h2 class=\"mp-h2\" id=\"mp-lang\"><span class=\"mw-headline\" id=\"Wikipedia_languages\">Wikipedia languages</span></h2>\n"
     ]
    }
   ],
   "source": [
    "print('header tags :', *header_tags, sep='\\n\\n')"
   ]
  },
  {
   "cell_type": "code",
   "execution_count": 551,
   "id": "b199fb4e",
   "metadata": {},
   "outputs": [],
   "source": [
    "header_texts = [tag.text.strip() for tag in header_tags]"
   ]
  },
  {
   "cell_type": "code",
   "execution_count": 552,
   "id": "b6d14868",
   "metadata": {},
   "outputs": [
    {
     "data": {
      "text/html": [
       "<div>\n",
       "<style scoped>\n",
       "    .dataframe tbody tr th:only-of-type {\n",
       "        vertical-align: middle;\n",
       "    }\n",
       "\n",
       "    .dataframe tbody tr th {\n",
       "        vertical-align: top;\n",
       "    }\n",
       "\n",
       "    .dataframe thead th {\n",
       "        text-align: right;\n",
       "    }\n",
       "</style>\n",
       "<table border=\"1\" class=\"dataframe\">\n",
       "  <thead>\n",
       "    <tr style=\"text-align: right;\">\n",
       "      <th></th>\n",
       "      <th>Headers</th>\n",
       "    </tr>\n",
       "  </thead>\n",
       "  <tbody>\n",
       "    <tr>\n",
       "      <th>0</th>\n",
       "      <td>Main Page</td>\n",
       "    </tr>\n",
       "    <tr>\n",
       "      <th>1</th>\n",
       "      <td>Welcome to Wikipedia</td>\n",
       "    </tr>\n",
       "    <tr>\n",
       "      <th>2</th>\n",
       "      <td>From today's featured article</td>\n",
       "    </tr>\n",
       "    <tr>\n",
       "      <th>3</th>\n",
       "      <td>Did you know ...</td>\n",
       "    </tr>\n",
       "    <tr>\n",
       "      <th>4</th>\n",
       "      <td>In the news</td>\n",
       "    </tr>\n",
       "    <tr>\n",
       "      <th>5</th>\n",
       "      <td>On this day</td>\n",
       "    </tr>\n",
       "    <tr>\n",
       "      <th>6</th>\n",
       "      <td>Today's featured picture</td>\n",
       "    </tr>\n",
       "    <tr>\n",
       "      <th>7</th>\n",
       "      <td>Other areas of Wikipedia</td>\n",
       "    </tr>\n",
       "    <tr>\n",
       "      <th>8</th>\n",
       "      <td>Wikipedia's sister projects</td>\n",
       "    </tr>\n",
       "    <tr>\n",
       "      <th>9</th>\n",
       "      <td>Wikipedia languages</td>\n",
       "    </tr>\n",
       "  </tbody>\n",
       "</table>\n",
       "</div>"
      ],
      "text/plain": [
       "                         Headers\n",
       "0                      Main Page\n",
       "1           Welcome to Wikipedia\n",
       "2  From today's featured article\n",
       "3               Did you know ...\n",
       "4                    In the news\n",
       "5                    On this day\n",
       "6       Today's featured picture\n",
       "7       Other areas of Wikipedia\n",
       "8    Wikipedia's sister projects\n",
       "9            Wikipedia languages"
      ]
     },
     "execution_count": 552,
     "metadata": {},
     "output_type": "execute_result"
    }
   ],
   "source": [
    "df = pd.DataFrame({'Headers': header_texts})\n",
    "df"
   ]
  },
  {
   "cell_type": "code",
   "execution_count": null,
   "id": "0526b766",
   "metadata": {},
   "outputs": [],
   "source": []
  },
  {
   "cell_type": "markdown",
   "id": "d1445f74",
   "metadata": {},
   "source": [
    "# ANS. 2"
   ]
  },
  {
   "cell_type": "code",
   "execution_count": 612,
   "id": "7b210979",
   "metadata": {},
   "outputs": [],
   "source": [
    "import requests \n",
    "from bs4 import BeautifulSoup\n",
    "import pandas as pd"
   ]
  },
  {
   "cell_type": "code",
   "execution_count": 613,
   "id": "ef299b85",
   "metadata": {},
   "outputs": [],
   "source": [
    "url = \"https://presidentofindia.nic.in/\""
   ]
  },
  {
   "cell_type": "code",
   "execution_count": 614,
   "id": "6cf9aa88",
   "metadata": {},
   "outputs": [],
   "source": [
    "response = requests.get(url)"
   ]
  },
  {
   "cell_type": "code",
   "execution_count": 615,
   "id": "402a30cf",
   "metadata": {},
   "outputs": [
    {
     "data": {
      "text/plain": [
       "<Response [200]>"
      ]
     },
     "execution_count": 615,
     "metadata": {},
     "output_type": "execute_result"
    }
   ],
   "source": [
    "response"
   ]
  },
  {
   "cell_type": "code",
   "execution_count": 616,
   "id": "cbc13802",
   "metadata": {},
   "outputs": [],
   "source": [
    "soup = BeautifulSoup(response.content)"
   ]
  },
  {
   "cell_type": "code",
   "execution_count": 617,
   "id": "f3178a8a",
   "metadata": {},
   "outputs": [
    {
     "data": {
      "text/plain": [
       "['Shri Ram Nath Kovind',\n",
       " 'Shri Pranab Mukherjee',\n",
       " 'Smt Pratibha Devisingh Patil',\n",
       " 'DR. A.P.J. Abdul Kalam',\n",
       " 'Shri K. R. Narayanan',\n",
       " 'Dr Shankar Dayal Sharma',\n",
       " 'Shri R Venkataraman',\n",
       " 'Giani Zail Singh',\n",
       " 'Shri Neelam Sanjiva Reddy',\n",
       " 'Dr. Fakhruddin Ali Ahmed',\n",
       " 'Shri Varahagiri Venkata Giri',\n",
       " 'Dr. Zakir Husain',\n",
       " 'Dr. Sarvepalli Radhakrishnan',\n",
       " 'Dr. Rajendra Prasad',\n",
       " 'Shri Ram Nath Kovind',\n",
       " 'Shri Pranab Mukherjee',\n",
       " 'Smt Pratibha Devisingh Patil',\n",
       " 'DR. A.P.J. Abdul Kalam',\n",
       " 'Shri K. R. Narayanan',\n",
       " 'Dr Shankar Dayal Sharma',\n",
       " 'Shri R Venkataraman',\n",
       " 'Giani Zail Singh',\n",
       " 'Shri Neelam Sanjiva Reddy',\n",
       " 'Dr. Fakhruddin Ali Ahmed',\n",
       " 'Shri Varahagiri Venkata Giri',\n",
       " 'Dr. Zakir Husain',\n",
       " 'Dr. Sarvepalli Radhakrishnan',\n",
       " 'Dr. Rajendra Prasad']"
      ]
     },
     "execution_count": 617,
     "metadata": {},
     "output_type": "execute_result"
    }
   ],
   "source": [
    "presidents_name=[]\n",
    "\n",
    "for i in soup.find_all('h3'):\n",
    "    presidents_name.append(i.text.split(\"(\")[0])\n",
    "    \n",
    "presidents_name"
   ]
  },
  {
   "cell_type": "code",
   "execution_count": 618,
   "id": "0a4552ce",
   "metadata": {},
   "outputs": [
    {
     "data": {
      "text/plain": [
       "['Smt. Droupadi Murmu was sworn in as the 15th President of India on 25 July, 2022. Previously, she was the Governor of Jharkhand from 2015 to 2021.',\n",
       " 'no-text\\xa0 Read More',\n",
       " 'A group of 213 probationers of Indian Railways (… ',\n",
       " 'The President of India, Smt Droupadi Murmu… ',\n",
       " 'Ram Nath Kovind is an Indian politician and lawyer who served as the 14th president of…',\n",
       " 'Pranab Mukherjee BR (11 December 1935 – 31 August 2020) was an Indian politician and…',\n",
       " 'Prathibha Devisingh Patil is an Indian politician and lawyer who served as the 12th…',\n",
       " 'Avul Pakir Jainulabdeen Abdul Kalam BR was an Indian aerospace scientist and statesman…',\n",
       " 'Kocheril Raman Narayanan (27 October 1920 – 9 November 2005) was an Indian statesman,…',\n",
       " 'Ramaswamy Venkataraman 4 December 1910 – 27 January 2009)was an Indian lawyer, Indian…',\n",
       " 'Giani Zail Singh born Jarnail Singh; (5 May 1916 – 25 December 1994) was an Indian…',\n",
       " 'Neelam Sanjiva Reddy (19 May 1913 – 1 June 1996) was an Indian politician who served…',\n",
       " 'Fakhruddin Ali Ahmed (13 May 1905 – 11 February 1977) was an Indian lawyer and…',\n",
       " 'Varahagiri Venkata Giri (10 August 1894 – 24 June 1980) was an Indian politician and…',\n",
       " 'Zakir Husain Khan (8 February 1897 – 3 May 1969) known as Dr. Zakir Husain, was an…',\n",
       " 'Sarvepalli Radhakrishnan OM (5 September 1888 – 17 April 1975), natively…',\n",
       " 'Rajendra Prasad (3 December 1884 – 28 February 1963) was an Indian politician, lawyer…',\n",
       " 'Ram Nath Kovind is an Indian politician and lawyer who served as the 14th president of… ',\n",
       " 'Pranab Mukherjee BR (11 December 1935 – 31 August 2020) was an Indian politician and… ',\n",
       " 'Prathibha Devisingh Patil is an Indian politician and lawyer who served as the 12th… ',\n",
       " 'Avul Pakir Jainulabdeen Abdul Kalam BR was an Indian aerospace scientist and statesman… ',\n",
       " 'Kocheril Raman Narayanan (27 October 1920 – 9 November 2005) was an Indian statesman,… ',\n",
       " 'Ramaswamy Venkataraman 4 December 1910 – 27 January 2009)was an Indian lawyer, Indian… ',\n",
       " 'Giani Zail Singh born Jarnail Singh; (5 May 1916 – 25 December 1994) was an Indian… ',\n",
       " 'Neelam Sanjiva Reddy (19 May 1913 – 1 June 1996) was an Indian politician who served… ',\n",
       " 'Fakhruddin Ali Ahmed (13 May 1905 – 11 February 1977) was an Indian lawyer and… ',\n",
       " 'Varahagiri Venkata Giri (10 August 1894 – 24 June 1980) was an Indian politician and… ',\n",
       " 'Zakir Husain Khan (8 February 1897 – 3 May 1969) known as Dr. Zakir Husain, was an… ',\n",
       " 'Sarvepalli Radhakrishnan OM (5 September 1888 – 17 April 1975), natively… ',\n",
       " 'Rajendra Prasad (3 December 1884 – 28 February 1963) was an Indian politician, lawyer… ',\n",
       " \"Website hosted by National Informatics Centre. Website Content provided by the President's Secretariat.\",\n",
       " ' ',\n",
       " 'Page Last Updated on']"
      ]
     },
     "execution_count": 618,
     "metadata": {},
     "output_type": "execute_result"
    }
   ],
   "source": [
    "presidents_term=[]\n",
    "\n",
    "for i in soup.find_all('p',class_=\"\"):\n",
    "    presidents_term.append(i.text.split(\":\")[0])\n",
    "\n",
    "ind2remove=[1,3,5,7]\n",
    "\n",
    "for i in sorted(ind2remove,reverse=True):\n",
    "    del presidents_term[i]\n",
    "    \n",
    "presidents_term"
   ]
  },
  {
   "cell_type": "code",
   "execution_count": 667,
   "id": "d4d330da",
   "metadata": {},
   "outputs": [
    {
     "data": {
      "text/html": [
       "<div>\n",
       "<style scoped>\n",
       "    .dataframe tbody tr th:only-of-type {\n",
       "        vertical-align: middle;\n",
       "    }\n",
       "\n",
       "    .dataframe tbody tr th {\n",
       "        vertical-align: top;\n",
       "    }\n",
       "\n",
       "    .dataframe thead th {\n",
       "        text-align: right;\n",
       "    }\n",
       "</style>\n",
       "<table border=\"1\" class=\"dataframe\">\n",
       "  <thead>\n",
       "    <tr style=\"text-align: right;\">\n",
       "      <th></th>\n",
       "      <th>President Name</th>\n",
       "    </tr>\n",
       "  </thead>\n",
       "  <tbody>\n",
       "    <tr>\n",
       "      <th>0</th>\n",
       "      <td>Shri Ram Nath Kovind</td>\n",
       "    </tr>\n",
       "    <tr>\n",
       "      <th>1</th>\n",
       "      <td>Shri Pranab Mukherjee</td>\n",
       "    </tr>\n",
       "    <tr>\n",
       "      <th>2</th>\n",
       "      <td>Smt Pratibha Devisingh Patil</td>\n",
       "    </tr>\n",
       "    <tr>\n",
       "      <th>3</th>\n",
       "      <td>DR. A.P.J. Abdul Kalam</td>\n",
       "    </tr>\n",
       "    <tr>\n",
       "      <th>4</th>\n",
       "      <td>Shri K. R. Narayanan</td>\n",
       "    </tr>\n",
       "    <tr>\n",
       "      <th>5</th>\n",
       "      <td>Dr Shankar Dayal Sharma</td>\n",
       "    </tr>\n",
       "    <tr>\n",
       "      <th>6</th>\n",
       "      <td>Shri R Venkataraman</td>\n",
       "    </tr>\n",
       "    <tr>\n",
       "      <th>7</th>\n",
       "      <td>Giani Zail Singh</td>\n",
       "    </tr>\n",
       "    <tr>\n",
       "      <th>8</th>\n",
       "      <td>Shri Neelam Sanjiva Reddy</td>\n",
       "    </tr>\n",
       "    <tr>\n",
       "      <th>9</th>\n",
       "      <td>Dr. Fakhruddin Ali Ahmed</td>\n",
       "    </tr>\n",
       "    <tr>\n",
       "      <th>10</th>\n",
       "      <td>Shri Varahagiri Venkata Giri</td>\n",
       "    </tr>\n",
       "    <tr>\n",
       "      <th>11</th>\n",
       "      <td>Dr. Zakir Husain</td>\n",
       "    </tr>\n",
       "    <tr>\n",
       "      <th>12</th>\n",
       "      <td>Dr. Sarvepalli Radhakrishnan</td>\n",
       "    </tr>\n",
       "    <tr>\n",
       "      <th>13</th>\n",
       "      <td>Dr. Rajendra Prasad</td>\n",
       "    </tr>\n",
       "    <tr>\n",
       "      <th>14</th>\n",
       "      <td>Shri Ram Nath Kovind</td>\n",
       "    </tr>\n",
       "    <tr>\n",
       "      <th>15</th>\n",
       "      <td>Shri Pranab Mukherjee</td>\n",
       "    </tr>\n",
       "    <tr>\n",
       "      <th>16</th>\n",
       "      <td>Smt Pratibha Devisingh Patil</td>\n",
       "    </tr>\n",
       "    <tr>\n",
       "      <th>17</th>\n",
       "      <td>DR. A.P.J. Abdul Kalam</td>\n",
       "    </tr>\n",
       "    <tr>\n",
       "      <th>18</th>\n",
       "      <td>Shri K. R. Narayanan</td>\n",
       "    </tr>\n",
       "    <tr>\n",
       "      <th>19</th>\n",
       "      <td>Dr Shankar Dayal Sharma</td>\n",
       "    </tr>\n",
       "    <tr>\n",
       "      <th>20</th>\n",
       "      <td>Shri R Venkataraman</td>\n",
       "    </tr>\n",
       "    <tr>\n",
       "      <th>21</th>\n",
       "      <td>Giani Zail Singh</td>\n",
       "    </tr>\n",
       "    <tr>\n",
       "      <th>22</th>\n",
       "      <td>Shri Neelam Sanjiva Reddy</td>\n",
       "    </tr>\n",
       "    <tr>\n",
       "      <th>23</th>\n",
       "      <td>Dr. Fakhruddin Ali Ahmed</td>\n",
       "    </tr>\n",
       "    <tr>\n",
       "      <th>24</th>\n",
       "      <td>Shri Varahagiri Venkata Giri</td>\n",
       "    </tr>\n",
       "    <tr>\n",
       "      <th>25</th>\n",
       "      <td>Dr. Zakir Husain</td>\n",
       "    </tr>\n",
       "    <tr>\n",
       "      <th>26</th>\n",
       "      <td>Dr. Sarvepalli Radhakrishnan</td>\n",
       "    </tr>\n",
       "    <tr>\n",
       "      <th>27</th>\n",
       "      <td>Dr. Rajendra Prasad</td>\n",
       "    </tr>\n",
       "  </tbody>\n",
       "</table>\n",
       "</div>"
      ],
      "text/plain": [
       "                  President Name\n",
       "0           Shri Ram Nath Kovind\n",
       "1          Shri Pranab Mukherjee\n",
       "2   Smt Pratibha Devisingh Patil\n",
       "3         DR. A.P.J. Abdul Kalam\n",
       "4           Shri K. R. Narayanan\n",
       "5        Dr Shankar Dayal Sharma\n",
       "6            Shri R Venkataraman\n",
       "7               Giani Zail Singh\n",
       "8      Shri Neelam Sanjiva Reddy\n",
       "9       Dr. Fakhruddin Ali Ahmed\n",
       "10  Shri Varahagiri Venkata Giri\n",
       "11              Dr. Zakir Husain\n",
       "12  Dr. Sarvepalli Radhakrishnan\n",
       "13           Dr. Rajendra Prasad\n",
       "14          Shri Ram Nath Kovind\n",
       "15         Shri Pranab Mukherjee\n",
       "16  Smt Pratibha Devisingh Patil\n",
       "17        DR. A.P.J. Abdul Kalam\n",
       "18          Shri K. R. Narayanan\n",
       "19       Dr Shankar Dayal Sharma\n",
       "20           Shri R Venkataraman\n",
       "21              Giani Zail Singh\n",
       "22     Shri Neelam Sanjiva Reddy\n",
       "23      Dr. Fakhruddin Ali Ahmed\n",
       "24  Shri Varahagiri Venkata Giri\n",
       "25              Dr. Zakir Husain\n",
       "26  Dr. Sarvepalli Radhakrishnan\n",
       "27           Dr. Rajendra Prasad"
      ]
     },
     "execution_count": 667,
     "metadata": {},
     "output_type": "execute_result"
    }
   ],
   "source": [
    "president = {'President Name': presidents_name}\n",
    "df= pd.DataFrame(president)\n",
    "df"
   ]
  },
  {
   "cell_type": "code",
   "execution_count": 627,
   "id": "0afaa37d",
   "metadata": {},
   "outputs": [
    {
     "data": {
      "text/html": [
       "<div>\n",
       "<style scoped>\n",
       "    .dataframe tbody tr th:only-of-type {\n",
       "        vertical-align: middle;\n",
       "    }\n",
       "\n",
       "    .dataframe tbody tr th {\n",
       "        vertical-align: top;\n",
       "    }\n",
       "\n",
       "    .dataframe thead th {\n",
       "        text-align: right;\n",
       "    }\n",
       "</style>\n",
       "<table border=\"1\" class=\"dataframe\">\n",
       "  <thead>\n",
       "    <tr style=\"text-align: right;\">\n",
       "      <th></th>\n",
       "      <th>Term Of Office</th>\n",
       "    </tr>\n",
       "  </thead>\n",
       "  <tbody>\n",
       "    <tr>\n",
       "      <th>0</th>\n",
       "      <td>Smt. Droupadi Murmu was sworn in as the 15th P...</td>\n",
       "    </tr>\n",
       "    <tr>\n",
       "      <th>1</th>\n",
       "      <td>no-text  Read More</td>\n",
       "    </tr>\n",
       "    <tr>\n",
       "      <th>2</th>\n",
       "      <td>A group of 213 probationers of Indian Railways...</td>\n",
       "    </tr>\n",
       "    <tr>\n",
       "      <th>3</th>\n",
       "      <td>The President of India, Smt Droupadi Murmu…</td>\n",
       "    </tr>\n",
       "    <tr>\n",
       "      <th>4</th>\n",
       "      <td>Ram Nath Kovind is an Indian politician and la...</td>\n",
       "    </tr>\n",
       "    <tr>\n",
       "      <th>5</th>\n",
       "      <td>Pranab Mukherjee BR (11 December 1935 – 31 Aug...</td>\n",
       "    </tr>\n",
       "    <tr>\n",
       "      <th>6</th>\n",
       "      <td>Prathibha Devisingh Patil is an Indian politic...</td>\n",
       "    </tr>\n",
       "    <tr>\n",
       "      <th>7</th>\n",
       "      <td>Avul Pakir Jainulabdeen Abdul Kalam BR was an ...</td>\n",
       "    </tr>\n",
       "    <tr>\n",
       "      <th>8</th>\n",
       "      <td>Kocheril Raman Narayanan (27 October 1920 – 9 ...</td>\n",
       "    </tr>\n",
       "    <tr>\n",
       "      <th>9</th>\n",
       "      <td>Ramaswamy Venkataraman 4 December 1910 – 27 Ja...</td>\n",
       "    </tr>\n",
       "    <tr>\n",
       "      <th>10</th>\n",
       "      <td>Giani Zail Singh born Jarnail Singh; (5 May 19...</td>\n",
       "    </tr>\n",
       "    <tr>\n",
       "      <th>11</th>\n",
       "      <td>Neelam Sanjiva Reddy (19 May 1913 – 1 June 199...</td>\n",
       "    </tr>\n",
       "    <tr>\n",
       "      <th>12</th>\n",
       "      <td>Fakhruddin Ali Ahmed (13 May 1905 – 11 Februar...</td>\n",
       "    </tr>\n",
       "    <tr>\n",
       "      <th>13</th>\n",
       "      <td>Varahagiri Venkata Giri (10 August 1894 – 24 J...</td>\n",
       "    </tr>\n",
       "    <tr>\n",
       "      <th>14</th>\n",
       "      <td>Zakir Husain Khan (8 February 1897 – 3 May 196...</td>\n",
       "    </tr>\n",
       "    <tr>\n",
       "      <th>15</th>\n",
       "      <td>Sarvepalli Radhakrishnan OM (5 September 1888 ...</td>\n",
       "    </tr>\n",
       "    <tr>\n",
       "      <th>16</th>\n",
       "      <td>Rajendra Prasad (3 December 1884 – 28 February...</td>\n",
       "    </tr>\n",
       "    <tr>\n",
       "      <th>17</th>\n",
       "      <td>Ram Nath Kovind is an Indian politician and la...</td>\n",
       "    </tr>\n",
       "    <tr>\n",
       "      <th>18</th>\n",
       "      <td>Pranab Mukherjee BR (11 December 1935 – 31 Aug...</td>\n",
       "    </tr>\n",
       "    <tr>\n",
       "      <th>19</th>\n",
       "      <td>Prathibha Devisingh Patil is an Indian politic...</td>\n",
       "    </tr>\n",
       "    <tr>\n",
       "      <th>20</th>\n",
       "      <td>Avul Pakir Jainulabdeen Abdul Kalam BR was an ...</td>\n",
       "    </tr>\n",
       "    <tr>\n",
       "      <th>21</th>\n",
       "      <td>Kocheril Raman Narayanan (27 October 1920 – 9 ...</td>\n",
       "    </tr>\n",
       "    <tr>\n",
       "      <th>22</th>\n",
       "      <td>Ramaswamy Venkataraman 4 December 1910 – 27 Ja...</td>\n",
       "    </tr>\n",
       "    <tr>\n",
       "      <th>23</th>\n",
       "      <td>Giani Zail Singh born Jarnail Singh; (5 May 19...</td>\n",
       "    </tr>\n",
       "    <tr>\n",
       "      <th>24</th>\n",
       "      <td>Neelam Sanjiva Reddy (19 May 1913 – 1 June 199...</td>\n",
       "    </tr>\n",
       "    <tr>\n",
       "      <th>25</th>\n",
       "      <td>Fakhruddin Ali Ahmed (13 May 1905 – 11 Februar...</td>\n",
       "    </tr>\n",
       "    <tr>\n",
       "      <th>26</th>\n",
       "      <td>Varahagiri Venkata Giri (10 August 1894 – 24 J...</td>\n",
       "    </tr>\n",
       "    <tr>\n",
       "      <th>27</th>\n",
       "      <td>Zakir Husain Khan (8 February 1897 – 3 May 196...</td>\n",
       "    </tr>\n",
       "    <tr>\n",
       "      <th>28</th>\n",
       "      <td>Sarvepalli Radhakrishnan OM (5 September 1888 ...</td>\n",
       "    </tr>\n",
       "    <tr>\n",
       "      <th>29</th>\n",
       "      <td>Rajendra Prasad (3 December 1884 – 28 February...</td>\n",
       "    </tr>\n",
       "    <tr>\n",
       "      <th>30</th>\n",
       "      <td>Website hosted by National Informatics Centre....</td>\n",
       "    </tr>\n",
       "    <tr>\n",
       "      <th>31</th>\n",
       "      <td></td>\n",
       "    </tr>\n",
       "    <tr>\n",
       "      <th>32</th>\n",
       "      <td>Page Last Updated on</td>\n",
       "    </tr>\n",
       "  </tbody>\n",
       "</table>\n",
       "</div>"
      ],
      "text/plain": [
       "                                       Term Of Office\n",
       "0   Smt. Droupadi Murmu was sworn in as the 15th P...\n",
       "1                                  no-text  Read More\n",
       "2   A group of 213 probationers of Indian Railways...\n",
       "3        The President of India, Smt Droupadi Murmu… \n",
       "4   Ram Nath Kovind is an Indian politician and la...\n",
       "5   Pranab Mukherjee BR (11 December 1935 – 31 Aug...\n",
       "6   Prathibha Devisingh Patil is an Indian politic...\n",
       "7   Avul Pakir Jainulabdeen Abdul Kalam BR was an ...\n",
       "8   Kocheril Raman Narayanan (27 October 1920 – 9 ...\n",
       "9   Ramaswamy Venkataraman 4 December 1910 – 27 Ja...\n",
       "10  Giani Zail Singh born Jarnail Singh; (5 May 19...\n",
       "11  Neelam Sanjiva Reddy (19 May 1913 – 1 June 199...\n",
       "12  Fakhruddin Ali Ahmed (13 May 1905 – 11 Februar...\n",
       "13  Varahagiri Venkata Giri (10 August 1894 – 24 J...\n",
       "14  Zakir Husain Khan (8 February 1897 – 3 May 196...\n",
       "15  Sarvepalli Radhakrishnan OM (5 September 1888 ...\n",
       "16  Rajendra Prasad (3 December 1884 – 28 February...\n",
       "17  Ram Nath Kovind is an Indian politician and la...\n",
       "18  Pranab Mukherjee BR (11 December 1935 – 31 Aug...\n",
       "19  Prathibha Devisingh Patil is an Indian politic...\n",
       "20  Avul Pakir Jainulabdeen Abdul Kalam BR was an ...\n",
       "21  Kocheril Raman Narayanan (27 October 1920 – 9 ...\n",
       "22  Ramaswamy Venkataraman 4 December 1910 – 27 Ja...\n",
       "23  Giani Zail Singh born Jarnail Singh; (5 May 19...\n",
       "24  Neelam Sanjiva Reddy (19 May 1913 – 1 June 199...\n",
       "25  Fakhruddin Ali Ahmed (13 May 1905 – 11 Februar...\n",
       "26  Varahagiri Venkata Giri (10 August 1894 – 24 J...\n",
       "27  Zakir Husain Khan (8 February 1897 – 3 May 196...\n",
       "28  Sarvepalli Radhakrishnan OM (5 September 1888 ...\n",
       "29  Rajendra Prasad (3 December 1884 – 28 February...\n",
       "30  Website hosted by National Informatics Centre....\n",
       "31                                                   \n",
       "32                               Page Last Updated on"
      ]
     },
     "execution_count": 627,
     "metadata": {},
     "output_type": "execute_result"
    }
   ],
   "source": [
    "pre_term = {'Term Of Office': presidents_term}\n",
    "df= pd.DataFrame(pre_term)\n",
    "df"
   ]
  },
  {
   "cell_type": "code",
   "execution_count": null,
   "id": "197611ac",
   "metadata": {},
   "outputs": [],
   "source": []
  },
  {
   "cell_type": "markdown",
   "id": "a396bf6b",
   "metadata": {},
   "source": [
    " # ANS. 3 (i)"
   ]
  },
  {
   "cell_type": "code",
   "execution_count": 195,
   "id": "a9a6dde2",
   "metadata": {},
   "outputs": [],
   "source": [
    "import requests \n",
    "from bs4 import BeautifulSoup\n",
    "import pandas as pd"
   ]
  },
  {
   "cell_type": "code",
   "execution_count": 204,
   "id": "f001cb75",
   "metadata": {},
   "outputs": [],
   "source": [
    "team_url = 'https://www.icc-cricket.com/rankings/mens/team-rankings/odi'"
   ]
  },
  {
   "cell_type": "code",
   "execution_count": 205,
   "id": "f8ad46d9",
   "metadata": {},
   "outputs": [
    {
     "data": {
      "text/plain": [
       "<Response [200]>"
      ]
     },
     "execution_count": 205,
     "metadata": {},
     "output_type": "execute_result"
    }
   ],
   "source": [
    "response = requests.get(team_url)\n",
    "response"
   ]
  },
  {
   "cell_type": "code",
   "execution_count": 206,
   "id": "5e62a58e",
   "metadata": {},
   "outputs": [],
   "source": [
    "soup = BeautifulSoup(response.content,\"html.parser\")"
   ]
  },
  {
   "cell_type": "code",
   "execution_count": 209,
   "id": "b732dad9",
   "metadata": {},
   "outputs": [
    {
     "data": {
      "text/plain": [
       "['Pakistan',\n",
       " 'Australia',\n",
       " 'India',\n",
       " 'England',\n",
       " 'New Zealand',\n",
       " 'South Africa',\n",
       " 'Bangladesh',\n",
       " 'Sri Lanka',\n",
       " 'Afghanistan',\n",
       " 'West Indies']"
      ]
     },
     "execution_count": 209,
     "metadata": {},
     "output_type": "execute_result"
    }
   ],
   "source": [
    "team = soup.find_all('span',class_ = \"u-hide-phablet\")\n",
    "odi_team = []\n",
    "\n",
    "for i in team:\n",
    "    odi_team.append(i.text.replace(\"\\n\",\"\"))\n",
    "odi_team = odi_team[:10]\n",
    "odi_team"
   ]
  },
  {
   "cell_type": "code",
   "execution_count": 216,
   "id": "787eb982",
   "metadata": {},
   "outputs": [
    {
     "data": {
      "text/plain": [
       "['Team', 'Matches', 'Points', 'Rating']"
      ]
     },
     "execution_count": 216,
     "metadata": {},
     "output_type": "execute_result"
    }
   ],
   "source": [
    "title = soup.find_all('span',class_=\"u-hide-mobile\")\n",
    "Title = []\n",
    "\n",
    "for i in title:\n",
    "    Title.append(i.text.replace(\"\\n\",\"\"))\n",
    "Title"
   ]
  },
  {
   "cell_type": "code",
   "execution_count": 224,
   "id": "57470415",
   "metadata": {},
   "outputs": [
    {
     "data": {
      "text/plain": [
       "['26']"
      ]
     },
     "execution_count": 224,
     "metadata": {},
     "output_type": "execute_result"
    }
   ],
   "source": [
    "Match = soup.find_all('td',class_=\"rankings-block__banner--matches\")\n",
    "Matches = []\n",
    "\n",
    "for i in Match:\n",
    "    Matches.append(i.text.replace(\"\\n\",\"\"))\n",
    "    \n",
    "Matches"
   ]
  },
  {
   "cell_type": "code",
   "execution_count": 231,
   "id": "c76672b5",
   "metadata": {},
   "outputs": [
    {
     "data": {
      "text/plain": [
       "['3,061']"
      ]
     },
     "execution_count": 231,
     "metadata": {},
     "output_type": "execute_result"
    }
   ],
   "source": [
    "Pts = soup.find_all('td', class_ = \"rankings-block__banner--points\")\n",
    "Points = []\n",
    "\n",
    "for i in Pts:\n",
    "    Points.append(i.text.replace(\"\\n\",\"\"))\n",
    "    \n",
    "Points"
   ]
  },
  {
   "cell_type": "code",
   "execution_count": 237,
   "id": "e126f19b",
   "metadata": {},
   "outputs": [
    {
     "data": {
      "text/plain": [
       "['118']"
      ]
     },
     "execution_count": 237,
     "metadata": {},
     "output_type": "execute_result"
    }
   ],
   "source": [
    "rtg = soup.find_all(['td'], class_ = \"rankings-block__banner--rating u-text-right\")\n",
    "Ratings = []\n",
    "for i in rtg:\n",
    "    Ratings.append(i.text.replace(\"\\n\",\"\"))\n",
    "Ratings = [i.split('                            ')[1]for i in Ratings ]   \n",
    "Ratings"
   ]
  },
  {
   "cell_type": "code",
   "execution_count": 245,
   "id": "80bbd9e5",
   "metadata": {},
   "outputs": [],
   "source": [
    "stat = soup.find_all('td', class_ = \"table-body__cell u-center-text\")\n",
    "Stats = []\n",
    "\n",
    "for i in stat:\n",
    "    Stats.append(i.text.replace(\"\\n\",\"\"))"
   ]
  },
  {
   "cell_type": "code",
   "execution_count": 253,
   "id": "7955f8f5",
   "metadata": {},
   "outputs": [],
   "source": [
    "for i in range(0,len(Stats)):\n",
    "    if i == 0 or i/2 ==i//2:\n",
    "        Matches.append(Stats[i])\n",
    "    else:\n",
    "        Points.append(Stats[i])\n",
    "Points = Points[:10]\n",
    "Matches= Matches[:10]"
   ]
  },
  {
   "cell_type": "code",
   "execution_count": 256,
   "id": "552ef706",
   "metadata": {},
   "outputs": [],
   "source": [
    "rat = soup.find_all(['td'], class_ = \"table-body__cell u-text-right rating\")\n",
    "\n",
    "for i in rat:\n",
    "    Ratings.append(i.text.replace(\"\\n\",\"\"))\n",
    "Ratings= Ratings[:10]"
   ]
  },
  {
   "cell_type": "code",
   "execution_count": 258,
   "id": "18ed893c",
   "metadata": {},
   "outputs": [],
   "source": [
    "odi_top_10 = pd.DataFrame({Title[0]:odi_team, Title[1]:Matches, Title[2]: Points, Title[3]: Ratings})"
   ]
  },
  {
   "cell_type": "code",
   "execution_count": 259,
   "id": "435a4045",
   "metadata": {},
   "outputs": [
    {
     "data": {
      "text/html": [
       "<div>\n",
       "<style scoped>\n",
       "    .dataframe tbody tr th:only-of-type {\n",
       "        vertical-align: middle;\n",
       "    }\n",
       "\n",
       "    .dataframe tbody tr th {\n",
       "        vertical-align: top;\n",
       "    }\n",
       "\n",
       "    .dataframe thead th {\n",
       "        text-align: right;\n",
       "    }\n",
       "</style>\n",
       "<table border=\"1\" class=\"dataframe\">\n",
       "  <thead>\n",
       "    <tr style=\"text-align: right;\">\n",
       "      <th></th>\n",
       "      <th>Team</th>\n",
       "      <th>Matches</th>\n",
       "      <th>Points</th>\n",
       "      <th>Rating</th>\n",
       "    </tr>\n",
       "  </thead>\n",
       "  <tbody>\n",
       "    <tr>\n",
       "      <th>0</th>\n",
       "      <td>Pakistan</td>\n",
       "      <td>26</td>\n",
       "      <td>3,061</td>\n",
       "      <td>118</td>\n",
       "    </tr>\n",
       "    <tr>\n",
       "      <th>1</th>\n",
       "      <td>Australia</td>\n",
       "      <td>26</td>\n",
       "      <td>3,061</td>\n",
       "      <td>118</td>\n",
       "    </tr>\n",
       "    <tr>\n",
       "      <th>2</th>\n",
       "      <td>India</td>\n",
       "      <td>39</td>\n",
       "      <td>4,516</td>\n",
       "      <td>116</td>\n",
       "    </tr>\n",
       "    <tr>\n",
       "      <th>3</th>\n",
       "      <td>England</td>\n",
       "      <td>27</td>\n",
       "      <td>2,790</td>\n",
       "      <td>103</td>\n",
       "    </tr>\n",
       "    <tr>\n",
       "      <th>4</th>\n",
       "      <td>New Zealand</td>\n",
       "      <td>30</td>\n",
       "      <td>3,057</td>\n",
       "      <td>102</td>\n",
       "    </tr>\n",
       "    <tr>\n",
       "      <th>5</th>\n",
       "      <td>South Africa</td>\n",
       "      <td>22</td>\n",
       "      <td>2,218</td>\n",
       "      <td>101</td>\n",
       "    </tr>\n",
       "    <tr>\n",
       "      <th>6</th>\n",
       "      <td>Bangladesh</td>\n",
       "      <td>32</td>\n",
       "      <td>2,941</td>\n",
       "      <td>92</td>\n",
       "    </tr>\n",
       "    <tr>\n",
       "      <th>7</th>\n",
       "      <td>Sri Lanka</td>\n",
       "      <td>36</td>\n",
       "      <td>3,280</td>\n",
       "      <td>91</td>\n",
       "    </tr>\n",
       "    <tr>\n",
       "      <th>8</th>\n",
       "      <td>Afghanistan</td>\n",
       "      <td>21</td>\n",
       "      <td>1,687</td>\n",
       "      <td>80</td>\n",
       "    </tr>\n",
       "    <tr>\n",
       "      <th>9</th>\n",
       "      <td>West Indies</td>\n",
       "      <td>38</td>\n",
       "      <td>2,582</td>\n",
       "      <td>68</td>\n",
       "    </tr>\n",
       "  </tbody>\n",
       "</table>\n",
       "</div>"
      ],
      "text/plain": [
       "           Team Matches Points Rating\n",
       "0      Pakistan      26  3,061    118\n",
       "1     Australia      26  3,061    118\n",
       "2         India      39  4,516    116\n",
       "3       England      27  2,790    103\n",
       "4   New Zealand      30  3,057    102\n",
       "5  South Africa      22  2,218    101\n",
       "6    Bangladesh      32  2,941     92\n",
       "7     Sri Lanka      36  3,280     91\n",
       "8   Afghanistan      21  1,687     80\n",
       "9   West Indies      38  2,582     68"
      ]
     },
     "execution_count": 259,
     "metadata": {},
     "output_type": "execute_result"
    }
   ],
   "source": [
    "odi_top_10"
   ]
  },
  {
   "cell_type": "code",
   "execution_count": null,
   "id": "4a3b2190",
   "metadata": {},
   "outputs": [],
   "source": []
  },
  {
   "cell_type": "markdown",
   "id": "7ef6fbb5",
   "metadata": {},
   "source": [
    "## ANS.  3(ii) &(iii)"
   ]
  },
  {
   "cell_type": "code",
   "execution_count": 42,
   "id": "f65295cd",
   "metadata": {},
   "outputs": [],
   "source": [
    "bat_url = \"https://www.icc-cricket.com/rankings/mens/player-rankings/odi\""
   ]
  },
  {
   "cell_type": "code",
   "execution_count": 43,
   "id": "7717b9f9",
   "metadata": {},
   "outputs": [
    {
     "data": {
      "text/plain": [
       "<Response [200]>"
      ]
     },
     "execution_count": 43,
     "metadata": {},
     "output_type": "execute_result"
    }
   ],
   "source": [
    "response = requests.get(bat_url)\n",
    "response"
   ]
  },
  {
   "cell_type": "code",
   "execution_count": 60,
   "id": "c6dd9f92",
   "metadata": {},
   "outputs": [],
   "source": [
    "bat_soup = BeautifulSoup(response.content,'html.parser')"
   ]
  },
  {
   "cell_type": "code",
   "execution_count": 71,
   "id": "41a4c2f6",
   "metadata": {},
   "outputs": [
    {
     "data": {
      "text/plain": [
       "['Babar Azam',\n",
       " 'Josh Hazlewood',\n",
       " 'Shakib Al Hasan',\n",
       " 'Babar Azam',\n",
       " 'Josh Hazlewood',\n",
       " 'Shakib Al Hasan']"
      ]
     },
     "execution_count": 71,
     "metadata": {},
     "output_type": "execute_result"
    }
   ],
   "source": [
    "nam = bat_soup.find_all('div', class_ = \"rankings-block__banner--name\")\n",
    "Banner_name = []\n",
    "\n",
    "for i in nam:\n",
    "    Banner_name.append(i.text.replace(\"\\n\",\"\"))\n",
    "Banner_name"
   ]
  },
  {
   "cell_type": "code",
   "execution_count": 89,
   "id": "41fc364f",
   "metadata": {},
   "outputs": [
    {
     "data": {
      "text/plain": [
       "['PAK863', 'AUS692', 'BAN363', 'PAK863', 'AUS692', 'BAN363']"
      ]
     },
     "execution_count": 89,
     "metadata": {},
     "output_type": "execute_result"
    }
   ],
   "source": [
    "nat = bat_soup.find_all('div',class_=\"rankings-block__banner--nationality\")\n",
    "natt = []\n",
    "\n",
    "for i in nat:\n",
    "    natt.append(i.text.replace(\"\\n\",\"\"))\n",
    "natt"
   ]
  },
  {
   "cell_type": "code",
   "execution_count": 88,
   "id": "16ec4e76",
   "metadata": {},
   "outputs": [
    {
     "data": {
      "text/plain": [
       "['863', '692', '363', '863', '692', '363']"
      ]
     },
     "execution_count": 88,
     "metadata": {},
     "output_type": "execute_result"
    }
   ],
   "source": [
    "rat = bat_soup.find_all('div', class_ = \"rankings-block__banner--rating\")\n",
    "ratt = []\n",
    "\n",
    "for i in rat:\n",
    "    ratt.append(i.text.replace(\"\\n\",\"\"))\n",
    "ratt\n"
   ]
  },
  {
   "cell_type": "code",
   "execution_count": 101,
   "id": "49882115",
   "metadata": {},
   "outputs": [],
   "source": [
    "Batsman_name = [Banner_name[0]]\n",
    "Batsman_nation = [natt[0]]\n",
    "Batsman_Rattings = [ratt[0]]\n",
    "Bowler_name = [Banner_name[1]]\n",
    "Bowler_nation = [natt[1]]\n",
    "Bowler_Rattings = [ratt[1]]"
   ]
  },
  {
   "cell_type": "code",
   "execution_count": 102,
   "id": "d25690f3",
   "metadata": {},
   "outputs": [
    {
     "data": {
      "text/plain": [
       "['Shubman Gill',\n",
       " 'Rassie van der Dussen',\n",
       " 'David Warner',\n",
       " 'Imam-ul-Haq',\n",
       " 'Harry Tector',\n",
       " 'Quinton de Kock',\n",
       " 'Virat Kohli',\n",
       " 'Rohit Sharma',\n",
       " 'Fakhar Zaman',\n",
       " 'Mitchell Starc',\n",
       " 'Trent Boult',\n",
       " 'Adam Zampa',\n",
       " 'Matt Henry',\n",
       " 'Mujeeb Ur Rahman',\n",
       " 'Kuldeep Yadav',\n",
       " 'Rashid Khan',\n",
       " 'Mohammed Siraj',\n",
       " 'Shaheen Afridi']"
      ]
     },
     "execution_count": 102,
     "metadata": {},
     "output_type": "execute_result"
    }
   ],
   "source": [
    "Nam = bat_soup.find_all(['td'], class_ = \"table-body__cell name\")\n",
    "table_names = []\n",
    "for i in Nam:\n",
    "    table_names.append(i.text.replace(\"\\n\",\"\"))\n",
    "table_names = table_names[:18]\n",
    "table_names"
   ]
  },
  {
   "cell_type": "code",
   "execution_count": 103,
   "id": "6af6b023",
   "metadata": {},
   "outputs": [
    {
     "data": {
      "text/plain": [
       "['IND',\n",
       " 'SA',\n",
       " 'AUS',\n",
       " 'PAK',\n",
       " 'IRE',\n",
       " 'SA',\n",
       " 'IND',\n",
       " 'IND',\n",
       " 'PAK',\n",
       " 'AUS',\n",
       " 'NZ',\n",
       " 'AUS',\n",
       " 'NZ',\n",
       " 'AFG',\n",
       " 'IND',\n",
       " 'AFG',\n",
       " 'IND',\n",
       " 'PAK']"
      ]
     },
     "execution_count": 103,
     "metadata": {},
     "output_type": "execute_result"
    }
   ],
   "source": [
    "nat1 = bat_soup.find_all(['span'], class_ = \"table-body__logo-text\")\n",
    "Nat1 = []\n",
    "for i in nat1:\n",
    "    Nat1.append(i.text.replace(\"\\n\",\"\"))\n",
    "Nat1 = Nat1[:18]\n",
    "Nat1\n",
    "\n"
   ]
  },
  {
   "cell_type": "code",
   "execution_count": 104,
   "id": "21b93d80",
   "metadata": {},
   "outputs": [
    {
     "data": {
      "text/plain": [
       "['759',\n",
       " '745',\n",
       " '739',\n",
       " '735',\n",
       " '726',\n",
       " '721',\n",
       " '715',\n",
       " '707',\n",
       " '705',\n",
       " '666',\n",
       " '666',\n",
       " '663',\n",
       " '658',\n",
       " '657',\n",
       " '656',\n",
       " '655',\n",
       " '643',\n",
       " '635']"
      ]
     },
     "execution_count": 104,
     "metadata": {},
     "output_type": "execute_result"
    }
   ],
   "source": [
    "rat1 = bat_soup.find_all(['td'], class_ = \"table-body__cell u-text-right rating\")\n",
    "Rat1 = []\n",
    "for i in rat1:\n",
    "    Rat1.append(i.text.replace(\"\\n\",\"\"))\n",
    "Rat1 = Rat1[:18]\n",
    "Rat1"
   ]
  },
  {
   "cell_type": "code",
   "execution_count": 105,
   "id": "5e6a82da",
   "metadata": {},
   "outputs": [],
   "source": [
    "for i in table_names[0:9]:\n",
    "    Batsman_name.append(i)\n",
    "for i in Nat1[0:9]:\n",
    "    Batsman_nation.append(i)\n",
    "for i in Rat1[0:9]:\n",
    "    Batsman_Rattings.append(i)\n",
    "for i in table_names[9:18]:\n",
    "    Bowler_name.append(i)\n",
    "for i in Nat1[9:18]:\n",
    "    Bowler_nation.append(i)\n",
    "for i in Rat1[9:18]:\n",
    "    Bowler_Rattings.append(i)"
   ]
  },
  {
   "cell_type": "code",
   "execution_count": 107,
   "id": "aa2bddec",
   "metadata": {},
   "outputs": [],
   "source": [
    "odi_bat= pd.DataFrame({\"Batsman_name\":Batsman_name, \"Batsman_nation\":Batsman_nation, \"Batsman_Rattings\": Batsman_Rattings})"
   ]
  },
  {
   "cell_type": "code",
   "execution_count": 108,
   "id": "f8fbadf8",
   "metadata": {},
   "outputs": [
    {
     "data": {
      "text/html": [
       "<div>\n",
       "<style scoped>\n",
       "    .dataframe tbody tr th:only-of-type {\n",
       "        vertical-align: middle;\n",
       "    }\n",
       "\n",
       "    .dataframe tbody tr th {\n",
       "        vertical-align: top;\n",
       "    }\n",
       "\n",
       "    .dataframe thead th {\n",
       "        text-align: right;\n",
       "    }\n",
       "</style>\n",
       "<table border=\"1\" class=\"dataframe\">\n",
       "  <thead>\n",
       "    <tr style=\"text-align: right;\">\n",
       "      <th></th>\n",
       "      <th>Batsman_name</th>\n",
       "      <th>Batsman_nation</th>\n",
       "      <th>Batsman_Rattings</th>\n",
       "    </tr>\n",
       "  </thead>\n",
       "  <tbody>\n",
       "    <tr>\n",
       "      <th>0</th>\n",
       "      <td>Babar Azam</td>\n",
       "      <td>PAK863</td>\n",
       "      <td>863</td>\n",
       "    </tr>\n",
       "    <tr>\n",
       "      <th>1</th>\n",
       "      <td>Shubman Gill</td>\n",
       "      <td>IND</td>\n",
       "      <td>759</td>\n",
       "    </tr>\n",
       "    <tr>\n",
       "      <th>2</th>\n",
       "      <td>Rassie van der Dussen</td>\n",
       "      <td>SA</td>\n",
       "      <td>745</td>\n",
       "    </tr>\n",
       "    <tr>\n",
       "      <th>3</th>\n",
       "      <td>David Warner</td>\n",
       "      <td>AUS</td>\n",
       "      <td>739</td>\n",
       "    </tr>\n",
       "    <tr>\n",
       "      <th>4</th>\n",
       "      <td>Imam-ul-Haq</td>\n",
       "      <td>PAK</td>\n",
       "      <td>735</td>\n",
       "    </tr>\n",
       "    <tr>\n",
       "      <th>5</th>\n",
       "      <td>Harry Tector</td>\n",
       "      <td>IRE</td>\n",
       "      <td>726</td>\n",
       "    </tr>\n",
       "    <tr>\n",
       "      <th>6</th>\n",
       "      <td>Quinton de Kock</td>\n",
       "      <td>SA</td>\n",
       "      <td>721</td>\n",
       "    </tr>\n",
       "    <tr>\n",
       "      <th>7</th>\n",
       "      <td>Virat Kohli</td>\n",
       "      <td>IND</td>\n",
       "      <td>715</td>\n",
       "    </tr>\n",
       "    <tr>\n",
       "      <th>8</th>\n",
       "      <td>Rohit Sharma</td>\n",
       "      <td>IND</td>\n",
       "      <td>707</td>\n",
       "    </tr>\n",
       "    <tr>\n",
       "      <th>9</th>\n",
       "      <td>Fakhar Zaman</td>\n",
       "      <td>PAK</td>\n",
       "      <td>705</td>\n",
       "    </tr>\n",
       "  </tbody>\n",
       "</table>\n",
       "</div>"
      ],
      "text/plain": [
       "            Batsman_name Batsman_nation Batsman_Rattings\n",
       "0             Babar Azam         PAK863              863\n",
       "1           Shubman Gill            IND              759\n",
       "2  Rassie van der Dussen             SA              745\n",
       "3           David Warner            AUS              739\n",
       "4            Imam-ul-Haq            PAK              735\n",
       "5           Harry Tector            IRE              726\n",
       "6        Quinton de Kock             SA              721\n",
       "7            Virat Kohli            IND              715\n",
       "8           Rohit Sharma            IND              707\n",
       "9           Fakhar Zaman            PAK              705"
      ]
     },
     "execution_count": 108,
     "metadata": {},
     "output_type": "execute_result"
    }
   ],
   "source": [
    "odi_bat"
   ]
  },
  {
   "cell_type": "code",
   "execution_count": 110,
   "id": "2ad19800",
   "metadata": {},
   "outputs": [],
   "source": [
    "odi_Bowler = pd.DataFrame({\"Bowler_name\":Bowler_name, \"Bowler_nation\":Bowler_nation, \"Bowler_Rattings\": Bowler_Rattings})"
   ]
  },
  {
   "cell_type": "code",
   "execution_count": 112,
   "id": "4ebc5e70",
   "metadata": {},
   "outputs": [
    {
     "data": {
      "text/html": [
       "<div>\n",
       "<style scoped>\n",
       "    .dataframe tbody tr th:only-of-type {\n",
       "        vertical-align: middle;\n",
       "    }\n",
       "\n",
       "    .dataframe tbody tr th {\n",
       "        vertical-align: top;\n",
       "    }\n",
       "\n",
       "    .dataframe thead th {\n",
       "        text-align: right;\n",
       "    }\n",
       "</style>\n",
       "<table border=\"1\" class=\"dataframe\">\n",
       "  <thead>\n",
       "    <tr style=\"text-align: right;\">\n",
       "      <th></th>\n",
       "      <th>Bowler_name</th>\n",
       "      <th>Bowler_nation</th>\n",
       "      <th>Bowler_Rattings</th>\n",
       "    </tr>\n",
       "  </thead>\n",
       "  <tbody>\n",
       "    <tr>\n",
       "      <th>0</th>\n",
       "      <td>Josh Hazlewood</td>\n",
       "      <td>AUS692</td>\n",
       "      <td>692</td>\n",
       "    </tr>\n",
       "    <tr>\n",
       "      <th>1</th>\n",
       "      <td>Mitchell Starc</td>\n",
       "      <td>AUS</td>\n",
       "      <td>666</td>\n",
       "    </tr>\n",
       "    <tr>\n",
       "      <th>2</th>\n",
       "      <td>Trent Boult</td>\n",
       "      <td>NZ</td>\n",
       "      <td>666</td>\n",
       "    </tr>\n",
       "    <tr>\n",
       "      <th>3</th>\n",
       "      <td>Adam Zampa</td>\n",
       "      <td>AUS</td>\n",
       "      <td>663</td>\n",
       "    </tr>\n",
       "    <tr>\n",
       "      <th>4</th>\n",
       "      <td>Matt Henry</td>\n",
       "      <td>NZ</td>\n",
       "      <td>658</td>\n",
       "    </tr>\n",
       "    <tr>\n",
       "      <th>5</th>\n",
       "      <td>Mujeeb Ur Rahman</td>\n",
       "      <td>AFG</td>\n",
       "      <td>657</td>\n",
       "    </tr>\n",
       "    <tr>\n",
       "      <th>6</th>\n",
       "      <td>Kuldeep Yadav</td>\n",
       "      <td>IND</td>\n",
       "      <td>656</td>\n",
       "    </tr>\n",
       "    <tr>\n",
       "      <th>7</th>\n",
       "      <td>Rashid Khan</td>\n",
       "      <td>AFG</td>\n",
       "      <td>655</td>\n",
       "    </tr>\n",
       "    <tr>\n",
       "      <th>8</th>\n",
       "      <td>Mohammed Siraj</td>\n",
       "      <td>IND</td>\n",
       "      <td>643</td>\n",
       "    </tr>\n",
       "    <tr>\n",
       "      <th>9</th>\n",
       "      <td>Shaheen Afridi</td>\n",
       "      <td>PAK</td>\n",
       "      <td>635</td>\n",
       "    </tr>\n",
       "  </tbody>\n",
       "</table>\n",
       "</div>"
      ],
      "text/plain": [
       "        Bowler_name Bowler_nation Bowler_Rattings\n",
       "0    Josh Hazlewood        AUS692             692\n",
       "1    Mitchell Starc           AUS             666\n",
       "2       Trent Boult            NZ             666\n",
       "3        Adam Zampa           AUS             663\n",
       "4        Matt Henry            NZ             658\n",
       "5  Mujeeb Ur Rahman           AFG             657\n",
       "6     Kuldeep Yadav           IND             656\n",
       "7       Rashid Khan           AFG             655\n",
       "8    Mohammed Siraj           IND             643\n",
       "9    Shaheen Afridi           PAK             635"
      ]
     },
     "execution_count": 112,
     "metadata": {},
     "output_type": "execute_result"
    }
   ],
   "source": [
    "odi_Bowler"
   ]
  },
  {
   "cell_type": "code",
   "execution_count": null,
   "id": "de6e352f",
   "metadata": {},
   "outputs": [],
   "source": []
  },
  {
   "cell_type": "markdown",
   "id": "206ff9ce",
   "metadata": {},
   "source": [
    "# ANS.  4 (i)"
   ]
  },
  {
   "cell_type": "code",
   "execution_count": 4,
   "id": "a78a0ef1",
   "metadata": {},
   "outputs": [],
   "source": [
    "import requests \n",
    "from bs4 import BeautifulSoup\n",
    "import pandas as pd"
   ]
  },
  {
   "cell_type": "code",
   "execution_count": 5,
   "id": "c7340ca9",
   "metadata": {},
   "outputs": [],
   "source": [
    "w_team_url = \"https://www.icc-cricket.com/rankings/womens/team-rankings/odi\""
   ]
  },
  {
   "cell_type": "code",
   "execution_count": 6,
   "id": "06d0eb9d",
   "metadata": {},
   "outputs": [
    {
     "data": {
      "text/plain": [
       "<Response [200]>"
      ]
     },
     "execution_count": 6,
     "metadata": {},
     "output_type": "execute_result"
    }
   ],
   "source": [
    "response = requests.get(w_team_url)\n",
    "response"
   ]
  },
  {
   "cell_type": "code",
   "execution_count": 7,
   "id": "e54c7446",
   "metadata": {},
   "outputs": [],
   "source": [
    "soup = BeautifulSoup(response.content,\"html.parser\")"
   ]
  },
  {
   "cell_type": "code",
   "execution_count": 10,
   "id": "c65caef5",
   "metadata": {},
   "outputs": [
    {
     "data": {
      "text/plain": [
       "['Australia',\n",
       " 'England',\n",
       " 'South Africa',\n",
       " 'India',\n",
       " 'New Zealand',\n",
       " 'West Indies',\n",
       " 'Bangladesh',\n",
       " 'Sri Lanka',\n",
       " 'Thailand',\n",
       " 'Pakistan']"
      ]
     },
     "execution_count": 10,
     "metadata": {},
     "output_type": "execute_result"
    }
   ],
   "source": [
    "team = soup.find_all('span',class_ = \"u-hide-phablet\")\n",
    "w_odi_team = []\n",
    "\n",
    "for i in team:\n",
    "    odi_team.append(i.text.replace(\"\\n\",\"\"))\n",
    "w_odi_team = odi_team[:10]\n",
    "w_odi_team"
   ]
  },
  {
   "cell_type": "code",
   "execution_count": 11,
   "id": "8514c41c",
   "metadata": {},
   "outputs": [
    {
     "data": {
      "text/plain": [
       "['Team', 'Matches', 'Points', 'Rating']"
      ]
     },
     "execution_count": 11,
     "metadata": {},
     "output_type": "execute_result"
    }
   ],
   "source": [
    "title = soup.find_all('span',class_=\"u-hide-mobile\")\n",
    "Title = []\n",
    "\n",
    "for i in title:\n",
    "    Title.append(i.text.replace(\"\\n\",\"\"))\n",
    "Title"
   ]
  },
  {
   "cell_type": "code",
   "execution_count": 12,
   "id": "6c8eebfd",
   "metadata": {},
   "outputs": [
    {
     "data": {
      "text/plain": [
       "['26']"
      ]
     },
     "execution_count": 12,
     "metadata": {},
     "output_type": "execute_result"
    }
   ],
   "source": [
    "Match = soup.find_all('td',class_=\"rankings-block__banner--matches\")\n",
    "Matches = []\n",
    "\n",
    "for i in Match:\n",
    "    Matches.append(i.text.replace(\"\\n\",\"\"))\n",
    "    \n",
    "Matches"
   ]
  },
  {
   "cell_type": "code",
   "execution_count": 13,
   "id": "68f5a237",
   "metadata": {},
   "outputs": [
    {
     "data": {
      "text/plain": [
       "['4,290']"
      ]
     },
     "execution_count": 13,
     "metadata": {},
     "output_type": "execute_result"
    }
   ],
   "source": [
    "Pts = soup.find_all('td', class_ = \"rankings-block__banner--points\")\n",
    "Points = []\n",
    "\n",
    "for i in Pts:\n",
    "    Points.append(i.text.replace(\"\\n\",\"\"))\n",
    "    \n",
    "Points"
   ]
  },
  {
   "cell_type": "code",
   "execution_count": 14,
   "id": "550b92cc",
   "metadata": {},
   "outputs": [
    {
     "data": {
      "text/plain": [
       "['165']"
      ]
     },
     "execution_count": 14,
     "metadata": {},
     "output_type": "execute_result"
    }
   ],
   "source": [
    "rtg = soup.find_all(['td'], class_ = \"rankings-block__banner--rating u-text-right\")\n",
    "Ratings = []\n",
    "for i in rtg:\n",
    "    Ratings.append(i.text.replace(\"\\n\",\"\"))\n",
    "Ratings = [i.split('                            ')[1]for i in Ratings ]   \n"
   ]
  },
  {
   "cell_type": "code",
   "execution_count": 15,
   "id": "d5b67c87",
   "metadata": {},
   "outputs": [],
   "source": [
    "stat = soup.find_all('td', class_ = \"table-body__cell u-center-text\")\n",
    "Stats = []\n",
    "\n",
    "for i in stat:\n",
    "    Stats.append(i.text.replace(\"\\n\",\"\"))"
   ]
  },
  {
   "cell_type": "code",
   "execution_count": 16,
   "id": "8d5f8a4b",
   "metadata": {},
   "outputs": [],
   "source": [
    "for i in range(0,len(Stats)):\n",
    "    if i == 0 or i/2 ==i//2:\n",
    "        Matches.append(Stats[i])\n",
    "    else:\n",
    "        Points.append(Stats[i])\n",
    "Points = Points[:10]\n",
    "Matches= Matches[:10]"
   ]
  },
  {
   "cell_type": "code",
   "execution_count": 17,
   "id": "0fcf6d02",
   "metadata": {},
   "outputs": [],
   "source": [
    "rat = soup.find_all(['td'], class_ = \"table-body__cell u-text-right rating\")\n",
    "\n",
    "for i in rat:\n",
    "    Ratings.append(i.text.replace(\"\\n\",\"\"))\n",
    "Ratings= Ratings[:10]"
   ]
  },
  {
   "cell_type": "code",
   "execution_count": 21,
   "id": "d6f0a496",
   "metadata": {},
   "outputs": [],
   "source": [
    "w_odi_top_10 = pd.DataFrame({Title[0]:w_odi_team, Title[1]:Matches, Title[2]: Points, Title[3]: Ratings})"
   ]
  },
  {
   "cell_type": "code",
   "execution_count": 22,
   "id": "63d1b78d",
   "metadata": {},
   "outputs": [
    {
     "data": {
      "text/html": [
       "<div>\n",
       "<style scoped>\n",
       "    .dataframe tbody tr th:only-of-type {\n",
       "        vertical-align: middle;\n",
       "    }\n",
       "\n",
       "    .dataframe tbody tr th {\n",
       "        vertical-align: top;\n",
       "    }\n",
       "\n",
       "    .dataframe thead th {\n",
       "        text-align: right;\n",
       "    }\n",
       "</style>\n",
       "<table border=\"1\" class=\"dataframe\">\n",
       "  <thead>\n",
       "    <tr style=\"text-align: right;\">\n",
       "      <th></th>\n",
       "      <th>Team</th>\n",
       "      <th>Matches</th>\n",
       "      <th>Points</th>\n",
       "      <th>Rating</th>\n",
       "    </tr>\n",
       "  </thead>\n",
       "  <tbody>\n",
       "    <tr>\n",
       "      <th>0</th>\n",
       "      <td>Australia</td>\n",
       "      <td>26</td>\n",
       "      <td>4,290</td>\n",
       "      <td>165</td>\n",
       "    </tr>\n",
       "    <tr>\n",
       "      <th>1</th>\n",
       "      <td>England</td>\n",
       "      <td>31</td>\n",
       "      <td>3,875</td>\n",
       "      <td>125</td>\n",
       "    </tr>\n",
       "    <tr>\n",
       "      <th>2</th>\n",
       "      <td>South Africa</td>\n",
       "      <td>26</td>\n",
       "      <td>3,098</td>\n",
       "      <td>119</td>\n",
       "    </tr>\n",
       "    <tr>\n",
       "      <th>3</th>\n",
       "      <td>India</td>\n",
       "      <td>30</td>\n",
       "      <td>3,039</td>\n",
       "      <td>101</td>\n",
       "    </tr>\n",
       "    <tr>\n",
       "      <th>4</th>\n",
       "      <td>New Zealand</td>\n",
       "      <td>28</td>\n",
       "      <td>2,688</td>\n",
       "      <td>96</td>\n",
       "    </tr>\n",
       "    <tr>\n",
       "      <th>5</th>\n",
       "      <td>West Indies</td>\n",
       "      <td>29</td>\n",
       "      <td>2,743</td>\n",
       "      <td>95</td>\n",
       "    </tr>\n",
       "    <tr>\n",
       "      <th>6</th>\n",
       "      <td>Bangladesh</td>\n",
       "      <td>17</td>\n",
       "      <td>1,284</td>\n",
       "      <td>76</td>\n",
       "    </tr>\n",
       "    <tr>\n",
       "      <th>7</th>\n",
       "      <td>Sri Lanka</td>\n",
       "      <td>12</td>\n",
       "      <td>820</td>\n",
       "      <td>68</td>\n",
       "    </tr>\n",
       "    <tr>\n",
       "      <th>8</th>\n",
       "      <td>Thailand</td>\n",
       "      <td>13</td>\n",
       "      <td>883</td>\n",
       "      <td>68</td>\n",
       "    </tr>\n",
       "    <tr>\n",
       "      <th>9</th>\n",
       "      <td>Pakistan</td>\n",
       "      <td>27</td>\n",
       "      <td>1,678</td>\n",
       "      <td>62</td>\n",
       "    </tr>\n",
       "  </tbody>\n",
       "</table>\n",
       "</div>"
      ],
      "text/plain": [
       "           Team Matches Points Rating\n",
       "0     Australia      26  4,290    165\n",
       "1       England      31  3,875    125\n",
       "2  South Africa      26  3,098    119\n",
       "3         India      30  3,039    101\n",
       "4   New Zealand      28  2,688     96\n",
       "5   West Indies      29  2,743     95\n",
       "6    Bangladesh      17  1,284     76\n",
       "7     Sri Lanka      12    820     68\n",
       "8      Thailand      13    883     68\n",
       "9      Pakistan      27  1,678     62"
      ]
     },
     "execution_count": 22,
     "metadata": {},
     "output_type": "execute_result"
    }
   ],
   "source": [
    "w_odi_top_10"
   ]
  },
  {
   "cell_type": "code",
   "execution_count": 25,
   "id": "5ab16c3e",
   "metadata": {},
   "outputs": [],
   "source": []
  },
  {
   "cell_type": "markdown",
   "id": "8fc78b87",
   "metadata": {},
   "source": [
    "# ANS. 4 (ii)& (iii)"
   ]
  },
  {
   "cell_type": "code",
   "execution_count": 33,
   "id": "880a0fe2",
   "metadata": {},
   "outputs": [],
   "source": [
    "wom_url = \"https://www.icc-cricket.com/rankings/womens/team-rankings/odi\""
   ]
  },
  {
   "cell_type": "code",
   "execution_count": 35,
   "id": "986fd5f5",
   "metadata": {},
   "outputs": [
    {
     "data": {
      "text/plain": [
       "<Response [200]>"
      ]
     },
     "execution_count": 35,
     "metadata": {},
     "output_type": "execute_result"
    }
   ],
   "source": [
    "respone = requests.get(wom_url)\n",
    "response"
   ]
  },
  {
   "cell_type": "code",
   "execution_count": 36,
   "id": "ebee8eac",
   "metadata": {},
   "outputs": [],
   "source": [
    "w_soup = BeautifulSoup(ICC_Wom.content,'html.parser')"
   ]
  },
  {
   "cell_type": "code",
   "execution_count": 37,
   "id": "2849c6f3",
   "metadata": {},
   "outputs": [
    {
     "data": {
      "text/plain": [
       "['Natalie Sciver-Brunt', 'Sophie Ecclestone', 'Natalie Sciver-Brunt']"
      ]
     },
     "execution_count": 37,
     "metadata": {},
     "output_type": "execute_result"
    }
   ],
   "source": [
    "\n",
    "\n",
    "nam_w = w_soup.find_all(['div'], class_ = \"rankings-block__banner--name\")\n",
    "banner_name_w = []\n",
    "\n",
    "for i in nam_w:\n",
    "    banner_name_w.append(i.text.replace(\"\\n\",\"\"))\n",
    "banner_name_w\n",
    "\n"
   ]
  },
  {
   "cell_type": "code",
   "execution_count": 38,
   "id": "6655a776",
   "metadata": {},
   "outputs": [],
   "source": [
    "nat_w = player_w_soup.find_all(['div'], class_ = \"rankings-block__banner--nationality\")\n",
    "natt_w = []\n",
    "\n",
    "for i in nat_w:\n",
    "    natt_w.append(i.text.replace(\"\\n\",\"\"))\n",
    "\n",
    "rat_w = player_w_soup.find_all(['div'], class_ = \"rankings-block__banner--rating\")\n",
    "ratt_w = []\n",
    "\n",
    "for i in rat_w:\n",
    "    ratt_w.append(i.text.replace(\"\\n\",\"\"))\n",
    "    \n",
    "Batsman_name_w=[banner_name_w[0]]\n",
    "Batsman_nation_w= [natt_w[0]]\n",
    "Batsman_Rattings_w= [ratt_w[0]]\n",
    "allrounder_name_w= [banner_name_w[-1]]\n",
    "allrounder_nation_w= [natt_w[-1]]\n",
    "allrounder_Rattings_w= [ratt_w[-1]]    \n",
    "\n",
    "Nam_w = player_w_soup.find_all(['td'], class_ = \"table-body__cell name\")\n",
    "table_names_w = []\n",
    "for i in Nam_w:\n",
    "    table_names_w.append(i.text.replace(\"\\n\",\"\"))\n",
    "\n",
    "\n",
    "nat1_w = player_w_soup.find_all(['span'], class_ = \"table-body__logo-text\")\n",
    "Nat1_w = []\n",
    "for i in nat1_w:\n",
    "    Nat1_w.append(i.text.replace(\"\\n\",\"\"))\n",
    "\n",
    "rat1_w = player_w_soup.find_all(['td'], class_ = \"table-body__cell u-text-right rating\")\n",
    "Rat1_w = []\n",
    "for i in rat1_w:\n",
    "    Rat1_w.append(i.text.replace(\"\\n\",\"\"))\n",
    "\n",
    "\n",
    "\n",
    "for i in table_names_w[0:9]:\n",
    "    Batsman_name_w.append(i)\n",
    "for i in Nat1_w[0:9]:\n",
    "    Batsman_nation_w.append(i)\n",
    "for i in Rat1_w[0:9]:\n",
    "    Batsman_Rattings_w.append(i)    \n",
    "for i in table_names_w[18:27]:\n",
    "    allrounder_name_w.append(i)\n",
    "for i in Nat1_w[18:27]:\n",
    "    allrounder_nation_w.append(i)\n",
    "for i in Rat1_w[18:27]:\n",
    "    allrounder_Rattings_w.append(i) "
   ]
  },
  {
   "cell_type": "code",
   "execution_count": 40,
   "id": "fbd8f360",
   "metadata": {},
   "outputs": [],
   "source": [
    "ODI_TOP_10_Batsman_w = pd.DataFrame({\"Batsman_name_W\":Batsman_name_w, \"Batsman_nation_w\":Batsman_nation_w, \"Batsman_Rattings_w\": Batsman_Rattings_w})\n",
    "ODI_TOP_10_allrounder_w = pd.DataFrame({\"allrounder_name_w\":allrounder_name_w, \"allrounder_nation_w\":allrounder_nation_w, \"allrounder_Rattings_w\": allrounder_Rattings_w})"
   ]
  },
  {
   "cell_type": "code",
   "execution_count": 41,
   "id": "5191e236",
   "metadata": {},
   "outputs": [
    {
     "data": {
      "text/html": [
       "<div>\n",
       "<style scoped>\n",
       "    .dataframe tbody tr th:only-of-type {\n",
       "        vertical-align: middle;\n",
       "    }\n",
       "\n",
       "    .dataframe tbody tr th {\n",
       "        vertical-align: top;\n",
       "    }\n",
       "\n",
       "    .dataframe thead th {\n",
       "        text-align: right;\n",
       "    }\n",
       "</style>\n",
       "<table border=\"1\" class=\"dataframe\">\n",
       "  <thead>\n",
       "    <tr style=\"text-align: right;\">\n",
       "      <th></th>\n",
       "      <th>Batsman_name_W</th>\n",
       "      <th>Batsman_nation_w</th>\n",
       "      <th>Batsman_Rattings_w</th>\n",
       "    </tr>\n",
       "  </thead>\n",
       "  <tbody>\n",
       "    <tr>\n",
       "      <th>0</th>\n",
       "      <td>Natalie Sciver-Brunt</td>\n",
       "      <td>ENG801</td>\n",
       "      <td>801</td>\n",
       "    </tr>\n",
       "    <tr>\n",
       "      <th>1</th>\n",
       "      <td>Beth Mooney</td>\n",
       "      <td>AUS</td>\n",
       "      <td>751</td>\n",
       "    </tr>\n",
       "    <tr>\n",
       "      <th>2</th>\n",
       "      <td>Chamari Athapaththu</td>\n",
       "      <td>SL</td>\n",
       "      <td>743</td>\n",
       "    </tr>\n",
       "    <tr>\n",
       "      <th>3</th>\n",
       "      <td>Laura Wolvaardt</td>\n",
       "      <td>SA</td>\n",
       "      <td>708</td>\n",
       "    </tr>\n",
       "    <tr>\n",
       "      <th>4</th>\n",
       "      <td>Smriti Mandhana</td>\n",
       "      <td>IND</td>\n",
       "      <td>708</td>\n",
       "    </tr>\n",
       "    <tr>\n",
       "      <th>5</th>\n",
       "      <td>Alyssa Healy</td>\n",
       "      <td>AUS</td>\n",
       "      <td>702</td>\n",
       "    </tr>\n",
       "    <tr>\n",
       "      <th>6</th>\n",
       "      <td>Harmanpreet Kaur</td>\n",
       "      <td>IND</td>\n",
       "      <td>694</td>\n",
       "    </tr>\n",
       "    <tr>\n",
       "      <th>7</th>\n",
       "      <td>Ellyse Perry</td>\n",
       "      <td>AUS</td>\n",
       "      <td>686</td>\n",
       "    </tr>\n",
       "    <tr>\n",
       "      <th>8</th>\n",
       "      <td>Meg Lanning</td>\n",
       "      <td>AUS</td>\n",
       "      <td>682</td>\n",
       "    </tr>\n",
       "    <tr>\n",
       "      <th>9</th>\n",
       "      <td>Stafanie Taylor</td>\n",
       "      <td>WI</td>\n",
       "      <td>618</td>\n",
       "    </tr>\n",
       "  </tbody>\n",
       "</table>\n",
       "</div>"
      ],
      "text/plain": [
       "         Batsman_name_W Batsman_nation_w Batsman_Rattings_w\n",
       "0  Natalie Sciver-Brunt           ENG801                801\n",
       "1           Beth Mooney              AUS                751\n",
       "2   Chamari Athapaththu               SL                743\n",
       "3       Laura Wolvaardt               SA                708\n",
       "4       Smriti Mandhana              IND                708\n",
       "5          Alyssa Healy              AUS                702\n",
       "6      Harmanpreet Kaur              IND                694\n",
       "7          Ellyse Perry              AUS                686\n",
       "8           Meg Lanning              AUS                682\n",
       "9       Stafanie Taylor               WI                618"
      ]
     },
     "execution_count": 41,
     "metadata": {},
     "output_type": "execute_result"
    }
   ],
   "source": [
    "ODI_TOP_10_Batsman_w"
   ]
  },
  {
   "cell_type": "code",
   "execution_count": 42,
   "id": "012edcfe",
   "metadata": {},
   "outputs": [
    {
     "data": {
      "text/html": [
       "<div>\n",
       "<style scoped>\n",
       "    .dataframe tbody tr th:only-of-type {\n",
       "        vertical-align: middle;\n",
       "    }\n",
       "\n",
       "    .dataframe tbody tr th {\n",
       "        vertical-align: top;\n",
       "    }\n",
       "\n",
       "    .dataframe thead th {\n",
       "        text-align: right;\n",
       "    }\n",
       "</style>\n",
       "<table border=\"1\" class=\"dataframe\">\n",
       "  <thead>\n",
       "    <tr style=\"text-align: right;\">\n",
       "      <th></th>\n",
       "      <th>allrounder_name_w</th>\n",
       "      <th>allrounder_nation_w</th>\n",
       "      <th>allrounder_Rattings_w</th>\n",
       "    </tr>\n",
       "  </thead>\n",
       "  <tbody>\n",
       "    <tr>\n",
       "      <th>0</th>\n",
       "      <td>Natalie Sciver-Brunt</td>\n",
       "      <td>ENG398</td>\n",
       "      <td>398</td>\n",
       "    </tr>\n",
       "    <tr>\n",
       "      <th>1</th>\n",
       "      <td>Ashleigh Gardner</td>\n",
       "      <td>AUS</td>\n",
       "      <td>389</td>\n",
       "    </tr>\n",
       "    <tr>\n",
       "      <th>2</th>\n",
       "      <td>Hayley Matthews</td>\n",
       "      <td>WI</td>\n",
       "      <td>382</td>\n",
       "    </tr>\n",
       "    <tr>\n",
       "      <th>3</th>\n",
       "      <td>Marizanne Kapp</td>\n",
       "      <td>SA</td>\n",
       "      <td>362</td>\n",
       "    </tr>\n",
       "    <tr>\n",
       "      <th>4</th>\n",
       "      <td>Ellyse Perry</td>\n",
       "      <td>AUS</td>\n",
       "      <td>329</td>\n",
       "    </tr>\n",
       "    <tr>\n",
       "      <th>5</th>\n",
       "      <td>Amelia Kerr</td>\n",
       "      <td>NZ</td>\n",
       "      <td>328</td>\n",
       "    </tr>\n",
       "    <tr>\n",
       "      <th>6</th>\n",
       "      <td>Deepti Sharma</td>\n",
       "      <td>IND</td>\n",
       "      <td>312</td>\n",
       "    </tr>\n",
       "    <tr>\n",
       "      <th>7</th>\n",
       "      <td>Jess Jonassen</td>\n",
       "      <td>AUS</td>\n",
       "      <td>241</td>\n",
       "    </tr>\n",
       "    <tr>\n",
       "      <th>8</th>\n",
       "      <td>Sophie Devine</td>\n",
       "      <td>NZ</td>\n",
       "      <td>233</td>\n",
       "    </tr>\n",
       "    <tr>\n",
       "      <th>9</th>\n",
       "      <td>Nida Dar</td>\n",
       "      <td>PAK</td>\n",
       "      <td>217</td>\n",
       "    </tr>\n",
       "  </tbody>\n",
       "</table>\n",
       "</div>"
      ],
      "text/plain": [
       "      allrounder_name_w allrounder_nation_w allrounder_Rattings_w\n",
       "0  Natalie Sciver-Brunt              ENG398                   398\n",
       "1      Ashleigh Gardner                 AUS                   389\n",
       "2       Hayley Matthews                  WI                   382\n",
       "3        Marizanne Kapp                  SA                   362\n",
       "4          Ellyse Perry                 AUS                   329\n",
       "5           Amelia Kerr                  NZ                   328\n",
       "6         Deepti Sharma                 IND                   312\n",
       "7         Jess Jonassen                 AUS                   241\n",
       "8         Sophie Devine                  NZ                   233\n",
       "9              Nida Dar                 PAK                   217"
      ]
     },
     "execution_count": 42,
     "metadata": {},
     "output_type": "execute_result"
    }
   ],
   "source": [
    "ODI_TOP_10_allrounder_w "
   ]
  },
  {
   "cell_type": "code",
   "execution_count": null,
   "id": "bb0bbebb",
   "metadata": {},
   "outputs": [],
   "source": []
  },
  {
   "cell_type": "markdown",
   "id": "402a9400",
   "metadata": {},
   "source": [
    "## ANS.  5"
   ]
  },
  {
   "cell_type": "code",
   "execution_count": 257,
   "id": "ba43d973",
   "metadata": {},
   "outputs": [],
   "source": [
    "import requests \n",
    "from bs4 import BeautifulSoup\n",
    "import pandas as pd"
   ]
  },
  {
   "cell_type": "code",
   "execution_count": 258,
   "id": "0cd02895",
   "metadata": {},
   "outputs": [],
   "source": [
    "url = \"https://www.cnbc.com/world/?region=world\""
   ]
  },
  {
   "cell_type": "code",
   "execution_count": 259,
   "id": "1d33e554",
   "metadata": {},
   "outputs": [
    {
     "data": {
      "text/plain": [
       "<Response [200]>"
      ]
     },
     "execution_count": 259,
     "metadata": {},
     "output_type": "execute_result"
    }
   ],
   "source": [
    "response = requests.get(url)\n",
    "response"
   ]
  },
  {
   "cell_type": "code",
   "execution_count": 260,
   "id": "cd1dbc8f",
   "metadata": {},
   "outputs": [],
   "source": [
    "soup = BeautifulSoup(response.content,\"html.parser\")"
   ]
  },
  {
   "cell_type": "code",
   "execution_count": 261,
   "id": "95bb78ac",
   "metadata": {},
   "outputs": [],
   "source": [
    "news_section = soup.find(\"section\",{\"class\":\"card-grid\"})"
   ]
  },
  {
   "cell_type": "code",
   "execution_count": 262,
   "id": "017d0fc9",
   "metadata": {},
   "outputs": [],
   "source": [
    "headlines =[]\n",
    "times = []\n",
    "news_links = []\n"
   ]
  },
  {
   "cell_type": "code",
   "execution_count": 276,
   "id": "bf7668fa",
   "metadata": {},
   "outputs": [],
   "source": [
    "\n",
    "for i in soup.find_all('div',class_=\"LatestNews-headlineWrapper\"):\n",
    "    headlines.append(i.text.replace('2022',\"Ago\").split(\"Ago\")[1])\n",
    "    \n",
    "\n",
    "for i in soup.find_all('time',class_=\"LatestNews-timestamp\"):\n",
    "    times.append(i.text)\n",
    "\n",
    "for i in soup.find_all('a',class_=\"LatestNews-headline\"):\n",
    "    news_links.append(i['href'])"
   ]
  },
  {
   "cell_type": "code",
   "execution_count": 277,
   "id": "ce663002",
   "metadata": {},
   "outputs": [],
   "source": [
    "latest_news = pd.DataFrame({'Headline':headlines,'Time':times,'News Link':news_links})"
   ]
  },
  {
   "cell_type": "code",
   "execution_count": 602,
   "id": "5b017773",
   "metadata": {},
   "outputs": [
    {
     "data": {
      "text/html": [
       "<div>\n",
       "<style scoped>\n",
       "    .dataframe tbody tr th:only-of-type {\n",
       "        vertical-align: middle;\n",
       "    }\n",
       "\n",
       "    .dataframe tbody tr th {\n",
       "        vertical-align: top;\n",
       "    }\n",
       "\n",
       "    .dataframe thead th {\n",
       "        text-align: right;\n",
       "    }\n",
       "</style>\n",
       "<table border=\"1\" class=\"dataframe\">\n",
       "  <thead>\n",
       "    <tr style=\"text-align: right;\">\n",
       "      <th></th>\n",
       "      <th>Headline</th>\n",
       "      <th>Time</th>\n",
       "      <th>News Link</th>\n",
       "    </tr>\n",
       "  </thead>\n",
       "  <tbody>\n",
       "    <tr>\n",
       "      <th>0</th>\n",
       "      <td>Trump bemoans high interest rates and indicate...</td>\n",
       "      <td>7 Min Ago</td>\n",
       "      <td>https://www.cnbc.com/2023/09/15/trump-bemoans-...</td>\n",
       "    </tr>\n",
       "    <tr>\n",
       "      <th>1</th>\n",
       "      <td>Striking auto workers want a 40% pay increase—...</td>\n",
       "      <td>8 Min Ago</td>\n",
       "      <td>https://www.cnbc.com/2023/09/15/striking-uaw-a...</td>\n",
       "    </tr>\n",
       "    <tr>\n",
       "      <th>2</th>\n",
       "      <td>Senators ask Pentagon for answers on SpaceX’s ...</td>\n",
       "      <td>20 Min Ago</td>\n",
       "      <td>https://www.cnbc.com/2023/09/15/spacex-starlin...</td>\n",
       "    </tr>\n",
       "    <tr>\n",
       "      <th>3</th>\n",
       "      <td>UAW strike brings blue-collar vs. billionaire ...</td>\n",
       "      <td>34 Min Ago</td>\n",
       "      <td>https://www.cnbc.com/2023/09/15/uaw-strike-bri...</td>\n",
       "    </tr>\n",
       "    <tr>\n",
       "      <th>4</th>\n",
       "      <td>Fortinet, Verizon and more: CNBC's 'Halftime R...</td>\n",
       "      <td>39 Min Ago</td>\n",
       "      <td>https://www.cnbc.com/2023/09/15/fortinet-and-m...</td>\n",
       "    </tr>\n",
       "    <tr>\n",
       "      <th>...</th>\n",
       "      <td>...</td>\n",
       "      <td>...</td>\n",
       "      <td>...</td>\n",
       "    </tr>\n",
       "    <tr>\n",
       "      <th>205</th>\n",
       "      <td>This company is transforming the energy drink ...</td>\n",
       "      <td>4 Hours Ago</td>\n",
       "      <td>https://www.cnbc.com/2023/09/15/this-company-i...</td>\n",
       "    </tr>\n",
       "    <tr>\n",
       "      <th>206</th>\n",
       "      <td>Here's where AMC and GameStop are now as 'Dumb...</td>\n",
       "      <td>4 Hours Ago</td>\n",
       "      <td>https://www.cnbc.com/2023/09/15/heres-where-am...</td>\n",
       "    </tr>\n",
       "    <tr>\n",
       "      <th>207</th>\n",
       "      <td>The most 'underrated' nutrient 90% of American...</td>\n",
       "      <td>5 Hours Ago</td>\n",
       "      <td>https://www.cnbc.com/2023/09/15/underrated-nut...</td>\n",
       "    </tr>\n",
       "    <tr>\n",
       "      <th>208</th>\n",
       "      <td>CFP: 'My wife and I have almost entirely separ...</td>\n",
       "      <td>5 Hours Ago</td>\n",
       "      <td>https://www.cnbc.com/2023/09/15/cfp-how-my-wif...</td>\n",
       "    </tr>\n",
       "    <tr>\n",
       "      <th>209</th>\n",
       "      <td>Buy this landfill stock as it flexes its stron...</td>\n",
       "      <td>5 Hours Ago</td>\n",
       "      <td>https://www.cnbc.com/2023/09/15/buy-this-landf...</td>\n",
       "    </tr>\n",
       "  </tbody>\n",
       "</table>\n",
       "<p>210 rows × 3 columns</p>\n",
       "</div>"
      ],
      "text/plain": [
       "                                              Headline         Time  \\\n",
       "0    Trump bemoans high interest rates and indicate...    7 Min Ago   \n",
       "1    Striking auto workers want a 40% pay increase—...    8 Min Ago   \n",
       "2    Senators ask Pentagon for answers on SpaceX’s ...   20 Min Ago   \n",
       "3    UAW strike brings blue-collar vs. billionaire ...   34 Min Ago   \n",
       "4    Fortinet, Verizon and more: CNBC's 'Halftime R...   39 Min Ago   \n",
       "..                                                 ...          ...   \n",
       "205  This company is transforming the energy drink ...  4 Hours Ago   \n",
       "206  Here's where AMC and GameStop are now as 'Dumb...  4 Hours Ago   \n",
       "207  The most 'underrated' nutrient 90% of American...  5 Hours Ago   \n",
       "208  CFP: 'My wife and I have almost entirely separ...  5 Hours Ago   \n",
       "209  Buy this landfill stock as it flexes its stron...  5 Hours Ago   \n",
       "\n",
       "                                             News Link  \n",
       "0    https://www.cnbc.com/2023/09/15/trump-bemoans-...  \n",
       "1    https://www.cnbc.com/2023/09/15/striking-uaw-a...  \n",
       "2    https://www.cnbc.com/2023/09/15/spacex-starlin...  \n",
       "3    https://www.cnbc.com/2023/09/15/uaw-strike-bri...  \n",
       "4    https://www.cnbc.com/2023/09/15/fortinet-and-m...  \n",
       "..                                                 ...  \n",
       "205  https://www.cnbc.com/2023/09/15/this-company-i...  \n",
       "206  https://www.cnbc.com/2023/09/15/heres-where-am...  \n",
       "207  https://www.cnbc.com/2023/09/15/underrated-nut...  \n",
       "208  https://www.cnbc.com/2023/09/15/cfp-how-my-wif...  \n",
       "209  https://www.cnbc.com/2023/09/15/buy-this-landf...  \n",
       "\n",
       "[210 rows x 3 columns]"
      ]
     },
     "execution_count": 602,
     "metadata": {},
     "output_type": "execute_result"
    }
   ],
   "source": [
    "latest_news"
   ]
  },
  {
   "cell_type": "code",
   "execution_count": null,
   "id": "43010c4b",
   "metadata": {},
   "outputs": [],
   "source": []
  },
  {
   "cell_type": "code",
   "execution_count": null,
   "id": "2d70702c",
   "metadata": {},
   "outputs": [],
   "source": []
  },
  {
   "cell_type": "markdown",
   "id": "1ad14f8e",
   "metadata": {},
   "source": [
    "# ANS.  6"
   ]
  },
  {
   "cell_type": "code",
   "execution_count": 659,
   "id": "8594771e",
   "metadata": {},
   "outputs": [],
   "source": [
    "import requests \n",
    "from bs4 import BeautifulSoup\n",
    "import pandas as pd\n",
    "import re"
   ]
  },
  {
   "cell_type": "code",
   "execution_count": 660,
   "id": "d0e7bc8f",
   "metadata": {},
   "outputs": [],
   "source": [
    "url = \"https://www.journals.elsevier.com/artificial-intelligence/most-downloaded-articles\""
   ]
  },
  {
   "cell_type": "code",
   "execution_count": 661,
   "id": "b31306f5",
   "metadata": {},
   "outputs": [
    {
     "data": {
      "text/plain": [
       "<Response [200]>"
      ]
     },
     "execution_count": 661,
     "metadata": {},
     "output_type": "execute_result"
    }
   ],
   "source": [
    "response = requests.get(url)\n",
    "response"
   ]
  },
  {
   "cell_type": "code",
   "execution_count": 662,
   "id": "4010df5d",
   "metadata": {},
   "outputs": [],
   "source": [
    "soup = BeautifulSoup(response.content,)"
   ]
  },
  {
   "cell_type": "code",
   "execution_count": 663,
   "id": "4dd89c6a",
   "metadata": {},
   "outputs": [],
   "source": [
    "paper_titles = []\n",
    "authors_lists = []\n",
    "published_dates = []\n",
    "papers_urls = []"
   ]
  },
  {
   "cell_type": "code",
   "execution_count": 664,
   "id": "91b57350",
   "metadata": {},
   "outputs": [],
   "source": [
    "for i in soup.find_all('h2',class_=\"sc-1qrq3sd-1 gRGSUS sc-1nmom32-0 sc-1nmom32-1 btcbYu goSKRg\"):\n",
    "    paper_titles.append(i.text)\n",
    "\n",
    "for i in soup.find_all('span',class_=\"sc-1w3fpd7-0 dnCnAO\"):\n",
    "    authors_lists.append(i.text)\n",
    "\n",
    "for i in soup.find_all('span',class_=\"sc-1thf9ly-2 dvggWt\"):\n",
    "    published_dates.append(i.text)\n",
    "\n",
    "\n",
    "for i in soup.find_all('a',atters={'href': re.compile(\"^https://\")},class_=\"sc-5smygv-0 nrDZj\"):\n",
    "    papers_urls.append(i.get('href'))"
   ]
  },
  {
   "cell_type": "code",
   "execution_count": 665,
   "id": "08470529",
   "metadata": {
    "scrolled": false
   },
   "outputs": [
    {
     "data": {
      "text/html": [
       "<div>\n",
       "<style scoped>\n",
       "    .dataframe tbody tr th:only-of-type {\n",
       "        vertical-align: middle;\n",
       "    }\n",
       "\n",
       "    .dataframe tbody tr th {\n",
       "        vertical-align: top;\n",
       "    }\n",
       "\n",
       "    .dataframe thead th {\n",
       "        text-align: right;\n",
       "    }\n",
       "</style>\n",
       "<table border=\"1\" class=\"dataframe\">\n",
       "  <thead>\n",
       "    <tr style=\"text-align: right;\">\n",
       "      <th></th>\n",
       "      <th>Paper Title</th>\n",
       "      <th>Authors</th>\n",
       "      <th>Published Date</th>\n",
       "    </tr>\n",
       "  </thead>\n",
       "  <tbody>\n",
       "    <tr>\n",
       "      <th>0</th>\n",
       "      <td>Reward is enough</td>\n",
       "      <td>David Silver, Satinder Singh, Doina Precup, Ri...</td>\n",
       "      <td>October 2021</td>\n",
       "    </tr>\n",
       "    <tr>\n",
       "      <th>1</th>\n",
       "      <td>Explanation in artificial intelligence: Insigh...</td>\n",
       "      <td>Tim Miller</td>\n",
       "      <td>February 2019</td>\n",
       "    </tr>\n",
       "    <tr>\n",
       "      <th>2</th>\n",
       "      <td>Creativity and artificial intelligence</td>\n",
       "      <td>Margaret A. Boden</td>\n",
       "      <td>August 1998</td>\n",
       "    </tr>\n",
       "    <tr>\n",
       "      <th>3</th>\n",
       "      <td>Conflict-based search for optimal multi-agent ...</td>\n",
       "      <td>Guni Sharon, Roni Stern, Ariel Felner, Nathan ...</td>\n",
       "      <td>February 2015</td>\n",
       "    </tr>\n",
       "    <tr>\n",
       "      <th>4</th>\n",
       "      <td>Knowledge graphs as tools for explainable mach...</td>\n",
       "      <td>Ilaria Tiddi, Stefan Schlobach</td>\n",
       "      <td>January 2022</td>\n",
       "    </tr>\n",
       "    <tr>\n",
       "      <th>5</th>\n",
       "      <td>Law and logic: A review from an argumentation ...</td>\n",
       "      <td>Henry Prakken, Giovanni Sartor</td>\n",
       "      <td>October 2015</td>\n",
       "    </tr>\n",
       "    <tr>\n",
       "      <th>6</th>\n",
       "      <td>Between MDPs and semi-MDPs: A framework for te...</td>\n",
       "      <td>Richard S. Sutton, Doina Precup, Satinder Singh</td>\n",
       "      <td>August 1999</td>\n",
       "    </tr>\n",
       "    <tr>\n",
       "      <th>7</th>\n",
       "      <td>Explaining individual predictions when feature...</td>\n",
       "      <td>Kjersti Aas, Martin Jullum, Anders Løland</td>\n",
       "      <td>September 2021</td>\n",
       "    </tr>\n",
       "    <tr>\n",
       "      <th>8</th>\n",
       "      <td>Multiple object tracking: A literature review</td>\n",
       "      <td>Wenhan Luo, Junliang Xing and 4 more</td>\n",
       "      <td>April 2021</td>\n",
       "    </tr>\n",
       "    <tr>\n",
       "      <th>9</th>\n",
       "      <td>A survey of inverse reinforcement learning: Ch...</td>\n",
       "      <td>Saurabh Arora, Prashant Doshi</td>\n",
       "      <td>August 2021</td>\n",
       "    </tr>\n",
       "    <tr>\n",
       "      <th>10</th>\n",
       "      <td>Evaluating XAI: A comparison of rule-based and...</td>\n",
       "      <td>Jasper van der Waa, Elisabeth Nieuwburg, Anita...</td>\n",
       "      <td>February 2021</td>\n",
       "    </tr>\n",
       "    <tr>\n",
       "      <th>11</th>\n",
       "      <td>Explainable AI tools for legal reasoning about...</td>\n",
       "      <td>Joe Collenette, Katie Atkinson, Trevor Bench-C...</td>\n",
       "      <td>April 2023</td>\n",
       "    </tr>\n",
       "    <tr>\n",
       "      <th>12</th>\n",
       "      <td>Hard choices in artificial intelligence</td>\n",
       "      <td>Roel Dobbe, Thomas Krendl Gilbert, Yonatan Mintz</td>\n",
       "      <td>November 2021</td>\n",
       "    </tr>\n",
       "    <tr>\n",
       "      <th>13</th>\n",
       "      <td>Assessing the communication gap between AI mod...</td>\n",
       "      <td>Oskar Wysocki, Jessica Katharine Davies and 5 ...</td>\n",
       "      <td>March 2023</td>\n",
       "    </tr>\n",
       "    <tr>\n",
       "      <th>14</th>\n",
       "      <td>Explaining black-box classifiers using post-ho...</td>\n",
       "      <td>Eoin M. Kenny, Courtney Ford, Molly Quinn, Mar...</td>\n",
       "      <td>May 2021</td>\n",
       "    </tr>\n",
       "    <tr>\n",
       "      <th>15</th>\n",
       "      <td>The Hanabi challenge: A new frontier for AI re...</td>\n",
       "      <td>Nolan Bard, Jakob N. Foerster and 13 more</td>\n",
       "      <td>March 2020</td>\n",
       "    </tr>\n",
       "    <tr>\n",
       "      <th>16</th>\n",
       "      <td>Wrappers for feature subset selection</td>\n",
       "      <td>Ron Kohavi, George H. John</td>\n",
       "      <td>December 1997</td>\n",
       "    </tr>\n",
       "    <tr>\n",
       "      <th>17</th>\n",
       "      <td>Artificial cognition for social human–robot in...</td>\n",
       "      <td>Séverin Lemaignan, Mathieu Warnier and 3 more</td>\n",
       "      <td>June 2017</td>\n",
       "    </tr>\n",
       "    <tr>\n",
       "      <th>18</th>\n",
       "      <td>A review of possible effects of cognitive bias...</td>\n",
       "      <td>Tomáš Kliegr, Štěpán Bahník, Johannes Fürnkranz</td>\n",
       "      <td>June 2021</td>\n",
       "    </tr>\n",
       "    <tr>\n",
       "      <th>19</th>\n",
       "      <td>The multifaceted impact of Ada Lovelace in the...</td>\n",
       "      <td>Luigia Carlucci Aiello</td>\n",
       "      <td>June 2016</td>\n",
       "    </tr>\n",
       "    <tr>\n",
       "      <th>20</th>\n",
       "      <td>Robot ethics: Mapping the issues for a mechani...</td>\n",
       "      <td>Patrick Lin, Keith Abney, George Bekey</td>\n",
       "      <td>April 2011</td>\n",
       "    </tr>\n",
       "    <tr>\n",
       "      <th>21</th>\n",
       "      <td>Reward (Mis)design for autonomous driving</td>\n",
       "      <td>W. Bradley Knox, Alessandro Allievi and 3 more</td>\n",
       "      <td>March 2023</td>\n",
       "    </tr>\n",
       "    <tr>\n",
       "      <th>22</th>\n",
       "      <td>Planning and acting in partially observable st...</td>\n",
       "      <td>Leslie Pack Kaelbling, Michael L. Littman, Ant...</td>\n",
       "      <td>May 1998</td>\n",
       "    </tr>\n",
       "    <tr>\n",
       "      <th>23</th>\n",
       "      <td>What do we want from Explainable Artificial In...</td>\n",
       "      <td>Markus Langer, Daniel Oster and 6 more</td>\n",
       "      <td>July 2021</td>\n",
       "    </tr>\n",
       "  </tbody>\n",
       "</table>\n",
       "</div>"
      ],
      "text/plain": [
       "                                          Paper Title  \\\n",
       "0                                    Reward is enough   \n",
       "1   Explanation in artificial intelligence: Insigh...   \n",
       "2              Creativity and artificial intelligence   \n",
       "3   Conflict-based search for optimal multi-agent ...   \n",
       "4   Knowledge graphs as tools for explainable mach...   \n",
       "5   Law and logic: A review from an argumentation ...   \n",
       "6   Between MDPs and semi-MDPs: A framework for te...   \n",
       "7   Explaining individual predictions when feature...   \n",
       "8       Multiple object tracking: A literature review   \n",
       "9   A survey of inverse reinforcement learning: Ch...   \n",
       "10  Evaluating XAI: A comparison of rule-based and...   \n",
       "11  Explainable AI tools for legal reasoning about...   \n",
       "12            Hard choices in artificial intelligence   \n",
       "13  Assessing the communication gap between AI mod...   \n",
       "14  Explaining black-box classifiers using post-ho...   \n",
       "15  The Hanabi challenge: A new frontier for AI re...   \n",
       "16              Wrappers for feature subset selection   \n",
       "17  Artificial cognition for social human–robot in...   \n",
       "18  A review of possible effects of cognitive bias...   \n",
       "19  The multifaceted impact of Ada Lovelace in the...   \n",
       "20  Robot ethics: Mapping the issues for a mechani...   \n",
       "21          Reward (Mis)design for autonomous driving   \n",
       "22  Planning and acting in partially observable st...   \n",
       "23  What do we want from Explainable Artificial In...   \n",
       "\n",
       "                                              Authors  Published Date  \n",
       "0   David Silver, Satinder Singh, Doina Precup, Ri...    October 2021  \n",
       "1                                         Tim Miller    February 2019  \n",
       "2                                  Margaret A. Boden      August 1998  \n",
       "3   Guni Sharon, Roni Stern, Ariel Felner, Nathan ...   February 2015  \n",
       "4                     Ilaria Tiddi, Stefan Schlobach     January 2022  \n",
       "5                     Henry Prakken, Giovanni Sartor     October 2015  \n",
       "6    Richard S. Sutton, Doina Precup, Satinder Singh      August 1999  \n",
       "7          Kjersti Aas, Martin Jullum, Anders Løland   September 2021  \n",
       "8                Wenhan Luo, Junliang Xing and 4 more      April 2021  \n",
       "9                      Saurabh Arora, Prashant Doshi      August 2021  \n",
       "10  Jasper van der Waa, Elisabeth Nieuwburg, Anita...   February 2021  \n",
       "11  Joe Collenette, Katie Atkinson, Trevor Bench-C...      April 2023  \n",
       "12  Roel Dobbe, Thomas Krendl Gilbert, Yonatan Mintz    November 2021  \n",
       "13  Oskar Wysocki, Jessica Katharine Davies and 5 ...      March 2023  \n",
       "14  Eoin M. Kenny, Courtney Ford, Molly Quinn, Mar...        May 2021  \n",
       "15          Nolan Bard, Jakob N. Foerster and 13 more      March 2020  \n",
       "16                        Ron Kohavi, George H. John    December 1997  \n",
       "17      Séverin Lemaignan, Mathieu Warnier and 3 more       June 2017  \n",
       "18   Tomáš Kliegr, Štěpán Bahník, Johannes Fürnkranz        June 2021  \n",
       "19                            Luigia Carlucci Aiello        June 2016  \n",
       "20            Patrick Lin, Keith Abney, George Bekey       April 2011  \n",
       "21     W. Bradley Knox, Alessandro Allievi and 3 more      March 2023  \n",
       "22  Leslie Pack Kaelbling, Michael L. Littman, Ant...        May 1998  \n",
       "23             Markus Langer, Daniel Oster and 6 more       July 2021  "
      ]
     },
     "execution_count": 665,
     "metadata": {},
     "output_type": "execute_result"
    }
   ],
   "source": [
    "data = {'Paper Title': paper_titles,'Authors': authors_lists,'Published Date': published_dates}\n",
    "df = pd.DataFrame(data)\n",
    "df"
   ]
  },
  {
   "cell_type": "code",
   "execution_count": null,
   "id": "1ebe98a9",
   "metadata": {},
   "outputs": [],
   "source": []
  },
  {
   "cell_type": "markdown",
   "id": "c2ac3157",
   "metadata": {},
   "source": [
    "# ANS. 7"
   ]
  },
  {
   "cell_type": "code",
   "execution_count": 451,
   "id": "4efce200",
   "metadata": {},
   "outputs": [],
   "source": [
    "import requests \n",
    "from bs4 import BeautifulSoup\n",
    "import pandas as pd"
   ]
  },
  {
   "cell_type": "code",
   "execution_count": 452,
   "id": "10bff5f3",
   "metadata": {},
   "outputs": [],
   "source": [
    "url = \"https://www.dineout.co.in/delhi-restaurants/buffet-special\""
   ]
  },
  {
   "cell_type": "code",
   "execution_count": 454,
   "id": "61099e88",
   "metadata": {},
   "outputs": [
    {
     "data": {
      "text/plain": [
       "<Response [200]>"
      ]
     },
     "execution_count": 454,
     "metadata": {},
     "output_type": "execute_result"
    }
   ],
   "source": [
    "response = requests.get(url)\n",
    "response"
   ]
  },
  {
   "cell_type": "code",
   "execution_count": 455,
   "id": "a4239861",
   "metadata": {},
   "outputs": [],
   "source": [
    "dineout_page = BeautifulSoup(response.content)"
   ]
  },
  {
   "cell_type": "code",
   "execution_count": 456,
   "id": "66b38771",
   "metadata": {},
   "outputs": [],
   "source": [
    "RestaurantName=[]\n",
    "Cuisine=[]\n",
    "Location=[]\n",
    "Ratings=[]\n",
    "ImageURL=[]"
   ]
  },
  {
   "cell_type": "code",
   "execution_count": 457,
   "id": "2e454cc0",
   "metadata": {},
   "outputs": [],
   "source": [
    "for i in dineout_page.find_all('div',class_=\"restnt-info cursor\"):\n",
    "    RestaurantName.append(i.text)\n",
    "\n",
    "for i in dineout_page.find_all('span',class_=\"double-line-ellipsis\"):\n",
    "    Cuisine.append(i.text.split(\"|\")[1])\n",
    "\n",
    "for i in dineout_page.find_all('div',class_=\"restnt-loc ellipsis\"):\n",
    "    Location.append(i.text)\n",
    "\n",
    "for i in dineout_page.find_all('div',class_=\"restnt-rating rating-4\"):\n",
    "    Ratings.append(i.text)\n",
    "\n",
    "for i in dineout_page.find_all('img',class_=\"no-img\"):\n",
    "    ImageURL.append(i['data-src'])"
   ]
  },
  {
   "cell_type": "code",
   "execution_count": 458,
   "id": "4aff5a26",
   "metadata": {},
   "outputs": [
    {
     "data": {
      "text/html": [
       "<div>\n",
       "<style scoped>\n",
       "    .dataframe tbody tr th:only-of-type {\n",
       "        vertical-align: middle;\n",
       "    }\n",
       "\n",
       "    .dataframe tbody tr th {\n",
       "        vertical-align: top;\n",
       "    }\n",
       "\n",
       "    .dataframe thead th {\n",
       "        text-align: right;\n",
       "    }\n",
       "</style>\n",
       "<table border=\"1\" class=\"dataframe\">\n",
       "  <thead>\n",
       "    <tr style=\"text-align: right;\">\n",
       "      <th></th>\n",
       "      <th>Restaurant name</th>\n",
       "      <th>Cuisine</th>\n",
       "      <th>Location</th>\n",
       "      <th>Ratings</th>\n",
       "      <th>Image URL</th>\n",
       "    </tr>\n",
       "  </thead>\n",
       "  <tbody>\n",
       "    <tr>\n",
       "      <th>0</th>\n",
       "      <td>Castle BarbequeConnaught Place, Central Delhi</td>\n",
       "      <td>Chinese, North Indian</td>\n",
       "      <td>Connaught Place, Central Delhi</td>\n",
       "      <td>4</td>\n",
       "      <td>https://im1.dineout.co.in/images/uploads/resta...</td>\n",
       "    </tr>\n",
       "    <tr>\n",
       "      <th>1</th>\n",
       "      <td>Cafe KnoshThe Leela Ambience Convention Hotel,...</td>\n",
       "      <td>Italian, Continental</td>\n",
       "      <td>The Leela Ambience Convention Hotel,Shahdara, ...</td>\n",
       "      <td>4.3</td>\n",
       "      <td>https://im1.dineout.co.in/images/uploads/resta...</td>\n",
       "    </tr>\n",
       "    <tr>\n",
       "      <th>2</th>\n",
       "      <td>Castle's BarbequePacific Mall,Tagore Garden, W...</td>\n",
       "      <td>Chinese, North Indian</td>\n",
       "      <td>Pacific Mall,Tagore Garden, West Delhi</td>\n",
       "      <td>3.9</td>\n",
       "      <td>https://im1.dineout.co.in/images/uploads/resta...</td>\n",
       "    </tr>\n",
       "    <tr>\n",
       "      <th>3</th>\n",
       "      <td>India GrillHilton Garden Inn,Saket, South Delhi</td>\n",
       "      <td>North Indian, Italian</td>\n",
       "      <td>Hilton Garden Inn,Saket, South Delhi</td>\n",
       "      <td>3.9</td>\n",
       "      <td>https://im1.dineout.co.in/images/uploads/resta...</td>\n",
       "    </tr>\n",
       "    <tr>\n",
       "      <th>4</th>\n",
       "      <td>The Barbeque CompanyGardens Galleria,Sector 38...</td>\n",
       "      <td>North Indian, Chinese</td>\n",
       "      <td>Gardens Galleria,Sector 38A, Noida</td>\n",
       "      <td>3.9</td>\n",
       "      <td>https://im1.dineout.co.in/images/uploads/resta...</td>\n",
       "    </tr>\n",
       "    <tr>\n",
       "      <th>5</th>\n",
       "      <td>Delhi BarbequeTaurus Sarovar Portico,Mahipalpu...</td>\n",
       "      <td>North Indian</td>\n",
       "      <td>Taurus Sarovar Portico,Mahipalpur, South Delhi</td>\n",
       "      <td>3.7</td>\n",
       "      <td>https://im1.dineout.co.in/images/uploads/resta...</td>\n",
       "    </tr>\n",
       "    <tr>\n",
       "      <th>6</th>\n",
       "      <td>The Monarch - Bar Be Que VillageIndirapuram Ha...</td>\n",
       "      <td>North Indian</td>\n",
       "      <td>Indirapuram Habitat Centre,Indirapuram, Ghaziabad</td>\n",
       "      <td>3.8</td>\n",
       "      <td>https://im1.dineout.co.in/images/uploads/resta...</td>\n",
       "    </tr>\n",
       "    <tr>\n",
       "      <th>7</th>\n",
       "      <td>Indian Grill RoomSuncity Business Tower,Golf C...</td>\n",
       "      <td>North Indian, Mughlai</td>\n",
       "      <td>Suncity Business Tower,Golf Course Road, Gurgaon</td>\n",
       "      <td>4.3</td>\n",
       "      <td>https://im1.dineout.co.in/images/uploads/resta...</td>\n",
       "    </tr>\n",
       "    <tr>\n",
       "      <th>8</th>\n",
       "      <td>The Barbeque TimesM2K Corporate Park,Sector 51...</td>\n",
       "      <td>North Indian, Continental, Chinese, South Indian</td>\n",
       "      <td>M2K Corporate Park,Sector 51, Gurgaon</td>\n",
       "      <td>4.1</td>\n",
       "      <td>https://im1.dineout.co.in/images/uploads/resta...</td>\n",
       "    </tr>\n",
       "  </tbody>\n",
       "</table>\n",
       "</div>"
      ],
      "text/plain": [
       "                                     Restaurant name  \\\n",
       "0      Castle BarbequeConnaught Place, Central Delhi   \n",
       "1  Cafe KnoshThe Leela Ambience Convention Hotel,...   \n",
       "2  Castle's BarbequePacific Mall,Tagore Garden, W...   \n",
       "3    India GrillHilton Garden Inn,Saket, South Delhi   \n",
       "4  The Barbeque CompanyGardens Galleria,Sector 38...   \n",
       "5  Delhi BarbequeTaurus Sarovar Portico,Mahipalpu...   \n",
       "6  The Monarch - Bar Be Que VillageIndirapuram Ha...   \n",
       "7  Indian Grill RoomSuncity Business Tower,Golf C...   \n",
       "8  The Barbeque TimesM2K Corporate Park,Sector 51...   \n",
       "\n",
       "                                             Cuisine  \\\n",
       "0                              Chinese, North Indian   \n",
       "1                               Italian, Continental   \n",
       "2                              Chinese, North Indian   \n",
       "3                              North Indian, Italian   \n",
       "4                              North Indian, Chinese   \n",
       "5                                       North Indian   \n",
       "6                                       North Indian   \n",
       "7                              North Indian, Mughlai   \n",
       "8   North Indian, Continental, Chinese, South Indian   \n",
       "\n",
       "                                            Location Ratings  \\\n",
       "0                     Connaught Place, Central Delhi       4   \n",
       "1  The Leela Ambience Convention Hotel,Shahdara, ...     4.3   \n",
       "2             Pacific Mall,Tagore Garden, West Delhi     3.9   \n",
       "3               Hilton Garden Inn,Saket, South Delhi     3.9   \n",
       "4                 Gardens Galleria,Sector 38A, Noida     3.9   \n",
       "5     Taurus Sarovar Portico,Mahipalpur, South Delhi     3.7   \n",
       "6  Indirapuram Habitat Centre,Indirapuram, Ghaziabad     3.8   \n",
       "7   Suncity Business Tower,Golf Course Road, Gurgaon     4.3   \n",
       "8              M2K Corporate Park,Sector 51, Gurgaon     4.1   \n",
       "\n",
       "                                           Image URL  \n",
       "0  https://im1.dineout.co.in/images/uploads/resta...  \n",
       "1  https://im1.dineout.co.in/images/uploads/resta...  \n",
       "2  https://im1.dineout.co.in/images/uploads/resta...  \n",
       "3  https://im1.dineout.co.in/images/uploads/resta...  \n",
       "4  https://im1.dineout.co.in/images/uploads/resta...  \n",
       "5  https://im1.dineout.co.in/images/uploads/resta...  \n",
       "6  https://im1.dineout.co.in/images/uploads/resta...  \n",
       "7  https://im1.dineout.co.in/images/uploads/resta...  \n",
       "8  https://im1.dineout.co.in/images/uploads/resta...  "
      ]
     },
     "execution_count": 458,
     "metadata": {},
     "output_type": "execute_result"
    }
   ],
   "source": [
    "data = {'Restaurant name':RestaurantName,'Cuisine':Cuisine,'Location':Location,'Ratings':Ratings,'Image URL':ImageURL}\n",
    "df = pd.DataFrame(data)\n",
    "df"
   ]
  },
  {
   "cell_type": "code",
   "execution_count": null,
   "id": "0ec26960",
   "metadata": {},
   "outputs": [],
   "source": []
  }
 ],
 "metadata": {
  "kernelspec": {
   "display_name": "Python 3 (ipykernel)",
   "language": "python",
   "name": "python3"
  },
  "language_info": {
   "codemirror_mode": {
    "name": "ipython",
    "version": 3
   },
   "file_extension": ".py",
   "mimetype": "text/x-python",
   "name": "python",
   "nbconvert_exporter": "python",
   "pygments_lexer": "ipython3",
   "version": "3.9.13"
  }
 },
 "nbformat": 4,
 "nbformat_minor": 5
}
