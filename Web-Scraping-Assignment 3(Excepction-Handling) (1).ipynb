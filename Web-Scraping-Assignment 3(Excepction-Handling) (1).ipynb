{
 "cells": [
  {
   "cell_type": "code",
   "execution_count": 1,
   "id": "f8712d92",
   "metadata": {},
   "outputs": [],
   "source": [
    "import selenium\n",
    "from selenium import webdriver\n",
    "import pandas as pd\n",
    "from selenium.webdriver.common.by import By\n",
    "from selenium.common.exceptions import NoSuchElementException,StaleElementReferenceException\n",
    "import time\n",
    "\n",
    "import warnings\n",
    "warnings.filterwarnings('ignore')"
   ]
  },
  {
   "cell_type": "markdown",
   "id": "79a41737",
   "metadata": {},
   "source": [
    "# 1. Write a python program which searches all the product under a particular product from www.amazon.in. The product to be searched will be taken as input from user. For e.g. If user input is ‘guitar’. Then search for guitars."
   ]
  },
  {
   "cell_type": "code",
   "execution_count": 2,
   "id": "9685d6d3",
   "metadata": {},
   "outputs": [],
   "source": [
    "#Activating the chrome browser\n",
    "driver = webdriver.Chrome()"
   ]
  },
  {
   "cell_type": "code",
   "execution_count": 3,
   "id": "802ee40a",
   "metadata": {},
   "outputs": [],
   "source": [
    "url = 'https://www.amazon.in/'\n",
    "driver.get(url)"
   ]
  },
  {
   "cell_type": "code",
   "execution_count": 4,
   "id": "9c4e145b",
   "metadata": {},
   "outputs": [
    {
     "name": "stdout",
     "output_type": "stream",
     "text": [
      "Enter what you want to search :guitar\n"
     ]
    }
   ],
   "source": [
    "prod = input('Enter what you want to search :')"
   ]
  },
  {
   "cell_type": "code",
   "execution_count": 5,
   "id": "e2aba54c",
   "metadata": {},
   "outputs": [],
   "source": [
    "search = driver.find_element(By.XPATH,'/html/body/div[1]/header/div/div[1]/div[2]/div/form/div[2]/div[1]/input')\n",
    "search.send_keys(prod)\n",
    "search.submit()"
   ]
  },
  {
   "cell_type": "markdown",
   "id": "fce73aef",
   "metadata": {},
   "source": [
    "# 2. In the above question, now scrape the following details of each product listed in first 3 pages of your search results and save it in a data frame and csv. In case if any product has less than 3 pages in search results then scrape all the products available under that product name. Details to be scraped are: \"Brand Name\", \"Name of the Product\", \"Price\", \"Return/Exchange\", \"Expected Delivery\", \"Availability\" and “Product URL”. In case, if any of the details are missing for any of the product then replace it by “-“."
   ]
  },
  {
   "cell_type": "code",
   "execution_count": 6,
   "id": "966d70f8",
   "metadata": {},
   "outputs": [],
   "source": [
    "name,price,dilevery,url = [],[],[],[]\n",
    "for i in driver.find_elements(By.XPATH,\"//span[@class = 'a-size-base-plus a-color-base a-text-normal']\"):\n",
    "    name.append(i.text)\n",
    "for i in driver.find_elements(By.XPATH,\"//span[@class = 'a-price-whole']\"):\n",
    "    price.append(i.text)\n",
    "for i in driver.find_elements(By.XPATH,\"//span[@class = 'a-color-base a-text-bold']\"):\n",
    "    dilevery.append(i.text)\n",
    "for i in driver.find_elements(By.XPATH,\"//a[@class = 'a-link-normal s-underline-text s-underline-link-text s-link-style a-text-normal']\"):\n",
    "    url.append(i.get_attribute('href'))"
   ]
  },
  {
   "cell_type": "code",
   "execution_count": 8,
   "id": "e2cac18d",
   "metadata": {},
   "outputs": [],
   "source": [
    "nex = driver.find_element(By.XPATH,'/html/body/div[1]/div[1]/div[1]/div[1]/div/span[1]/div[1]/div[65]/div/div/span/a[3]')\n",
    "nex.click()"
   ]
  },
  {
   "cell_type": "code",
   "execution_count": 9,
   "id": "3cf7a079",
   "metadata": {},
   "outputs": [],
   "source": [
    "for i in driver.find_elements(By.XPATH,\"//span[@class = 'a-size-base-plus a-color-base a-text-normal']\"):\n",
    "    name.append(i.text)\n",
    "for i in driver.find_elements(By.XPATH,\"//span[@class = 'a-price-whole']\"):\n",
    "    price.append(i.text)\n",
    "for i in driver.find_elements(By.XPATH,\"//span[@class = 'a-color-base a-text-bold']\"):\n",
    "    dilevery.append(i.text)\n",
    "for i in driver.find_elements(By.XPATH,\"//a[@class = 'a-link-normal s-underline-text s-underline-link-text s-link-style a-text-normal']\"):\n",
    "    url.append(i.get_attribute('href'))"
   ]
  },
  {
   "cell_type": "code",
   "execution_count": 10,
   "id": "f94d9b73",
   "metadata": {},
   "outputs": [],
   "source": [
    "nex = driver.find_element(By.XPATH,'/html/body/div[1]/div[1]/div[1]/div[1]/div/span[1]/div[1]/div[63]/div/div/span/a[4]')\n",
    "nex.click()"
   ]
  },
  {
   "cell_type": "code",
   "execution_count": 11,
   "id": "b328c24a",
   "metadata": {},
   "outputs": [],
   "source": [
    "for i in driver.find_elements(By.XPATH,\"//span[@class = 'a-size-base-plus a-color-base a-text-normal']\"):\n",
    "    name.append(i.text)\n",
    "for i in driver.find_elements(By.XPATH,\"//span[@class = 'a-price-whole']\"):\n",
    "    price.append(i.text)\n",
    "for i in driver.find_elements(By.XPATH,\"//span[@class = 'a-color-base a-text-bold']\"):\n",
    "    dilevery.append(i.text)\n",
    "for i in driver.find_elements(By.XPATH,\"//a[@class = 'a-link-normal s-underline-text s-underline-link-text s-link-style a-text-normal']\"):\n",
    "    url.append(i.get_attribute('href'))"
   ]
  },
  {
   "cell_type": "code",
   "execution_count": 12,
   "id": "d6ac1438",
   "metadata": {},
   "outputs": [
    {
     "data": {
      "text/plain": [
       "(184, 186, 176, 184)"
      ]
     },
     "execution_count": 12,
     "metadata": {},
     "output_type": "execute_result"
    }
   ],
   "source": [
    "len(name),len(price),len(dilevery),len(url)\n"
   ]
  },
  {
   "cell_type": "code",
   "execution_count": 13,
   "id": "88e9c94e",
   "metadata": {},
   "outputs": [],
   "source": [
    "guti = pd.DataFrame({'Brand Name':name[0:176],'Price':price[0:176],'Expected Dilevery':dilevery,'Product URL':url[0:176],'Availability':'Available'})"
   ]
  },
  {
   "cell_type": "code",
   "execution_count": 14,
   "id": "7964bdf4",
   "metadata": {},
   "outputs": [],
   "source": [
    "guti.to_csv('guitar.csv')"
   ]
  },
  {
   "cell_type": "code",
   "execution_count": 78,
   "id": "2492baf8",
   "metadata": {},
   "outputs": [
    {
     "data": {
      "text/html": [
       "<div>\n",
       "<style scoped>\n",
       "    .dataframe tbody tr th:only-of-type {\n",
       "        vertical-align: middle;\n",
       "    }\n",
       "\n",
       "    .dataframe tbody tr th {\n",
       "        vertical-align: top;\n",
       "    }\n",
       "\n",
       "    .dataframe thead th {\n",
       "        text-align: right;\n",
       "    }\n",
       "</style>\n",
       "<table border=\"1\" class=\"dataframe\">\n",
       "  <thead>\n",
       "    <tr style=\"text-align: right;\">\n",
       "      <th></th>\n",
       "      <th>Unnamed: 0</th>\n",
       "      <th>Brand Name</th>\n",
       "      <th>Price</th>\n",
       "      <th>Expected Dilevery</th>\n",
       "      <th>Product URL</th>\n",
       "      <th>Availability</th>\n",
       "    </tr>\n",
       "  </thead>\n",
       "  <tbody>\n",
       "    <tr>\n",
       "      <th>0</th>\n",
       "      <td>0</td>\n",
       "      <td>Kadence rosewood Guitar Frontier Series, Elect...</td>\n",
       "      <td>6,999</td>\n",
       "      <td>Saturday, 7 October</td>\n",
       "      <td>https://www.amazon.in/sspa/click?ie=UTF8&amp;spc=M...</td>\n",
       "      <td>Available</td>\n",
       "    </tr>\n",
       "    <tr>\n",
       "      <th>1</th>\n",
       "      <td>1</td>\n",
       "      <td>Kadence Frontier guitar with Online Guitar lea...</td>\n",
       "      <td>6,999</td>\n",
       "      <td>Thursday, 5 October</td>\n",
       "      <td>https://www.amazon.in/sspa/click?ie=UTF8&amp;spc=M...</td>\n",
       "      <td>Available</td>\n",
       "    </tr>\n",
       "    <tr>\n",
       "      <th>2</th>\n",
       "      <td>2</td>\n",
       "      <td>Henrix 38C 38 Inch Cutaway Acoustic Guitar Wit...</td>\n",
       "      <td>6,999</td>\n",
       "      <td>Saturday, 7 October</td>\n",
       "      <td>https://www.amazon.in/sspa/click?ie=UTF8&amp;spc=M...</td>\n",
       "      <td>Available</td>\n",
       "    </tr>\n",
       "    <tr>\n",
       "      <th>3</th>\n",
       "      <td>3</td>\n",
       "      <td>Revel Acoustic Guitar with Carry bag and Plect...</td>\n",
       "      <td>4,999</td>\n",
       "      <td>Wednesday, 4 October</td>\n",
       "      <td>https://www.amazon.in/sspa/click?ie=UTF8&amp;spc=M...</td>\n",
       "      <td>Available</td>\n",
       "    </tr>\n",
       "    <tr>\n",
       "      <th>4</th>\n",
       "      <td>4</td>\n",
       "      <td>Juârez Acoustic Guitar, 38 Inch Cutaway, 038C ...</td>\n",
       "      <td>4,299</td>\n",
       "      <td>Monday, 2 October</td>\n",
       "      <td>https://www.amazon.in/Juarez-Acoustic-Cutaway-...</td>\n",
       "      <td>Available</td>\n",
       "    </tr>\n",
       "  </tbody>\n",
       "</table>\n",
       "</div>"
      ],
      "text/plain": [
       "   Unnamed: 0                                         Brand Name  Price  \\\n",
       "0           0  Kadence rosewood Guitar Frontier Series, Elect...  6,999   \n",
       "1           1  Kadence Frontier guitar with Online Guitar lea...  6,999   \n",
       "2           2  Henrix 38C 38 Inch Cutaway Acoustic Guitar Wit...  6,999   \n",
       "3           3  Revel Acoustic Guitar with Carry bag and Plect...  4,999   \n",
       "4           4  Juârez Acoustic Guitar, 38 Inch Cutaway, 038C ...  4,299   \n",
       "\n",
       "      Expected Dilevery                                        Product URL  \\\n",
       "0   Saturday, 7 October  https://www.amazon.in/sspa/click?ie=UTF8&spc=M...   \n",
       "1   Thursday, 5 October  https://www.amazon.in/sspa/click?ie=UTF8&spc=M...   \n",
       "2   Saturday, 7 October  https://www.amazon.in/sspa/click?ie=UTF8&spc=M...   \n",
       "3  Wednesday, 4 October  https://www.amazon.in/sspa/click?ie=UTF8&spc=M...   \n",
       "4     Monday, 2 October  https://www.amazon.in/Juarez-Acoustic-Cutaway-...   \n",
       "\n",
       "  Availability  \n",
       "0    Available  \n",
       "1    Available  \n",
       "2    Available  \n",
       "3    Available  \n",
       "4    Available  "
      ]
     },
     "execution_count": 78,
     "metadata": {},
     "output_type": "execute_result"
    }
   ],
   "source": [
    "df = pd.read_csv('guitar.csv')\n",
    "df.head()"
   ]
  },
  {
   "cell_type": "code",
   "execution_count": 16,
   "id": "1bb8d411",
   "metadata": {},
   "outputs": [],
   "source": [
    "driver.close()"
   ]
  },
  {
   "cell_type": "markdown",
   "id": "5c176f99",
   "metadata": {},
   "source": [
    "# 3. Write a python program to access the search bar and search button on images.google.com and scrape 10 images each for keywords ‘fruits’, ‘cars’ and ‘Machine Learning’, ‘Guitar’, ‘Cakes’."
   ]
  },
  {
   "cell_type": "code",
   "execution_count": 17,
   "id": "b6cb5c66",
   "metadata": {},
   "outputs": [],
   "source": [
    "#Activating the chrome browser\n",
    "driver = webdriver.Chrome()"
   ]
  },
  {
   "cell_type": "code",
   "execution_count": 19,
   "id": "8dd258fd",
   "metadata": {},
   "outputs": [],
   "source": [
    "url = 'https://images.google.com'\n",
    "driver.get(url)"
   ]
  },
  {
   "cell_type": "code",
   "execution_count": 20,
   "id": "03dd6c31",
   "metadata": {},
   "outputs": [],
   "source": [
    "search = driver.find_element(By.XPATH,'/html/body/div[1]/div[3]/form/div[1]/div[1]/div[1]/div/div[2]/textarea')\n",
    "search.send_keys('fruits')\n",
    "search.submit()"
   ]
  },
  {
   "cell_type": "code",
   "execution_count": 21,
   "id": "e7f88fc3",
   "metadata": {},
   "outputs": [],
   "source": [
    "imag = []\n",
    "for i in driver.find_elements(By.XPATH,'//img[@class = \"rg_i Q4LuWd\"]'):\n",
    "    imag.append(i.get_attribute('src'))"
   ]
  },
  {
   "cell_type": "code",
   "execution_count": 22,
   "id": "4840d326",
   "metadata": {},
   "outputs": [],
   "source": [
    "search = driver.find_element(By.XPATH,'/html/body/c-wiz/c-wiz/div/div[3]/div[2]/div/div[1]/form/div[1]/div[2]/div/div[2]/input')\n",
    "search.clear()\n",
    "delay = 2\n",
    "search.send_keys('cars')\n",
    "search.submit()"
   ]
  },
  {
   "cell_type": "code",
   "execution_count": 23,
   "id": "13bc9232",
   "metadata": {},
   "outputs": [],
   "source": [
    "car = []\n",
    "for i in driver.find_elements(By.XPATH,'//img[@class = \"rg_i Q4LuWd\"]'):\n",
    "    car.append(i.get_attribute('src'))"
   ]
  },
  {
   "cell_type": "code",
   "execution_count": 24,
   "id": "f55dc25c",
   "metadata": {},
   "outputs": [],
   "source": [
    "search = driver.find_element(By.XPATH,'/html/body/c-wiz/c-wiz/div/div[3]/div[2]/div/div[1]/form/div[1]/div[2]/div/div[2]/input')\n",
    "search.clear()\n",
    "delay = 2\n",
    "search.send_keys('machine learning')\n",
    "search.submit()"
   ]
  },
  {
   "cell_type": "code",
   "execution_count": 25,
   "id": "98a04710",
   "metadata": {},
   "outputs": [],
   "source": [
    "ml = []\n",
    "for i in driver.find_elements(By.XPATH,'//img[@class = \"rg_i Q4LuWd\"]'):\n",
    "    ml.append(i.get_attribute('src'))"
   ]
  },
  {
   "cell_type": "code",
   "execution_count": 26,
   "id": "49d4c66d",
   "metadata": {},
   "outputs": [],
   "source": [
    "search = driver.find_element(By.XPATH,'/html/body/c-wiz/c-wiz/div/div[3]/div[2]/div/div[1]/form/div[1]/div[2]/div/div[2]/input')\n",
    "search.clear()\n",
    "delay = 2\n",
    "search.send_keys('guitar')\n",
    "search.submit()"
   ]
  },
  {
   "cell_type": "code",
   "execution_count": 27,
   "id": "a3e084aa",
   "metadata": {},
   "outputs": [],
   "source": [
    "guitar = []\n",
    "for i in driver.find_elements(By.XPATH,'//img[@class = \"rg_i Q4LuWd\"]'):\n",
    "    guitar.append(i.get_attribute('src'))"
   ]
  },
  {
   "cell_type": "code",
   "execution_count": 28,
   "id": "aaa0a8bd",
   "metadata": {},
   "outputs": [],
   "source": [
    "search = driver.find_element(By.XPATH,'/html/body/c-wiz/c-wiz/div/div[3]/div[2]/div/div[1]/form/div[1]/div[2]/div/div[2]/input')\n",
    "search.clear()\n",
    "delay = 2\n",
    "search.send_keys('cake')\n",
    "search.submit()"
   ]
  },
  {
   "cell_type": "code",
   "execution_count": 29,
   "id": "3250d983",
   "metadata": {},
   "outputs": [],
   "source": [
    "cake = []\n",
    "for i in driver.find_elements(By.XPATH,'//img[@class = \"rg_i Q4LuWd\"]'):\n",
    "    cake.append(i.get_attribute('src'))"
   ]
  },
  {
   "cell_type": "code",
   "execution_count": 30,
   "id": "ed0fa41a",
   "metadata": {},
   "outputs": [],
   "source": [
    "d = pd.DataFrame({'Fruits':imag[0:10],'Cars':car[0:10],'Machine Learning':ml[0:10],'Guitar':guitar[0:10],'Cake':cake[0:10]})"
   ]
  },
  {
   "cell_type": "code",
   "execution_count": 31,
   "id": "b9961686",
   "metadata": {},
   "outputs": [],
   "source": [
    "d.to_csv('image.csv')"
   ]
  },
  {
   "cell_type": "code",
   "execution_count": 32,
   "id": "43eb5822",
   "metadata": {},
   "outputs": [
    {
     "data": {
      "text/html": [
       "<div>\n",
       "<style scoped>\n",
       "    .dataframe tbody tr th:only-of-type {\n",
       "        vertical-align: middle;\n",
       "    }\n",
       "\n",
       "    .dataframe tbody tr th {\n",
       "        vertical-align: top;\n",
       "    }\n",
       "\n",
       "    .dataframe thead th {\n",
       "        text-align: right;\n",
       "    }\n",
       "</style>\n",
       "<table border=\"1\" class=\"dataframe\">\n",
       "  <thead>\n",
       "    <tr style=\"text-align: right;\">\n",
       "      <th></th>\n",
       "      <th>Fruits</th>\n",
       "      <th>Cars</th>\n",
       "      <th>Machine Learning</th>\n",
       "      <th>Guitar</th>\n",
       "      <th>Cake</th>\n",
       "    </tr>\n",
       "  </thead>\n",
       "  <tbody>\n",
       "    <tr>\n",
       "      <th>0</th>\n",
       "      <td>data:image/jpeg;base64,/9j/4AAQSkZJRgABAQAAAQA...</td>\n",
       "      <td>data:image/jpeg;base64,/9j/4AAQSkZJRgABAQAAAQA...</td>\n",
       "      <td>data:image/jpeg;base64,/9j/4AAQSkZJRgABAQAAAQA...</td>\n",
       "      <td>data:image/jpeg;base64,/9j/4AAQSkZJRgABAQAAAQA...</td>\n",
       "      <td>data:image/jpeg;base64,/9j/4AAQSkZJRgABAQAAAQA...</td>\n",
       "    </tr>\n",
       "    <tr>\n",
       "      <th>1</th>\n",
       "      <td>data:image/jpeg;base64,/9j/4AAQSkZJRgABAQAAAQA...</td>\n",
       "      <td>data:image/jpeg;base64,/9j/4AAQSkZJRgABAQAAAQA...</td>\n",
       "      <td>data:image/jpeg;base64,/9j/4AAQSkZJRgABAQAAAQA...</td>\n",
       "      <td>data:image/jpeg;base64,/9j/4AAQSkZJRgABAQAAAQA...</td>\n",
       "      <td>data:image/jpeg;base64,/9j/4AAQSkZJRgABAQAAAQA...</td>\n",
       "    </tr>\n",
       "    <tr>\n",
       "      <th>2</th>\n",
       "      <td>data:image/jpeg;base64,/9j/4AAQSkZJRgABAQAAAQA...</td>\n",
       "      <td>data:image/jpeg;base64,/9j/4AAQSkZJRgABAQAAAQA...</td>\n",
       "      <td>data:image/jpeg;base64,/9j/4AAQSkZJRgABAQAAAQA...</td>\n",
       "      <td>data:image/jpeg;base64,/9j/4AAQSkZJRgABAQAAAQA...</td>\n",
       "      <td>data:image/jpeg;base64,/9j/4AAQSkZJRgABAQAAAQA...</td>\n",
       "    </tr>\n",
       "    <tr>\n",
       "      <th>3</th>\n",
       "      <td>data:image/jpeg;base64,/9j/4AAQSkZJRgABAQAAAQA...</td>\n",
       "      <td>data:image/jpeg;base64,/9j/4AAQSkZJRgABAQAAAQA...</td>\n",
       "      <td>data:image/jpeg;base64,/9j/4AAQSkZJRgABAQAAAQA...</td>\n",
       "      <td>data:image/jpeg;base64,/9j/4AAQSkZJRgABAQAAAQA...</td>\n",
       "      <td>data:image/jpeg;base64,/9j/4AAQSkZJRgABAQAAAQA...</td>\n",
       "    </tr>\n",
       "    <tr>\n",
       "      <th>4</th>\n",
       "      <td>data:image/jpeg;base64,/9j/4AAQSkZJRgABAQAAAQA...</td>\n",
       "      <td>data:image/jpeg;base64,/9j/4AAQSkZJRgABAQAAAQA...</td>\n",
       "      <td>data:image/jpeg;base64,/9j/4AAQSkZJRgABAQAAAQA...</td>\n",
       "      <td>data:image/jpeg;base64,/9j/4AAQSkZJRgABAQAAAQA...</td>\n",
       "      <td>data:image/jpeg;base64,/9j/4AAQSkZJRgABAQAAAQA...</td>\n",
       "    </tr>\n",
       "    <tr>\n",
       "      <th>5</th>\n",
       "      <td>data:image/png;base64,iVBORw0KGgoAAAANSUhEUgAA...</td>\n",
       "      <td>data:image/jpeg;base64,/9j/4AAQSkZJRgABAQAAAQA...</td>\n",
       "      <td>data:image/png;base64,iVBORw0KGgoAAAANSUhEUgAA...</td>\n",
       "      <td>data:image/jpeg;base64,/9j/4AAQSkZJRgABAQAAAQA...</td>\n",
       "      <td>data:image/jpeg;base64,/9j/4AAQSkZJRgABAQAAAQA...</td>\n",
       "    </tr>\n",
       "    <tr>\n",
       "      <th>6</th>\n",
       "      <td>data:image/jpeg;base64,/9j/4AAQSkZJRgABAQAAAQA...</td>\n",
       "      <td>data:image/jpeg;base64,/9j/4AAQSkZJRgABAQAAAQA...</td>\n",
       "      <td>data:image/png;base64,iVBORw0KGgoAAAANSUhEUgAA...</td>\n",
       "      <td>data:image/jpeg;base64,/9j/4AAQSkZJRgABAQAAAQA...</td>\n",
       "      <td>data:image/jpeg;base64,/9j/4AAQSkZJRgABAQAAAQA...</td>\n",
       "    </tr>\n",
       "    <tr>\n",
       "      <th>7</th>\n",
       "      <td>data:image/jpeg;base64,/9j/4AAQSkZJRgABAQAAAQA...</td>\n",
       "      <td>data:image/jpeg;base64,/9j/4AAQSkZJRgABAQAAAQA...</td>\n",
       "      <td>data:image/jpeg;base64,/9j/4AAQSkZJRgABAQAAAQA...</td>\n",
       "      <td>data:image/jpeg;base64,/9j/4AAQSkZJRgABAQAAAQA...</td>\n",
       "      <td>data:image/jpeg;base64,/9j/4AAQSkZJRgABAQAAAQA...</td>\n",
       "    </tr>\n",
       "    <tr>\n",
       "      <th>8</th>\n",
       "      <td>data:image/jpeg;base64,/9j/4AAQSkZJRgABAQAAAQA...</td>\n",
       "      <td>data:image/jpeg;base64,/9j/4AAQSkZJRgABAQAAAQA...</td>\n",
       "      <td>data:image/jpeg;base64,/9j/4AAQSkZJRgABAQAAAQA...</td>\n",
       "      <td>data:image/jpeg;base64,/9j/4AAQSkZJRgABAQAAAQA...</td>\n",
       "      <td>data:image/jpeg;base64,/9j/4AAQSkZJRgABAQAAAQA...</td>\n",
       "    </tr>\n",
       "    <tr>\n",
       "      <th>9</th>\n",
       "      <td>data:image/jpeg;base64,/9j/4AAQSkZJRgABAQAAAQA...</td>\n",
       "      <td>data:image/jpeg;base64,/9j/4AAQSkZJRgABAQAAAQA...</td>\n",
       "      <td>data:image/jpeg;base64,/9j/4AAQSkZJRgABAQAAAQA...</td>\n",
       "      <td>data:image/jpeg;base64,/9j/4AAQSkZJRgABAQAAAQA...</td>\n",
       "      <td>data:image/jpeg;base64,/9j/4AAQSkZJRgABAQAAAQA...</td>\n",
       "    </tr>\n",
       "  </tbody>\n",
       "</table>\n",
       "</div>"
      ],
      "text/plain": [
       "                                              Fruits  \\\n",
       "0  data:image/jpeg;base64,/9j/4AAQSkZJRgABAQAAAQA...   \n",
       "1  data:image/jpeg;base64,/9j/4AAQSkZJRgABAQAAAQA...   \n",
       "2  data:image/jpeg;base64,/9j/4AAQSkZJRgABAQAAAQA...   \n",
       "3  data:image/jpeg;base64,/9j/4AAQSkZJRgABAQAAAQA...   \n",
       "4  data:image/jpeg;base64,/9j/4AAQSkZJRgABAQAAAQA...   \n",
       "5  data:image/png;base64,iVBORw0KGgoAAAANSUhEUgAA...   \n",
       "6  data:image/jpeg;base64,/9j/4AAQSkZJRgABAQAAAQA...   \n",
       "7  data:image/jpeg;base64,/9j/4AAQSkZJRgABAQAAAQA...   \n",
       "8  data:image/jpeg;base64,/9j/4AAQSkZJRgABAQAAAQA...   \n",
       "9  data:image/jpeg;base64,/9j/4AAQSkZJRgABAQAAAQA...   \n",
       "\n",
       "                                                Cars  \\\n",
       "0  data:image/jpeg;base64,/9j/4AAQSkZJRgABAQAAAQA...   \n",
       "1  data:image/jpeg;base64,/9j/4AAQSkZJRgABAQAAAQA...   \n",
       "2  data:image/jpeg;base64,/9j/4AAQSkZJRgABAQAAAQA...   \n",
       "3  data:image/jpeg;base64,/9j/4AAQSkZJRgABAQAAAQA...   \n",
       "4  data:image/jpeg;base64,/9j/4AAQSkZJRgABAQAAAQA...   \n",
       "5  data:image/jpeg;base64,/9j/4AAQSkZJRgABAQAAAQA...   \n",
       "6  data:image/jpeg;base64,/9j/4AAQSkZJRgABAQAAAQA...   \n",
       "7  data:image/jpeg;base64,/9j/4AAQSkZJRgABAQAAAQA...   \n",
       "8  data:image/jpeg;base64,/9j/4AAQSkZJRgABAQAAAQA...   \n",
       "9  data:image/jpeg;base64,/9j/4AAQSkZJRgABAQAAAQA...   \n",
       "\n",
       "                                    Machine Learning  \\\n",
       "0  data:image/jpeg;base64,/9j/4AAQSkZJRgABAQAAAQA...   \n",
       "1  data:image/jpeg;base64,/9j/4AAQSkZJRgABAQAAAQA...   \n",
       "2  data:image/jpeg;base64,/9j/4AAQSkZJRgABAQAAAQA...   \n",
       "3  data:image/jpeg;base64,/9j/4AAQSkZJRgABAQAAAQA...   \n",
       "4  data:image/jpeg;base64,/9j/4AAQSkZJRgABAQAAAQA...   \n",
       "5  data:image/png;base64,iVBORw0KGgoAAAANSUhEUgAA...   \n",
       "6  data:image/png;base64,iVBORw0KGgoAAAANSUhEUgAA...   \n",
       "7  data:image/jpeg;base64,/9j/4AAQSkZJRgABAQAAAQA...   \n",
       "8  data:image/jpeg;base64,/9j/4AAQSkZJRgABAQAAAQA...   \n",
       "9  data:image/jpeg;base64,/9j/4AAQSkZJRgABAQAAAQA...   \n",
       "\n",
       "                                              Guitar  \\\n",
       "0  data:image/jpeg;base64,/9j/4AAQSkZJRgABAQAAAQA...   \n",
       "1  data:image/jpeg;base64,/9j/4AAQSkZJRgABAQAAAQA...   \n",
       "2  data:image/jpeg;base64,/9j/4AAQSkZJRgABAQAAAQA...   \n",
       "3  data:image/jpeg;base64,/9j/4AAQSkZJRgABAQAAAQA...   \n",
       "4  data:image/jpeg;base64,/9j/4AAQSkZJRgABAQAAAQA...   \n",
       "5  data:image/jpeg;base64,/9j/4AAQSkZJRgABAQAAAQA...   \n",
       "6  data:image/jpeg;base64,/9j/4AAQSkZJRgABAQAAAQA...   \n",
       "7  data:image/jpeg;base64,/9j/4AAQSkZJRgABAQAAAQA...   \n",
       "8  data:image/jpeg;base64,/9j/4AAQSkZJRgABAQAAAQA...   \n",
       "9  data:image/jpeg;base64,/9j/4AAQSkZJRgABAQAAAQA...   \n",
       "\n",
       "                                                Cake  \n",
       "0  data:image/jpeg;base64,/9j/4AAQSkZJRgABAQAAAQA...  \n",
       "1  data:image/jpeg;base64,/9j/4AAQSkZJRgABAQAAAQA...  \n",
       "2  data:image/jpeg;base64,/9j/4AAQSkZJRgABAQAAAQA...  \n",
       "3  data:image/jpeg;base64,/9j/4AAQSkZJRgABAQAAAQA...  \n",
       "4  data:image/jpeg;base64,/9j/4AAQSkZJRgABAQAAAQA...  \n",
       "5  data:image/jpeg;base64,/9j/4AAQSkZJRgABAQAAAQA...  \n",
       "6  data:image/jpeg;base64,/9j/4AAQSkZJRgABAQAAAQA...  \n",
       "7  data:image/jpeg;base64,/9j/4AAQSkZJRgABAQAAAQA...  \n",
       "8  data:image/jpeg;base64,/9j/4AAQSkZJRgABAQAAAQA...  \n",
       "9  data:image/jpeg;base64,/9j/4AAQSkZJRgABAQAAAQA...  "
      ]
     },
     "execution_count": 32,
     "metadata": {},
     "output_type": "execute_result"
    }
   ],
   "source": [
    "di = pd.read_csv('image.csv')\n",
    "di.drop('Unnamed: 0',axis =1)"
   ]
  },
  {
   "cell_type": "code",
   "execution_count": 33,
   "id": "086508e2",
   "metadata": {},
   "outputs": [],
   "source": [
    "driver.close()"
   ]
  },
  {
   "cell_type": "markdown",
   "id": "ab55500c",
   "metadata": {},
   "source": [
    "# 4. Write a python program to search for a smartphone(e.g.: Oneplus Nord, pixel 4A, etc.) on www.flipkart.com and scrape following details for all the search results displayed on 1st page. Details to be scraped: “Brand Name”, “Smartphone name”, “Colour”, “RAM”, “Storage(ROM)”, “Primary Camera”, “Secondary Camera”, “Display Size”, “Battery Capacity”, “Price”, “Product URL”. Incase if any of the details is missing then replace it by “- “. Save your results in a dataframe and CSV."
   ]
  },
  {
   "cell_type": "code",
   "execution_count": 36,
   "id": "c8f1b02e",
   "metadata": {},
   "outputs": [],
   "source": [
    "#Activating the chrome browser\n",
    "driver = webdriver.Chrome()"
   ]
  },
  {
   "cell_type": "code",
   "execution_count": 37,
   "id": "ba2aea73",
   "metadata": {},
   "outputs": [],
   "source": [
    "url = 'https:www.flipkart.com'\n",
    "driver.get(url)"
   ]
  },
  {
   "cell_type": "code",
   "execution_count": 39,
   "id": "d3bc69f3",
   "metadata": {},
   "outputs": [],
   "source": [
    "close_log_in_window = driver.find_element(By.XPATH,'/html/body/div[3]/div/span')\n",
    "close_log_in_window.click()"
   ]
  },
  {
   "cell_type": "code",
   "execution_count": 41,
   "id": "de255e03",
   "metadata": {},
   "outputs": [],
   "source": [
    "search = driver.find_element(By.XPATH,'/html/body/div[1]/div/div[1]/div/div/div/div/div[1]/div/div[1]/div/div[1]/header/div[1]/div[2]/form/div/div/input')\n",
    "search.send_keys('oneplus nord')\n",
    "search.submit()"
   ]
  },
  {
   "cell_type": "code",
   "execution_count": 42,
   "id": "de8e35ad",
   "metadata": {},
   "outputs": [],
   "source": [
    "brand,name,color = [],[],[]\n",
    "for i in driver.find_elements(By.XPATH,'//div[@class = \"_4rR01T\"]'):\n",
    "    brand.append(i.text.split(' ')[0])\n",
    "    name.append(i.text)\n",
    "    co = i.text.split('(')[-1]\n",
    "    color.append(co.split(',')[0])"
   ]
  },
  {
   "cell_type": "code",
   "execution_count": 43,
   "id": "651d8dc5",
   "metadata": {},
   "outputs": [],
   "source": [
    "ram,rom,pc,display,battery = [],[],[],[],[]\n",
    "for i in driver.find_elements(By.XPATH,'//ul[@class=\"_1xgFaf\"]'):\n",
    "    display.append(i.text.split('\\n')[1])\n",
    "    battery.append(i.text.split('\\n')[-2])\n",
    "    \n",
    "    ra = i.text.split('\\n')[0]\n",
    "    ram.append(ra.split('|')[0])\n",
    "    rom.append(ra.split('|')[1])\n",
    "    \n",
    "    cam = i.text.split('\\n')[2]\n",
    "    pc.append(cam.split('|')[0])"
   ]
  },
  {
   "cell_type": "code",
   "execution_count": 44,
   "id": "2d38bf7d",
   "metadata": {},
   "outputs": [],
   "source": [
    "price,link = [],[]\n",
    "for i in driver.find_elements(By.XPATH,'//div[@class=\"_30jeq3 _1_WHN1\"]'):\n",
    "    price.append(i.text)\n",
    "for i in driver.find_elements(By.XPATH,\"//a[@class = '_1fQZEK']\"):\n",
    "    link.append(i.get_attribute('href'))"
   ]
  },
  {
   "cell_type": "code",
   "execution_count": 45,
   "id": "6baafd90",
   "metadata": {},
   "outputs": [
    {
     "data": {
      "text/plain": [
       "(24, 24, 24, 24, 24, 24, 24, 24, 24, 24)"
      ]
     },
     "execution_count": 45,
     "metadata": {},
     "output_type": "execute_result"
    }
   ],
   "source": [
    "len(brand),len(name),len(color),len(ram),len(rom),len(pc),len(display),len(battery),len(price),len(link)"
   ]
  },
  {
   "cell_type": "code",
   "execution_count": 46,
   "id": "bc2fdc75",
   "metadata": {},
   "outputs": [],
   "source": [
    "pho = pd.DataFrame({'Brand Name':brand,'Smartphone Name':name,'Color':color,'RAM':ram,'Storage(ROM)':rom,'Camera':pc,'Display':display,'Battery':battery,'Price':price,'URL':link})"
   ]
  },
  {
   "cell_type": "code",
   "execution_count": 47,
   "id": "a08fa2b3",
   "metadata": {},
   "outputs": [],
   "source": [
    "pho.to_csv('Phone.csv')"
   ]
  },
  {
   "cell_type": "code",
   "execution_count": 48,
   "id": "7ea95dea",
   "metadata": {},
   "outputs": [
    {
     "data": {
      "text/html": [
       "<div>\n",
       "<style scoped>\n",
       "    .dataframe tbody tr th:only-of-type {\n",
       "        vertical-align: middle;\n",
       "    }\n",
       "\n",
       "    .dataframe tbody tr th {\n",
       "        vertical-align: top;\n",
       "    }\n",
       "\n",
       "    .dataframe thead th {\n",
       "        text-align: right;\n",
       "    }\n",
       "</style>\n",
       "<table border=\"1\" class=\"dataframe\">\n",
       "  <thead>\n",
       "    <tr style=\"text-align: right;\">\n",
       "      <th></th>\n",
       "      <th>Unnamed: 0</th>\n",
       "      <th>Brand Name</th>\n",
       "      <th>Smartphone Name</th>\n",
       "      <th>Color</th>\n",
       "      <th>RAM</th>\n",
       "      <th>Storage(ROM)</th>\n",
       "      <th>Camera</th>\n",
       "      <th>Display</th>\n",
       "      <th>Battery</th>\n",
       "      <th>Price</th>\n",
       "      <th>URL</th>\n",
       "    </tr>\n",
       "  </thead>\n",
       "  <tbody>\n",
       "    <tr>\n",
       "      <th>0</th>\n",
       "      <td>0</td>\n",
       "      <td>OnePlus</td>\n",
       "      <td>OnePlus Nord CE 3 Lite 5G (Chromatic Gray, 256...</td>\n",
       "      <td>Chromatic Gray</td>\n",
       "      <td>8 GB RAM</td>\n",
       "      <td>256 GB ROM</td>\n",
       "      <td>108MP Rear Camera</td>\n",
       "      <td>17.07 cm (6.72 inch) Display</td>\n",
       "      <td>5000 mAh Battery</td>\n",
       "      <td>₹21,998</td>\n",
       "      <td>https://www.flipkart.com/oneplus-nord-ce-3-lit...</td>\n",
       "    </tr>\n",
       "    <tr>\n",
       "      <th>1</th>\n",
       "      <td>1</td>\n",
       "      <td>OnePlus</td>\n",
       "      <td>OnePlus Nord CE 2 Lite 5G (Blue Tide, 128 GB)</td>\n",
       "      <td>Blue Tide</td>\n",
       "      <td>6 GB RAM</td>\n",
       "      <td>128 GB ROM</td>\n",
       "      <td>64MP Rear Camera</td>\n",
       "      <td>16.74 cm (6.59 inch) Display</td>\n",
       "      <td>5000 mAh Battery</td>\n",
       "      <td>₹16,997</td>\n",
       "      <td>https://www.flipkart.com/oneplus-nord-ce-2-lit...</td>\n",
       "    </tr>\n",
       "    <tr>\n",
       "      <th>2</th>\n",
       "      <td>2</td>\n",
       "      <td>OnePlus</td>\n",
       "      <td>OnePlus Nord CE 3 Lite 5G (Pastel Lime, 256 GB)</td>\n",
       "      <td>Pastel Lime</td>\n",
       "      <td>8 GB RAM</td>\n",
       "      <td>256 GB ROM</td>\n",
       "      <td>108MP Rear Camera</td>\n",
       "      <td>17.07 cm (6.72 inch) Display</td>\n",
       "      <td>5000 mAh Battery</td>\n",
       "      <td>₹21,989</td>\n",
       "      <td>https://www.flipkart.com/oneplus-nord-ce-3-lit...</td>\n",
       "    </tr>\n",
       "    <tr>\n",
       "      <th>3</th>\n",
       "      <td>3</td>\n",
       "      <td>OnePlus</td>\n",
       "      <td>OnePlus Nord CE 2 Lite 5G (Black Dusk, 128 GB)</td>\n",
       "      <td>Black Dusk</td>\n",
       "      <td>6 GB RAM</td>\n",
       "      <td>128 GB ROM</td>\n",
       "      <td>64MP Rear Camera</td>\n",
       "      <td>16.74 cm (6.59 inch) Display</td>\n",
       "      <td>5000 mAh Battery</td>\n",
       "      <td>₹16,970</td>\n",
       "      <td>https://www.flipkart.com/oneplus-nord-ce-2-lit...</td>\n",
       "    </tr>\n",
       "    <tr>\n",
       "      <th>4</th>\n",
       "      <td>4</td>\n",
       "      <td>OnePlus</td>\n",
       "      <td>OnePlus Nord CE 3 Lite 5G (Pastel Lime, 128 GB)</td>\n",
       "      <td>Pastel Lime</td>\n",
       "      <td>8 GB RAM</td>\n",
       "      <td>128 GB ROM</td>\n",
       "      <td>108MP Rear Camera</td>\n",
       "      <td>17.07 cm (6.72 inch) Display</td>\n",
       "      <td>5000 mAh Battery</td>\n",
       "      <td>₹19,995</td>\n",
       "      <td>https://www.flipkart.com/oneplus-nord-ce-3-lit...</td>\n",
       "    </tr>\n",
       "  </tbody>\n",
       "</table>\n",
       "</div>"
      ],
      "text/plain": [
       "   Unnamed: 0 Brand Name                                    Smartphone Name  \\\n",
       "0           0    OnePlus  OnePlus Nord CE 3 Lite 5G (Chromatic Gray, 256...   \n",
       "1           1    OnePlus      OnePlus Nord CE 2 Lite 5G (Blue Tide, 128 GB)   \n",
       "2           2    OnePlus    OnePlus Nord CE 3 Lite 5G (Pastel Lime, 256 GB)   \n",
       "3           3    OnePlus     OnePlus Nord CE 2 Lite 5G (Black Dusk, 128 GB)   \n",
       "4           4    OnePlus    OnePlus Nord CE 3 Lite 5G (Pastel Lime, 128 GB)   \n",
       "\n",
       "            Color        RAM Storage(ROM)             Camera  \\\n",
       "0  Chromatic Gray  8 GB RAM    256 GB ROM  108MP Rear Camera   \n",
       "1       Blue Tide  6 GB RAM    128 GB ROM  64MP Rear Camera    \n",
       "2     Pastel Lime  8 GB RAM    256 GB ROM  108MP Rear Camera   \n",
       "3      Black Dusk  6 GB RAM    128 GB ROM  64MP Rear Camera    \n",
       "4     Pastel Lime  8 GB RAM    128 GB ROM  108MP Rear Camera   \n",
       "\n",
       "                        Display           Battery    Price  \\\n",
       "0  17.07 cm (6.72 inch) Display  5000 mAh Battery  ₹21,998   \n",
       "1  16.74 cm (6.59 inch) Display  5000 mAh Battery  ₹16,997   \n",
       "2  17.07 cm (6.72 inch) Display  5000 mAh Battery  ₹21,989   \n",
       "3  16.74 cm (6.59 inch) Display  5000 mAh Battery  ₹16,970   \n",
       "4  17.07 cm (6.72 inch) Display  5000 mAh Battery  ₹19,995   \n",
       "\n",
       "                                                 URL  \n",
       "0  https://www.flipkart.com/oneplus-nord-ce-3-lit...  \n",
       "1  https://www.flipkart.com/oneplus-nord-ce-2-lit...  \n",
       "2  https://www.flipkart.com/oneplus-nord-ce-3-lit...  \n",
       "3  https://www.flipkart.com/oneplus-nord-ce-2-lit...  \n",
       "4  https://www.flipkart.com/oneplus-nord-ce-3-lit...  "
      ]
     },
     "execution_count": 48,
     "metadata": {},
     "output_type": "execute_result"
    }
   ],
   "source": [
    "pd.read_csv('Phone.csv').(head)"
   ]
  },
  {
   "cell_type": "code",
   "execution_count": 49,
   "id": "27bf173b",
   "metadata": {},
   "outputs": [],
   "source": [
    "driver.close()"
   ]
  },
  {
   "cell_type": "markdown",
   "id": "a725044d",
   "metadata": {},
   "source": [
    "# 5. Write a program to scrap geospatial coordinates (latitude, longitude) of a city searched on google maps."
   ]
  },
  {
   "cell_type": "code",
   "execution_count": 3,
   "id": "ba0336a3",
   "metadata": {},
   "outputs": [],
   "source": [
    "#Activating the chrome browser\n",
    "driver = webdriver.Chrome()"
   ]
  },
  {
   "cell_type": "code",
   "execution_count": 4,
   "id": "3b4a9aff",
   "metadata": {},
   "outputs": [],
   "source": [
    "url = 'https://www.google.com/maps'\n",
    "driver.get(url)"
   ]
  },
  {
   "cell_type": "code",
   "execution_count": 6,
   "id": "1bf68a5b",
   "metadata": {},
   "outputs": [],
   "source": [
    "search = driver.find_element(By.XPATH,'/html/body/div[3]/div[8]/div[3]/div[1]/div[1]/div/div[2]/form/input')\n",
    "search.send_keys('Mumbai')"
   ]
  },
  {
   "cell_type": "code",
   "execution_count": 8,
   "id": "ba6479c2",
   "metadata": {},
   "outputs": [],
   "source": [
    "loc = driver.find_element(By.XPATH,'/html/body/div[3]/div[8]/div[3]/div[1]/div[1]/div/div[2]/div[1]/button')\n",
    "loc.click()"
   ]
  },
  {
   "cell_type": "code",
   "execution_count": 9,
   "id": "759ce068",
   "metadata": {},
   "outputs": [],
   "source": [
    "time.sleep(5)\n",
    "url = driver.current_url"
   ]
  },
  {
   "cell_type": "code",
   "execution_count": 10,
   "id": "f48afdd7",
   "metadata": {},
   "outputs": [],
   "source": [
    "ll = url.split('/')[-2]"
   ]
  },
  {
   "cell_type": "code",
   "execution_count": 11,
   "id": "c98309bd",
   "metadata": {},
   "outputs": [],
   "source": [
    "lat = ll.split(',')[0].replace('@','')\n",
    "lon = ll.split(',')[1]"
   ]
  },
  {
   "cell_type": "code",
   "execution_count": 12,
   "id": "4f3e2ce4",
   "metadata": {},
   "outputs": [
    {
     "name": "stdout",
     "output_type": "stream",
     "text": [
      "Latitude =  19.0821775\n",
      "Longitude =  72.7163722\n"
     ]
    }
   ],
   "source": [
    "print('Latitude = ',lat)\n",
    "print('Longitude = ',lon)"
   ]
  },
  {
   "cell_type": "code",
   "execution_count": 13,
   "id": "a358dc67",
   "metadata": {},
   "outputs": [],
   "source": [
    "driver.close()"
   ]
  },
  {
   "cell_type": "markdown",
   "id": "9e8280b2",
   "metadata": {},
   "source": [
    "# 6. Write a program to scrap all the available details of best gaming laptops from digit.in. "
   ]
  },
  {
   "cell_type": "code",
   "execution_count": 3,
   "id": "44abfd63",
   "metadata": {},
   "outputs": [],
   "source": [
    "#Activating the chrome browser\n",
    "driver = webdriver.Chrome()"
   ]
  },
  {
   "cell_type": "code",
   "execution_count": 4,
   "id": "1d386ca8",
   "metadata": {},
   "outputs": [],
   "source": [
    "url = 'https://www.digit.in'\n",
    "driver.get(url)"
   ]
  },
  {
   "cell_type": "code",
   "execution_count": 5,
   "id": "b0cd1859",
   "metadata": {},
   "outputs": [],
   "source": [
    "search = driver.find_element(By.XPATH,'/html/body/div[5]/div/form/input[1]')\n",
    "search.send_keys('top laptop')"
   ]
  },
  {
   "cell_type": "code",
   "execution_count": 6,
   "id": "abdce81c",
   "metadata": {},
   "outputs": [],
   "source": [
    "loc = driver.find_element(By.XPATH,'/html/body/div[5]/div/form/button')\n",
    "loc.click()"
   ]
  },
  {
   "cell_type": "code",
   "execution_count": 15,
   "id": "4a0aad4a",
   "metadata": {},
   "outputs": [],
   "source": [
    "laptop,price = [],[]\n",
    "for i in driver.find_elements(By.XPATH,'//h3[@class=\" text-clamp text-clamp-2\"]'):\n",
    "    laptop.append(i.text)\n",
    "for i in driver.find_elements(By.XPATH,'//span[@class=\"woocommerce-Price-amount amount\"]'):\n",
    "    price.append(i.text.split('\\n')[-1])"
   ]
  },
  {
   "cell_type": "code",
   "execution_count": 11,
   "id": "14827c94",
   "metadata": {},
   "outputs": [
    {
     "data": {
      "text/plain": [
       "(7, 12)"
      ]
     },
     "execution_count": 11,
     "metadata": {},
     "output_type": "execute_result"
    }
   ],
   "source": [
    "len(price),len(laptop)"
   ]
  },
  {
   "cell_type": "code",
   "execution_count": 16,
   "id": "5e40faac",
   "metadata": {},
   "outputs": [],
   "source": [
    "laptop = laptop[:7]"
   ]
  },
  {
   "cell_type": "code",
   "execution_count": 18,
   "id": "688b4e73",
   "metadata": {},
   "outputs": [],
   "source": [
    "df = pd.DataFrame({'Laptop Name':laptop,'PRICE':price})"
   ]
  },
  {
   "cell_type": "code",
   "execution_count": 19,
   "id": "8b686479",
   "metadata": {},
   "outputs": [
    {
     "data": {
      "text/html": [
       "<div>\n",
       "<style scoped>\n",
       "    .dataframe tbody tr th:only-of-type {\n",
       "        vertical-align: middle;\n",
       "    }\n",
       "\n",
       "    .dataframe tbody tr th {\n",
       "        vertical-align: top;\n",
       "    }\n",
       "\n",
       "    .dataframe thead th {\n",
       "        text-align: right;\n",
       "    }\n",
       "</style>\n",
       "<table border=\"1\" class=\"dataframe\">\n",
       "  <thead>\n",
       "    <tr style=\"text-align: right;\">\n",
       "      <th></th>\n",
       "      <th>Laptop Name</th>\n",
       "      <th>PRICE</th>\n",
       "    </tr>\n",
       "  </thead>\n",
       "  <tbody>\n",
       "    <tr>\n",
       "      <th>0</th>\n",
       "      <td>AVITA PURA E14 NS14A6ING541-IBB 14 inches Laptop</td>\n",
       "      <td>₹19,990.00</td>\n",
       "    </tr>\n",
       "    <tr>\n",
       "      <th>1</th>\n",
       "      <td>Dell Alienware m16 R1 Gaming Laptop</td>\n",
       "      <td>₹409,202.00</td>\n",
       "    </tr>\n",
       "    <tr>\n",
       "      <th>2</th>\n",
       "      <td>Dell Alienware x14 R2 Gaming Laptop</td>\n",
       "      <td>₹143,152.00</td>\n",
       "    </tr>\n",
       "    <tr>\n",
       "      <th>3</th>\n",
       "      <td>Hp Victus Gaming Laptop 16-r0075TX</td>\n",
       "      <td>₹102,999.00</td>\n",
       "    </tr>\n",
       "    <tr>\n",
       "      <th>4</th>\n",
       "      <td>Microsoft Surface Laptop 4 5PB-00023 Ryzen 5-4...</td>\n",
       "      <td>₹117,290.00</td>\n",
       "    </tr>\n",
       "    <tr>\n",
       "      <th>5</th>\n",
       "      <td>Microsoft Surface Laptop 3 V4G-00021 Ryzen 5-3...</td>\n",
       "      <td>₹189,000.00</td>\n",
       "    </tr>\n",
       "    <tr>\n",
       "      <th>6</th>\n",
       "      <td>Microsoft Surface Laptop 5 RIP-00048 12th Gen ...</td>\n",
       "      <td>₹174,990.00</td>\n",
       "    </tr>\n",
       "  </tbody>\n",
       "</table>\n",
       "</div>"
      ],
      "text/plain": [
       "                                         Laptop Name        PRICE\n",
       "0   AVITA PURA E14 NS14A6ING541-IBB 14 inches Laptop   ₹19,990.00\n",
       "1                Dell Alienware m16 R1 Gaming Laptop  ₹409,202.00\n",
       "2                Dell Alienware x14 R2 Gaming Laptop  ₹143,152.00\n",
       "3                 Hp Victus Gaming Laptop 16-r0075TX  ₹102,999.00\n",
       "4  Microsoft Surface Laptop 4 5PB-00023 Ryzen 5-4...  ₹117,290.00\n",
       "5  Microsoft Surface Laptop 3 V4G-00021 Ryzen 5-3...  ₹189,000.00\n",
       "6  Microsoft Surface Laptop 5 RIP-00048 12th Gen ...  ₹174,990.00"
      ]
     },
     "execution_count": 19,
     "metadata": {},
     "output_type": "execute_result"
    }
   ],
   "source": [
    "df"
   ]
  },
  {
   "cell_type": "code",
   "execution_count": 20,
   "id": "782b83e3",
   "metadata": {},
   "outputs": [],
   "source": [
    "driver.close()"
   ]
  },
  {
   "cell_type": "markdown",
   "id": "49a91ab0",
   "metadata": {},
   "source": [
    "# 7. Write a python program to scrape the details for all billionaires from www.forbes.com. Details to be scrapped:“Rank”, “Name”, “Net worth”, “Age”, “Citizenship”, “Source”, “Industry”. "
   ]
  },
  {
   "cell_type": "code",
   "execution_count": 63,
   "id": "c07f8390",
   "metadata": {},
   "outputs": [],
   "source": [
    "#Activating the chrome browser\n",
    "driver = webdriver.Chrome()"
   ]
  },
  {
   "cell_type": "code",
   "execution_count": 64,
   "id": "276577f6",
   "metadata": {},
   "outputs": [],
   "source": [
    "url = 'https://www.forbes.com'\n",
    "driver.get(url)"
   ]
  },
  {
   "cell_type": "code",
   "execution_count": 65,
   "id": "b3002d18",
   "metadata": {},
   "outputs": [],
   "source": [
    "menu = driver.find_element(By.XPATH,'//div[@class=\"_69hVhdY4\"]')\n",
    "menu.click()"
   ]
  },
  {
   "cell_type": "code",
   "execution_count": 66,
   "id": "06f80bc0",
   "metadata": {},
   "outputs": [],
   "source": [
    "billionaires = driver.find_element(By.XPATH,'//li[@class=\"TjJgrPSg cD45ib6e primary\"]')\n",
    "billionaires.click()"
   ]
  },
  {
   "cell_type": "code",
   "execution_count": 68,
   "id": "27fd641c",
   "metadata": {},
   "outputs": [],
   "source": [
    "Rank =[]\n",
    "Name=[]\n",
    "Net_worth=[]\n",
    "Age=[]\n",
    "Citizenship=[]\n",
    "Source=[]\n",
    "Industry=[]"
   ]
  },
  {
   "cell_type": "code",
   "execution_count": 69,
   "id": "5733de0e",
   "metadata": {},
   "outputs": [],
   "source": [
    "rank = driver.find_elements(By.XPATH,'//div[@class=\"Table_rank___YBhk Table_dataCell__2QCve\"]')\n",
    "for i in rank:\n",
    "    Rank.append(i.text)"
   ]
  },
  {
   "cell_type": "code",
   "execution_count": 70,
   "id": "41d0c2a6",
   "metadata": {},
   "outputs": [],
   "source": [
    "name = driver.find_elements(By.XPATH,'/html/body/div[1]/div[2]/div[3]/div[2]/div[2]/div[2]/div[1]/div[1]/div[1]/div[2]/div[1]/div[1]/div[2]/div')\n",
    "for i in name:\n",
    "    Name.append(i.text)"
   ]
  },
  {
   "cell_type": "code",
   "execution_count": 71,
   "id": "08ec88f5",
   "metadata": {},
   "outputs": [],
   "source": [
    "net_worth = driver.find_elements(By.XPATH,'//div[@class=\"Table_netWorth___L4R5 Table_dataCell__2QCve\"]')\n",
    "for i in net_worth:\n",
    "    Net_worth.append(i.text)"
   ]
  },
  {
   "cell_type": "code",
   "execution_count": 72,
   "id": "df6ba795",
   "metadata": {},
   "outputs": [],
   "source": [
    "age = driver.find_elements(By.XPATH,'/html/body/div[1]/div[2]/div[3]/div[2]/div[2]/div[2]/div[1]/div[1]/div[1]/div[2]/div[1]/div[1]/div[4]/div')\n",
    "for i in age:\n",
    "    Age.append(i.text)"
   ]
  },
  {
   "cell_type": "code",
   "execution_count": 73,
   "id": "5750ab88",
   "metadata": {},
   "outputs": [],
   "source": [
    "citizen =  driver.find_elements(By.XPATH,'/html/body/div[1]/div[2]/div[3]/div[2]/div[2]/div[2]/div[1]/div[1]/div[1]/div[2]/div[1]/div[1]/div[5]')\n",
    "for i in citizen:\n",
    "    Citizenship.append(i.text)"
   ]
  },
  {
   "cell_type": "code",
   "execution_count": 74,
   "id": "4fbfc537",
   "metadata": {},
   "outputs": [],
   "source": [
    "\n",
    "try:\n",
    "    source=driver.find_elements(By.XPATH,'//div[@class=\"source-column\"]')\n",
    "    for i in source:\n",
    "        Source.append(i.text)\n",
    "except:\n",
    "    source=driver.find_elements(By.XPATH,'//*[@id=\"jeff-bezos\"]/div[6]/div/div[1]')\n",
    "    Source.append(i.text)"
   ]
  },
  {
   "cell_type": "code",
   "execution_count": 75,
   "id": "61559c45",
   "metadata": {},
   "outputs": [],
   "source": [
    "industry = driver.find_elements(By.XPATH,\"//div[@class='category']//div\")\n",
    "for i in industry:\n",
    "    Industry.append(i.text)"
   ]
  },
  {
   "cell_type": "code",
   "execution_count": 77,
   "id": "595b469d",
   "metadata": {},
   "outputs": [
    {
     "data": {
      "text/html": [
       "<div>\n",
       "<style scoped>\n",
       "    .dataframe tbody tr th:only-of-type {\n",
       "        vertical-align: middle;\n",
       "    }\n",
       "\n",
       "    .dataframe tbody tr th {\n",
       "        vertical-align: top;\n",
       "    }\n",
       "\n",
       "    .dataframe thead th {\n",
       "        text-align: right;\n",
       "    }\n",
       "</style>\n",
       "<table border=\"1\" class=\"dataframe\">\n",
       "  <thead>\n",
       "    <tr style=\"text-align: right;\">\n",
       "      <th></th>\n",
       "      <th>Rank</th>\n",
       "      <th>net worth</th>\n",
       "    </tr>\n",
       "  </thead>\n",
       "  <tbody>\n",
       "    <tr>\n",
       "      <th>0</th>\n",
       "      <td>1</td>\n",
       "      <td>$211 B</td>\n",
       "    </tr>\n",
       "    <tr>\n",
       "      <th>1</th>\n",
       "      <td>2</td>\n",
       "      <td>$180 B</td>\n",
       "    </tr>\n",
       "    <tr>\n",
       "      <th>2</th>\n",
       "      <td>3</td>\n",
       "      <td>$114 B</td>\n",
       "    </tr>\n",
       "    <tr>\n",
       "      <th>3</th>\n",
       "      <td>4</td>\n",
       "      <td>$107 B</td>\n",
       "    </tr>\n",
       "    <tr>\n",
       "      <th>4</th>\n",
       "      <td>5</td>\n",
       "      <td>$106 B</td>\n",
       "    </tr>\n",
       "    <tr>\n",
       "      <th>...</th>\n",
       "      <td>...</td>\n",
       "      <td>...</td>\n",
       "    </tr>\n",
       "    <tr>\n",
       "      <th>195</th>\n",
       "      <td>195</td>\n",
       "      <td>$9.6 B</td>\n",
       "    </tr>\n",
       "    <tr>\n",
       "      <th>196</th>\n",
       "      <td>195</td>\n",
       "      <td>$9.6 B</td>\n",
       "    </tr>\n",
       "    <tr>\n",
       "      <th>197</th>\n",
       "      <td>195</td>\n",
       "      <td>$9.6 B</td>\n",
       "    </tr>\n",
       "    <tr>\n",
       "      <th>198</th>\n",
       "      <td>195</td>\n",
       "      <td>$9.6 B</td>\n",
       "    </tr>\n",
       "    <tr>\n",
       "      <th>199</th>\n",
       "      <td>195</td>\n",
       "      <td>$9.6 B</td>\n",
       "    </tr>\n",
       "  </tbody>\n",
       "</table>\n",
       "<p>200 rows × 2 columns</p>\n",
       "</div>"
      ],
      "text/plain": [
       "    Rank net worth\n",
       "0      1    $211 B\n",
       "1      2    $180 B\n",
       "2      3    $114 B\n",
       "3      4    $107 B\n",
       "4      5    $106 B\n",
       "..   ...       ...\n",
       "195  195    $9.6 B\n",
       "196  195    $9.6 B\n",
       "197  195    $9.6 B\n",
       "198  195    $9.6 B\n",
       "199  195    $9.6 B\n",
       "\n",
       "[200 rows x 2 columns]"
      ]
     },
     "execution_count": 77,
     "metadata": {},
     "output_type": "execute_result"
    }
   ],
   "source": [
    "Forbes_list=pd.DataFrame({'Rank':Rank,'net worth':Net_worth})\n",
    "Forbes_list"
   ]
  },
  {
   "cell_type": "markdown",
   "id": "31e6ee12",
   "metadata": {},
   "source": [
    "# 8. Write a program to extract at least 500 Comments, Comment upvote and time when comment was posted from any YouTube Video. "
   ]
  },
  {
   "cell_type": "code",
   "execution_count": 82,
   "id": "44a91e19",
   "metadata": {},
   "outputs": [],
   "source": [
    "#Activating the chrome browser\n",
    "driver = webdriver.Chrome()"
   ]
  },
  {
   "cell_type": "code",
   "execution_count": 83,
   "id": "d7237d2d",
   "metadata": {},
   "outputs": [],
   "source": [
    "url = 'https://www.youtube.com'\n",
    "driver.get(url)"
   ]
  },
  {
   "cell_type": "code",
   "execution_count": 85,
   "id": "6267f22a",
   "metadata": {},
   "outputs": [],
   "source": [
    "search = driver.find_element(By.XPATH,'/html/body/ytd-app/div[1]/div/ytd-masthead/div[4]/div[2]/ytd-searchbox/form/div[1]/div[1]/input')\n",
    "search.send_keys('virat kholi wikipedia')\n",
    "search.submit()\n",
    "delay = 5"
   ]
  },
  {
   "cell_type": "code",
   "execution_count": 89,
   "id": "e6c394e9",
   "metadata": {},
   "outputs": [],
   "source": [
    "bill = driver.find_element(By.XPATH,'/html/body/ytd-app/div[1]/ytd-page-manager/ytd-search/div[1]/ytd-two-column-search-results-renderer/div/ytd-section-list-renderer/div[2]/ytd-item-section-renderer[1]/div[3]/ytd-video-renderer[1]/div[1]/div/div[1]/div/h3/a')\n",
    "bill.click()"
   ]
  },
  {
   "cell_type": "code",
   "execution_count": 103,
   "id": "63642752",
   "metadata": {},
   "outputs": [],
   "source": [
    "#scraping the data of comments\n",
    "cm_tags = driver.find_elements(By.XPATH,'//*[@class=\"style-scope ytd-expander\"]')\n",
    "comments = []  # Initialize the comments list\n",
    "for cm in cm_tags:\n",
    "    if cm.text is None:\n",
    "        comments.append(\"--\")\n",
    "    else:\n",
    "        comments.append(cm.text)\n",
    "time.sleep(5)"
   ]
  },
  {
   "cell_type": "code",
   "execution_count": 104,
   "id": "cbead3da",
   "metadata": {},
   "outputs": [],
   "source": [
    "# Scraping the data of time when the comment was posted\n",
    "tm_tags = driver.find_elements(By.XPATH, '//a[@class=\"yt-simple-endpoint style-scope yt-formatted-string\"]')\n",
    "comment_time = []  # Initialize the comment_time list\n",
    "for tm in tm_tags:\n",
    "    if tm.text is None:\n",
    "        comment_time.append(\"--\")\n",
    "    else:\n",
    "        comment_time.append(tm.text)\n",
    "time.sleep(5)"
   ]
  },
  {
   "cell_type": "code",
   "execution_count": 105,
   "id": "4b840a72",
   "metadata": {},
   "outputs": [],
   "source": [
    "# scraping the data of comment likes\n",
    "like_tags = driver.find_elements(By.XPATH, '//span[@class=\"style-scope ytd-comment-action-buttons-renderer\"]')\n",
    "Likes = []\n",
    "No_of_Likes = []\n",
    "for like in like_tags:\n",
    "    Likes.append(like.text)\n",
    "for i in range(1, len(Likes), 2):\n",
    "    No_of_Likes.append(Likes[i])"
   ]
  },
  {
   "cell_type": "code",
   "execution_count": 106,
   "id": "fbb5f241",
   "metadata": {},
   "outputs": [],
   "source": [
    "comments = comments[:500]\n",
    "comment_time = comment_time[:500]\n",
    "No_of_Likes = No_of_Likes[:500]"
   ]
  },
  {
   "cell_type": "code",
   "execution_count": 107,
   "id": "766e40d2",
   "metadata": {},
   "outputs": [],
   "source": [
    "#Creating dataframe\n",
    "Youtube=pd.DataFrame({})\n",
    "Youtube['Comments'] = comments\n",
    "Youtube['Comment_time'] = comment_time\n",
    "Youtube['Comment upvotes'] = No_of_Likes"
   ]
  },
  {
   "cell_type": "code",
   "execution_count": 108,
   "id": "34c6039a",
   "metadata": {},
   "outputs": [
    {
     "data": {
      "text/plain": [
       "(500, 500, 500)"
      ]
     },
     "execution_count": 108,
     "metadata": {},
     "output_type": "execute_result"
    }
   ],
   "source": [
    "len(No_of_Likes),len(comments),len(comment_time)"
   ]
  },
  {
   "cell_type": "code",
   "execution_count": 110,
   "id": "83250aed",
   "metadata": {},
   "outputs": [
    {
     "data": {
      "text/html": [
       "<div>\n",
       "<style scoped>\n",
       "    .dataframe tbody tr th:only-of-type {\n",
       "        vertical-align: middle;\n",
       "    }\n",
       "\n",
       "    .dataframe tbody tr th {\n",
       "        vertical-align: top;\n",
       "    }\n",
       "\n",
       "    .dataframe thead th {\n",
       "        text-align: right;\n",
       "    }\n",
       "</style>\n",
       "<table border=\"1\" class=\"dataframe\">\n",
       "  <thead>\n",
       "    <tr style=\"text-align: right;\">\n",
       "      <th></th>\n",
       "      <th>Comments</th>\n",
       "      <th>Comment_time</th>\n",
       "      <th>Comment upvotes</th>\n",
       "    </tr>\n",
       "  </thead>\n",
       "  <tbody>\n",
       "    <tr>\n",
       "      <th>495</th>\n",
       "      <td>Comeback and aggression</td>\n",
       "      <td>1 year ago</td>\n",
       "      <td></td>\n",
       "    </tr>\n",
       "    <tr>\n",
       "      <th>496</th>\n",
       "      <td></td>\n",
       "      <td>10 days ago</td>\n",
       "      <td></td>\n",
       "    </tr>\n",
       "    <tr>\n",
       "      <th>497</th>\n",
       "      <td></td>\n",
       "      <td>1 year ago</td>\n",
       "      <td></td>\n",
       "    </tr>\n",
       "    <tr>\n",
       "      <th>498</th>\n",
       "      <td>Believe in urself.. Viratians</td>\n",
       "      <td>1 year ago</td>\n",
       "      <td>1</td>\n",
       "    </tr>\n",
       "    <tr>\n",
       "      <th>499</th>\n",
       "      <td></td>\n",
       "      <td>1 year ago</td>\n",
       "      <td></td>\n",
       "    </tr>\n",
       "  </tbody>\n",
       "</table>\n",
       "</div>"
      ],
      "text/plain": [
       "                          Comments Comment_time Comment upvotes\n",
       "495        Comeback and aggression   1 year ago                \n",
       "496                                 10 days ago                \n",
       "497                                  1 year ago                \n",
       "498  Believe in urself.. Viratians   1 year ago               1\n",
       "499                                  1 year ago                "
      ]
     },
     "execution_count": 110,
     "metadata": {},
     "output_type": "execute_result"
    }
   ],
   "source": [
    "#Printing dataframe\n",
    "Youtube.tail()"
   ]
  },
  {
   "cell_type": "code",
   "execution_count": 111,
   "id": "ea516110",
   "metadata": {},
   "outputs": [],
   "source": [
    "driver.close()"
   ]
  },
  {
   "cell_type": "markdown",
   "id": "1660c5bf",
   "metadata": {},
   "source": [
    "# 9. Write a python program to scrape a data for all available Hostels from https://www.hostelworld.com/ in “London” location. You have to scrape hostel name, distance from city centre, ratings, total reviews, overall reviews, privates from price, dorms from price, facilities and property description"
   ]
  },
  {
   "cell_type": "code",
   "execution_count": 56,
   "id": "45036836",
   "metadata": {},
   "outputs": [],
   "source": [
    "import selenium\n",
    "import pandas as pd\n",
    "import time\n",
    "from bs4 import BeautifulSoup\n",
    "from selenium import webdriver\n",
    "from selenium.common.exceptions import StaleElementReferenceException, NoSuchElementException\n",
    "import requests\n",
    "from selenium.webdriver.common.by import By"
   ]
  },
  {
   "cell_type": "code",
   "execution_count": 57,
   "id": "16aba8d5",
   "metadata": {},
   "outputs": [],
   "source": [
    "#Activating the chrome browser\n",
    "driver = webdriver.Chrome()"
   ]
  },
  {
   "cell_type": "code",
   "execution_count": 58,
   "id": "4bc2e902",
   "metadata": {},
   "outputs": [],
   "source": [
    "driver.get('https://www.hostelworld.com/')"
   ]
  },
  {
   "cell_type": "code",
   "execution_count": 59,
   "id": "739b89f9",
   "metadata": {},
   "outputs": [],
   "source": [
    "location = driver.find_element(By.XPATH,'//input[@class=\"native-input\"]')\n",
    "location.click()"
   ]
  },
  {
   "cell_type": "code",
   "execution_count": 60,
   "id": "16ec081f",
   "metadata": {},
   "outputs": [],
   "source": [
    "search = driver.find_element(By.XPATH,'//input[@class=\"native-input\"]')\n",
    "search.send_keys('London')"
   ]
  },
  {
   "cell_type": "code",
   "execution_count": null,
   "id": "6e630ab1",
   "metadata": {},
   "outputs": [],
   "source": [
    "tap = driver.find_element(By.XPATH,'//div[@class=\"item-text\"]')\n",
    "tap.click()"
   ]
  },
  {
   "cell_type": "code",
   "execution_count": 53,
   "id": "c9eff5e6",
   "metadata": {},
   "outputs": [],
   "source": [
    "hostel_name = []\n",
    "location = []\n",
    "ratings = []\n",
    "total_reviews = []\n",
    "overall_reviews = []\n",
    "private_price = []\n",
    "Facilities = []\n",
    "dorm_price = []\n",
    "description = []"
   ]
  },
  {
   "cell_type": "code",
   "execution_count": 43,
   "id": "4c62e716",
   "metadata": {},
   "outputs": [],
   "source": [
    "hostel = driver.find_elements(By.XPATH, '//div[@class=\"property-name\"]')\n",
    "try:\n",
    "    for i in hostel:\n",
    "        hostel_name.append(i.text)\n",
    "except:\n",
    "    hostel_name.append(\"-\")"
   ]
  },
  {
   "cell_type": "code",
   "execution_count": 44,
   "id": "92012f1a",
   "metadata": {},
   "outputs": [],
   "source": [
    "distance = driver.find_elements(By.XPATH, '//div[@class=\"property-distance\"]')\n",
    "try:\n",
    "    for i in distance:\n",
    "        location.append(i.text)\n",
    "except:\n",
    "    location.append(\"-\")"
   ]
  },
  {
   "cell_type": "code",
   "execution_count": 45,
   "id": "b8a87ff0",
   "metadata": {},
   "outputs": [],
   "source": [
    "information = driver.find_elements(By.XPATH, '//span[@class=\"number\"]')\n",
    "try:\n",
    "    for i in information:\n",
    "        ratings.append(i.text.split(\"\\n\")[0])\n",
    "except:\n",
    "    ratings.append(\"-\")"
   ]
  },
  {
   "cell_type": "code",
   "execution_count": 46,
   "id": "76aac9d7",
   "metadata": {},
   "outputs": [],
   "source": [
    "reviews = driver.find_elements(By.XPATH,'//span[@class=\"left-margin\"]')\n",
    "try:\n",
    "    for i in reviews:\n",
    "        total_reviews.append(i.text)\n",
    "except:\n",
    "    total_reviews.append(\"-\")"
   ]
  },
  {
   "cell_type": "code",
   "execution_count": 47,
   "id": "c1909e5b",
   "metadata": {},
   "outputs": [],
   "source": [
    "review = driver.find_elements(By.XPATH,'//span[@class=\"keyword\"]')\n",
    "try:\n",
    "    for i in review:\n",
    "        overall_reviews.append(i.text)\n",
    "except:\n",
    "    overall_reviews.append(\"-\")"
   ]
  },
  {
   "cell_type": "code",
   "execution_count": 48,
   "id": "56f6fe8d",
   "metadata": {},
   "outputs": [],
   "source": [
    "private = driver.find_elements(By.XPATH,'//div[@class=\"accommodation-price unavailable\"]')\n",
    "try:\n",
    "    for i in private:\n",
    "        private_price.append(i.text.replace(\"\\n\", \"\"))\n",
    "except:\n",
    "    private_price.append(\"-\")"
   ]
  },
  {
   "cell_type": "code",
   "execution_count": 49,
   "id": "bbaf654d",
   "metadata": {},
   "outputs": [],
   "source": [
    "dorm = driver.find_elements(By.XPATH,'//strong[@class=\"current\"]')\n",
    "for i in dorm:\n",
    "    dorm_price.append(i.text.replace(\"\\n\", \"\"))"
   ]
  },
  {
   "cell_type": "code",
   "execution_count": 50,
   "id": "75a15c2c",
   "metadata": {},
   "outputs": [],
   "source": [
    "facilities = driver.find_elements(By.XPATH,'//div[@class=\"icon-container badge-icon\"]')\n",
    "try:\n",
    "    for i in facilities:\n",
    "        Facilities.append(i.text)\n",
    "except:\n",
    "    Facilities.append(\"-\")"
   ]
  },
  {
   "cell_type": "code",
   "execution_count": 51,
   "id": "6d4146e0",
   "metadata": {},
   "outputs": [],
   "source": [
    "try:\n",
    "    disc = driver.find_element(By.XPATH,'//div[@class=\"icon-container badge-icon\"]')\n",
    "    description.append(disc.text)\n",
    "except NoSuchElementException:\n",
    "    description.append('-')"
   ]
  },
  {
   "cell_type": "code",
   "execution_count": 52,
   "id": "e00d405d",
   "metadata": {},
   "outputs": [
    {
     "data": {
      "text/html": [
       "<div>\n",
       "<style scoped>\n",
       "    .dataframe tbody tr th:only-of-type {\n",
       "        vertical-align: middle;\n",
       "    }\n",
       "\n",
       "    .dataframe tbody tr th {\n",
       "        vertical-align: top;\n",
       "    }\n",
       "\n",
       "    .dataframe thead th {\n",
       "        text-align: right;\n",
       "    }\n",
       "</style>\n",
       "<table border=\"1\" class=\"dataframe\">\n",
       "  <thead>\n",
       "    <tr style=\"text-align: right;\">\n",
       "      <th></th>\n",
       "      <th>Hostel_name</th>\n",
       "      <th>Locations</th>\n",
       "      <th>Ratings</th>\n",
       "      <th>Total_reviews</th>\n",
       "      <th>Overall_reviews</th>\n",
       "      <th>Private_price</th>\n",
       "      <th>Dorm_price</th>\n",
       "      <th>facilities</th>\n",
       "    </tr>\n",
       "  </thead>\n",
       "  <tbody>\n",
       "    <tr>\n",
       "      <th>0</th>\n",
       "      <td>St Christopher's Village</td>\n",
       "      <td>Hostel\\n- 1.8km from city centre</td>\n",
       "      <td>8.2</td>\n",
       "      <td>(12485)</td>\n",
       "      <td>Fabulous</td>\n",
       "      <td>No Privates Available</td>\n",
       "      <td>₹12,310</td>\n",
       "      <td></td>\n",
       "    </tr>\n",
       "    <tr>\n",
       "      <th>1</th>\n",
       "      <td>Palmers Lodge - Swiss Cottage</td>\n",
       "      <td>Hostel\\n- 5.4km from city centre</td>\n",
       "      <td>9.0</td>\n",
       "      <td>(944)</td>\n",
       "      <td>Superb</td>\n",
       "      <td>No Privates Available</td>\n",
       "      <td>₹2,459</td>\n",
       "      <td></td>\n",
       "    </tr>\n",
       "    <tr>\n",
       "      <th>2</th>\n",
       "      <td>St Christopher's Village</td>\n",
       "      <td>Hostel\\n- 3km from city centre</td>\n",
       "      <td>8.2</td>\n",
       "      <td>(7806)</td>\n",
       "      <td>Fabulous</td>\n",
       "      <td>No Privates Available</td>\n",
       "      <td>₹15,656</td>\n",
       "      <td></td>\n",
       "    </tr>\n",
       "    <tr>\n",
       "      <th>3</th>\n",
       "      <td>Urbany Hostel London</td>\n",
       "      <td>Hostel\\n- 6.1km from city centre</td>\n",
       "      <td>9.5</td>\n",
       "      <td>(2003)</td>\n",
       "      <td>Superb</td>\n",
       "      <td>No Privates Available</td>\n",
       "      <td>₹4,877</td>\n",
       "      <td></td>\n",
       "    </tr>\n",
       "    <tr>\n",
       "      <th>4</th>\n",
       "      <td>Generator London</td>\n",
       "      <td>Hostel\\n- 1.7km from city centre</td>\n",
       "      <td>7.6</td>\n",
       "      <td>(5135)</td>\n",
       "      <td>Very Good</td>\n",
       "      <td>No Privates Available</td>\n",
       "      <td>₹11,435</td>\n",
       "      <td></td>\n",
       "    </tr>\n",
       "    <tr>\n",
       "      <th>5</th>\n",
       "      <td>NX London Hostel</td>\n",
       "      <td>Hostel\\n- 6.5km from city centre</td>\n",
       "      <td>8.0</td>\n",
       "      <td>(15719)</td>\n",
       "      <td>Fabulous</td>\n",
       "      <td>No Privates Available</td>\n",
       "      <td>₹2,544</td>\n",
       "      <td></td>\n",
       "    </tr>\n",
       "    <tr>\n",
       "      <th>6</th>\n",
       "      <td>Safestay London Elephant &amp; Castle</td>\n",
       "      <td>Hostel\\n- 5.8km from city centre</td>\n",
       "      <td>7.1</td>\n",
       "      <td>(1670)</td>\n",
       "      <td>Very Good</td>\n",
       "      <td>No Privates Available</td>\n",
       "      <td>₹2,292</td>\n",
       "      <td></td>\n",
       "    </tr>\n",
       "    <tr>\n",
       "      <th>7</th>\n",
       "      <td>Palmers Lodge - Swiss Cottage</td>\n",
       "      <td>Hostel\\n- 3.2km from city centre</td>\n",
       "      <td>9.0</td>\n",
       "      <td>(421)</td>\n",
       "      <td>Superb</td>\n",
       "      <td>No Privates Available</td>\n",
       "      <td>₹2,158</td>\n",
       "      <td></td>\n",
       "    </tr>\n",
       "    <tr>\n",
       "      <th>8</th>\n",
       "      <td>Safestay London Kensington Holland Park</td>\n",
       "      <td>Hostel\\n- 10km from city centre</td>\n",
       "      <td>7.0</td>\n",
       "      <td>(5101)</td>\n",
       "      <td>Very Good</td>\n",
       "      <td>No Privates Available</td>\n",
       "      <td>₹2,625</td>\n",
       "      <td></td>\n",
       "    </tr>\n",
       "    <tr>\n",
       "      <th>9</th>\n",
       "      <td>Clink261</td>\n",
       "      <td>Hostel\\n- 1.7km from city centre</td>\n",
       "      <td>8.0</td>\n",
       "      <td>(240)</td>\n",
       "      <td>Fabulous</td>\n",
       "      <td>No Privates Available</td>\n",
       "      <td>₹1,836</td>\n",
       "      <td></td>\n",
       "    </tr>\n",
       "    <tr>\n",
       "      <th>10</th>\n",
       "      <td>No.8 Willesden Hostel London</td>\n",
       "      <td>Hostel\\n- 4.2km from city centre</td>\n",
       "      <td>6.9</td>\n",
       "      <td>(4456)</td>\n",
       "      <td>Good</td>\n",
       "      <td>No Privates Available</td>\n",
       "      <td>₹15,848</td>\n",
       "      <td></td>\n",
       "    </tr>\n",
       "    <tr>\n",
       "      <th>11</th>\n",
       "      <td>Destinations Hostels @ The Gallery</td>\n",
       "      <td>Hostel\\n- 5.7km from city centre</td>\n",
       "      <td>9.2</td>\n",
       "      <td>(3587)</td>\n",
       "      <td>Superb</td>\n",
       "      <td>No Privates Available</td>\n",
       "      <td>₹5,283</td>\n",
       "      <td></td>\n",
       "    </tr>\n",
       "    <tr>\n",
       "      <th>12</th>\n",
       "      <td>Phoenix Hostel</td>\n",
       "      <td>Hostel\\n- 9km from city centre</td>\n",
       "      <td>7.3</td>\n",
       "      <td>(4072)</td>\n",
       "      <td>Very Good</td>\n",
       "      <td>No Privates Available</td>\n",
       "      <td>₹1,247</td>\n",
       "      <td></td>\n",
       "    </tr>\n",
       "    <tr>\n",
       "      <th>13</th>\n",
       "      <td>Queen Elizabeth Chelsea</td>\n",
       "      <td>Hostel\\n- 11.9km from city centre</td>\n",
       "      <td>7.7</td>\n",
       "      <td>(4527)</td>\n",
       "      <td>Very Good</td>\n",
       "      <td>No Privates Available</td>\n",
       "      <td>₹5,332</td>\n",
       "      <td></td>\n",
       "    </tr>\n",
       "    <tr>\n",
       "      <th>14</th>\n",
       "      <td>No.8 Seven Sisters</td>\n",
       "      <td>Hostel\\n- 5.1km from city centre</td>\n",
       "      <td>5.6</td>\n",
       "      <td>(52)</td>\n",
       "      <td>Fabulous</td>\n",
       "      <td>No Privates Available</td>\n",
       "      <td>₹2,488</td>\n",
       "      <td></td>\n",
       "    </tr>\n",
       "    <tr>\n",
       "      <th>15</th>\n",
       "      <td>London Backpackers</td>\n",
       "      <td>Hostel\\n- 3.6km from city centre</td>\n",
       "      <td>8.0</td>\n",
       "      <td>(808)</td>\n",
       "      <td>Fabulous</td>\n",
       "      <td>No Privates Available</td>\n",
       "      <td>₹2,023</td>\n",
       "      <td></td>\n",
       "    </tr>\n",
       "    <tr>\n",
       "      <th>16</th>\n",
       "      <td>Hostelle - women only hostel London</td>\n",
       "      <td>Hostel\\n- 7.5km from city centre</td>\n",
       "      <td>8.9</td>\n",
       "      <td>(4307)</td>\n",
       "      <td>Fabulous</td>\n",
       "      <td>No Privates Available</td>\n",
       "      <td>₹1,484</td>\n",
       "      <td></td>\n",
       "    </tr>\n",
       "    <tr>\n",
       "      <th>17</th>\n",
       "      <td>Prime Backpackers Angel</td>\n",
       "      <td>Hostel\\n- 3.3km from city centre</td>\n",
       "      <td>8.0</td>\n",
       "      <td>(2914)</td>\n",
       "      <td>Very Good</td>\n",
       "      <td>No Privates Available</td>\n",
       "      <td>₹7,109</td>\n",
       "      <td></td>\n",
       "    </tr>\n",
       "    <tr>\n",
       "      <th>18</th>\n",
       "      <td>St Christopher's Hammersmith</td>\n",
       "      <td>Hostel\\n- 4.3km from city centre</td>\n",
       "      <td>7.5</td>\n",
       "      <td>(4096)</td>\n",
       "      <td>Fabulous</td>\n",
       "      <td>No Dorms Available</td>\n",
       "      <td>₹1,930</td>\n",
       "      <td></td>\n",
       "    </tr>\n",
       "    <tr>\n",
       "      <th>19</th>\n",
       "      <td>Kabannas London St Pancras</td>\n",
       "      <td>Hostel\\n- 5.5km from city centre</td>\n",
       "      <td>8.2</td>\n",
       "      <td>(1924)</td>\n",
       "      <td>Very Good</td>\n",
       "      <td>No Privates Available</td>\n",
       "      <td>₹4,130</td>\n",
       "      <td></td>\n",
       "    </tr>\n",
       "  </tbody>\n",
       "</table>\n",
       "</div>"
      ],
      "text/plain": [
       "                                Hostel_name  \\\n",
       "0                  St Christopher's Village   \n",
       "1             Palmers Lodge - Swiss Cottage   \n",
       "2                  St Christopher's Village   \n",
       "3                      Urbany Hostel London   \n",
       "4                          Generator London   \n",
       "5                          NX London Hostel   \n",
       "6         Safestay London Elephant & Castle   \n",
       "7             Palmers Lodge - Swiss Cottage   \n",
       "8   Safestay London Kensington Holland Park   \n",
       "9                                  Clink261   \n",
       "10             No.8 Willesden Hostel London   \n",
       "11       Destinations Hostels @ The Gallery   \n",
       "12                           Phoenix Hostel   \n",
       "13                  Queen Elizabeth Chelsea   \n",
       "14                       No.8 Seven Sisters   \n",
       "15                       London Backpackers   \n",
       "16      Hostelle - women only hostel London   \n",
       "17                  Prime Backpackers Angel   \n",
       "18             St Christopher's Hammersmith   \n",
       "19               Kabannas London St Pancras   \n",
       "\n",
       "                            Locations Ratings Total_reviews Overall_reviews  \\\n",
       "0    Hostel\\n- 1.8km from city centre     8.2       (12485)        Fabulous   \n",
       "1    Hostel\\n- 5.4km from city centre     9.0         (944)          Superb   \n",
       "2      Hostel\\n- 3km from city centre     8.2        (7806)        Fabulous   \n",
       "3    Hostel\\n- 6.1km from city centre     9.5        (2003)          Superb   \n",
       "4    Hostel\\n- 1.7km from city centre     7.6        (5135)       Very Good   \n",
       "5    Hostel\\n- 6.5km from city centre     8.0       (15719)        Fabulous   \n",
       "6    Hostel\\n- 5.8km from city centre     7.1        (1670)       Very Good   \n",
       "7    Hostel\\n- 3.2km from city centre     9.0         (421)          Superb   \n",
       "8     Hostel\\n- 10km from city centre     7.0        (5101)       Very Good   \n",
       "9    Hostel\\n- 1.7km from city centre     8.0         (240)        Fabulous   \n",
       "10   Hostel\\n- 4.2km from city centre     6.9        (4456)            Good   \n",
       "11   Hostel\\n- 5.7km from city centre     9.2        (3587)          Superb   \n",
       "12     Hostel\\n- 9km from city centre     7.3        (4072)       Very Good   \n",
       "13  Hostel\\n- 11.9km from city centre     7.7        (4527)       Very Good   \n",
       "14   Hostel\\n- 5.1km from city centre     5.6          (52)        Fabulous   \n",
       "15   Hostel\\n- 3.6km from city centre     8.0         (808)        Fabulous   \n",
       "16   Hostel\\n- 7.5km from city centre     8.9        (4307)        Fabulous   \n",
       "17   Hostel\\n- 3.3km from city centre     8.0        (2914)       Very Good   \n",
       "18   Hostel\\n- 4.3km from city centre     7.5        (4096)        Fabulous   \n",
       "19   Hostel\\n- 5.5km from city centre     8.2        (1924)       Very Good   \n",
       "\n",
       "            Private_price Dorm_price facilities  \n",
       "0   No Privates Available    ₹12,310             \n",
       "1   No Privates Available     ₹2,459             \n",
       "2   No Privates Available    ₹15,656             \n",
       "3   No Privates Available     ₹4,877             \n",
       "4   No Privates Available    ₹11,435             \n",
       "5   No Privates Available     ₹2,544             \n",
       "6   No Privates Available     ₹2,292             \n",
       "7   No Privates Available     ₹2,158             \n",
       "8   No Privates Available     ₹2,625             \n",
       "9   No Privates Available     ₹1,836             \n",
       "10  No Privates Available    ₹15,848             \n",
       "11  No Privates Available     ₹5,283             \n",
       "12  No Privates Available     ₹1,247             \n",
       "13  No Privates Available     ₹5,332             \n",
       "14  No Privates Available     ₹2,488             \n",
       "15  No Privates Available     ₹2,023             \n",
       "16  No Privates Available     ₹1,484             \n",
       "17  No Privates Available     ₹7,109             \n",
       "18     No Dorms Available     ₹1,930             \n",
       "19  No Privates Available     ₹4,130             "
      ]
     },
     "execution_count": 52,
     "metadata": {},
     "output_type": "execute_result"
    }
   ],
   "source": [
    "HOSTEL=pd.DataFrame({})\n",
    "HOSTEL['Hostel_name']=hostel_name[:20]\n",
    "HOSTEL['Locations']=location[:20]\n",
    "HOSTEL['Ratings']=ratings[:20]\n",
    "HOSTEL['Total_reviews']=total_reviews[:20]\n",
    "HOSTEL['Overall_reviews']=overall_reviews[:20]\n",
    "HOSTEL['Private_price']=private_price[:20]\n",
    "HOSTEL['Dorm_price']=dorm_price[:20]\n",
    "HOSTEL['facilities']=Facilities[:20]\n",
    "HOSTEL"
   ]
  },
  {
   "cell_type": "code",
   "execution_count": 62,
   "id": "0c71d4ec",
   "metadata": {},
   "outputs": [],
   "source": [
    "driver.close()"
   ]
  },
  {
   "cell_type": "code",
   "execution_count": null,
   "id": "0a0cb086",
   "metadata": {},
   "outputs": [],
   "source": []
  }
 ],
 "metadata": {
  "kernelspec": {
   "display_name": "Python 3 (ipykernel)",
   "language": "python",
   "name": "python3"
  },
  "language_info": {
   "codemirror_mode": {
    "name": "ipython",
    "version": 3
   },
   "file_extension": ".py",
   "mimetype": "text/x-python",
   "name": "python",
   "nbconvert_exporter": "python",
   "pygments_lexer": "ipython3",
   "version": "3.9.13"
  }
 },
 "nbformat": 4,
 "nbformat_minor": 5
}
